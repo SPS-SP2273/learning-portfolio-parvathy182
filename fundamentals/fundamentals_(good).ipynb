{
 "cells": [
  {
   "attachments": {},
   "cell_type": "markdown",
   "id": "123456",
   "metadata": {},
   "source": [
    "<div style=\"text-align:left;font-size:2em\"><span style=\"font-weight:bolder;font-size:1.25em\">SP2273 | Learning Portfolio</span><br><br><span style=\"font-weight:bold;color:darkred\">Fundamentals (Good)</span></div>"
   ]
  },
  {
   "attachments": {},
   "cell_type": "markdown",
   "id": "3eea4669",
   "metadata": {},
   "source": [
    "# What to expect in this chapter"
   ]
  },
  {
   "attachments": {},
   "cell_type": "markdown",
   "id": "22b1cf9e",
   "metadata": {},
   "source": [
    "# 1 There is more to if"
   ]
  },
  {
   "cell_type": "markdown",
   "id": "df7d2800-ce3f-44ef-bf9d-aa5f425921e6",
   "metadata": {},
   "source": [
    "Use 'elif' to create more branches of the if statement"
   ]
  },
  {
   "cell_type": "code",
   "execution_count": 71,
   "id": "c9db60ca-8196-4e05-96e4-c5ac127203aa",
   "metadata": {},
   "outputs": [
    {
     "name": "stdout",
     "output_type": "stream",
     "text": [
      "Hello Batman!\n"
     ]
    }
   ],
   "source": [
    "name = 'Batman'\n",
    "\n",
    "if name == 'Batman':\n",
    "    print('Hello Batman!')\n",
    "elif name == 'Robin':\n",
    "    print('Hello Sidekick!')\n",
    "else:\n",
    "    print('Hello World!')"
   ]
  },
  {
   "cell_type": "code",
   "execution_count": 3,
   "id": "ea11ab7b-f093-42f7-ab9b-cf70eec672ae",
   "metadata": {},
   "outputs": [
    {
     "name": "stdout",
     "output_type": "stream",
     "text": [
      "Hello Sidekick!\n"
     ]
    }
   ],
   "source": [
    "if name == 'Batman':\n",
    "    print('Hello Batman!')\n",
    "elif name == 'Robin':\n",
    "    print('Hello Sidekick!')\n",
    "else:\n",
    "    print('Hello World!')"
   ]
  },
  {
   "attachments": {},
   "cell_type": "markdown",
   "id": "eaf8eba5",
   "metadata": {},
   "source": [
    "# 2 Asking questions"
   ]
  },
  {
   "cell_type": "code",
   "execution_count": 4,
   "id": "b7466026-562e-4b42-8ef0-8d20f00a73b2",
   "metadata": {},
   "outputs": [],
   "source": [
    "fruits = ['apple', 'banana', 'pineapple', 'jackfruit']\n",
    "vegetables = ['celery', 'potato', 'broccoli', 'kale']"
   ]
  },
  {
   "cell_type": "markdown",
   "id": "16982c60-1e8d-4ee5-957c-d3e809f286df",
   "metadata": {},
   "source": [
    "```EXERCISE 1```"
   ]
  },
  {
   "cell_type": "code",
   "execution_count": 5,
   "id": "09dddacc-6d55-4a03-9dc8-b58c3ca5b969",
   "metadata": {},
   "outputs": [
    {
     "data": {
      "text/plain": [
       "True"
      ]
     },
     "execution_count": 5,
     "metadata": {},
     "output_type": "execute_result"
    }
   ],
   "source": [
    "'apple' in fruits #Is 'apple' in list fruits?"
   ]
  },
  {
   "cell_type": "markdown",
   "id": "e8d0fb31-eb01-4899-8937-e6c9f369a64c",
   "metadata": {},
   "source": [
    "```EXERCISE 2```"
   ]
  },
  {
   "cell_type": "code",
   "execution_count": 6,
   "id": "5e7a9334-285b-4f1e-a8f9-9de8b9ca8a3c",
   "metadata": {},
   "outputs": [
    {
     "data": {
      "text/plain": [
       "False"
      ]
     },
     "execution_count": 6,
     "metadata": {},
     "output_type": "execute_result"
    }
   ],
   "source": [
    "'peach' in fruits #Is 'peach' in list fruits?"
   ]
  },
  {
   "cell_type": "markdown",
   "id": "b0370c16-5f14-44be-9eb6-43830a7ada7f",
   "metadata": {},
   "source": [
    "```EXERCISE 3```"
   ]
  },
  {
   "cell_type": "code",
   "execution_count": 7,
   "id": "d2ab6fec-9d15-4415-9c42-5310eee01487",
   "metadata": {},
   "outputs": [
    {
     "data": {
      "text/plain": [
       "True"
      ]
     },
     "execution_count": 7,
     "metadata": {},
     "output_type": "execute_result"
    }
   ],
   "source": [
    "'peach' not in fruits #Is 'peach' not in list fruits?"
   ]
  },
  {
   "cell_type": "markdown",
   "id": "cba54071-28c1-4fca-a1e9-d50169713a09",
   "metadata": {},
   "source": [
    "```EXERCISE 4```"
   ]
  },
  {
   "cell_type": "code",
   "execution_count": 8,
   "id": "95a499ad-36de-495f-b462-3f761d371f07",
   "metadata": {},
   "outputs": [
    {
     "data": {
      "text/plain": [
       "True"
      ]
     },
     "execution_count": 8,
     "metadata": {},
     "output_type": "execute_result"
    }
   ],
   "source": [
    "('apple' in fruits) and ('celery' in vegetables) #Is ‘apple’ in the list fruits and is ‘celery’ in the list vegetables?"
   ]
  },
  {
   "cell_type": "markdown",
   "id": "8cfd827c-374a-4f0a-867a-21b1bf6ccc64",
   "metadata": {},
   "source": [
    "```EXERCISE 5```"
   ]
  },
  {
   "cell_type": "code",
   "execution_count": 9,
   "id": "e490c3e1-2d51-4b9a-99e6-34993403d1a6",
   "metadata": {},
   "outputs": [
    {
     "data": {
      "text/plain": [
       "True"
      ]
     },
     "execution_count": 9,
     "metadata": {},
     "output_type": "execute_result"
    }
   ],
   "source": [
    "('apple' in fruits) or ('celery' in vegetables) #Is ‘apple’ in the list fruits or is ‘celery’ in the list vegetables?"
   ]
  },
  {
   "cell_type": "markdown",
   "id": "1bc473df-ba28-4014-b2a2-c98a9626ee12",
   "metadata": {},
   "source": [
    "```EXERCISE 6 ```"
   ]
  },
  {
   "cell_type": "code",
   "execution_count": 10,
   "id": "e61d2a59-efe6-45ae-af37-f51f60ee4577",
   "metadata": {},
   "outputs": [
    {
     "data": {
      "text/plain": [
       "True"
      ]
     },
     "execution_count": 10,
     "metadata": {},
     "output_type": "execute_result"
    }
   ],
   "source": [
    "'app' in 'apple' #Is 'app' in 'apple'?"
   ]
  },
  {
   "cell_type": "code",
   "execution_count": 12,
   "id": "caf44e93-81ef-4853-82ca-e4d2e862cb4d",
   "metadata": {},
   "outputs": [
    {
     "data": {
      "text/plain": [
       "False"
      ]
     },
     "execution_count": 12,
     "metadata": {},
     "output_type": "execute_result"
    }
   ],
   "source": [
    "'app' in fruits #Is 'app' in the list fruits?"
   ]
  },
  {
   "attachments": {},
   "cell_type": "markdown",
   "id": "f2838352",
   "metadata": {},
   "source": [
    "# 3 Remember"
   ]
  },
  {
   "cell_type": "markdown",
   "id": "73707bfc-e26f-47f1-a181-887fdc288e1f",
   "metadata": {},
   "source": [
    "'not', 'in', 'and', 'or' are python keywords to ask questions\n",
    "1. Python can only compare similar types (words with words and numbers with numbers)\n",
    "2. Python can compare words"
   ]
  },
  {
   "cell_type": "code",
   "execution_count": 15,
   "id": "ed5da946-af09-40c7-8202-a17ba5108f25",
   "metadata": {},
   "outputs": [
    {
     "data": {
      "text/plain": [
       "False"
      ]
     },
     "execution_count": 15,
     "metadata": {},
     "output_type": "execute_result"
    }
   ],
   "source": [
    "'apples' > 'oranges' #based on the nmber assigned to letters and the starting letter"
   ]
  },
  {
   "attachments": {},
   "cell_type": "markdown",
   "id": "4fcca2e9",
   "metadata": {},
   "source": [
    "## 3.1 Asking Math questions"
   ]
  },
  {
   "cell_type": "code",
   "execution_count": 16,
   "id": "eefcb6f0-dfb1-43fa-b796-f814039cadd8",
   "metadata": {},
   "outputs": [],
   "source": [
    "#Math questions and symbols to ask questions"
   ]
  },
  {
   "cell_type": "markdown",
   "id": "eaf21bae-5ad9-4721-b9c1-034d2ac79033",
   "metadata": {},
   "source": [
    "|Question/Condition|Python Symbols|\n",
    "|:--|--:|\n",
    "|Equals?|==|\n",
    "|Not equal?|!=|\n",
    "|Less than?|<|\n",
    "|More than|>|\n",
    "|Less than or equal?|<=|\n",
    "|More than or equal?|>=|"
   ]
  },
  {
   "cell_type": "code",
   "execution_count": 22,
   "id": "243376b4-832c-405c-9583-9e3976c993ed",
   "metadata": {},
   "outputs": [
    {
     "data": {
      "text/plain": [
       "True"
      ]
     },
     "execution_count": 22,
     "metadata": {},
     "output_type": "execute_result"
    }
   ],
   "source": [
    "#Python accepts the following syntax:\n",
    "x=10\n",
    "x > 5 and x < 15"
   ]
  },
  {
   "cell_type": "code",
   "execution_count": 23,
   "id": "1f441727-a2c9-447e-846d-b5a4d209b74f",
   "metadata": {},
   "outputs": [
    {
     "data": {
      "text/plain": [
       "True"
      ]
     },
     "execution_count": 23,
     "metadata": {},
     "output_type": "execute_result"
    }
   ],
   "source": [
    "(x > 5) and (x < 15)"
   ]
  },
  {
   "cell_type": "code",
   "execution_count": 24,
   "id": "64f9e7a4-ae2d-48dc-a31d-707e3e8e1748",
   "metadata": {},
   "outputs": [
    {
     "data": {
      "text/plain": [
       "True"
      ]
     },
     "execution_count": 24,
     "metadata": {},
     "output_type": "execute_result"
    }
   ],
   "source": [
    "5 < x < 15"
   ]
  },
  {
   "attachments": {},
   "cell_type": "markdown",
   "id": "51e7909f",
   "metadata": {},
   "source": [
    "# 4 Python stores information in different formats or types"
   ]
  },
  {
   "cell_type": "markdown",
   "id": "3ce2a0a9-3c75-4530-9198-824156caa2fb",
   "metadata": {},
   "source": [
    "```Example 1```"
   ]
  },
  {
   "cell_type": "code",
   "execution_count": 25,
   "id": "0584c5be-5768-4e9c-9374-1a5a34bc5d2e",
   "metadata": {},
   "outputs": [
    {
     "name": "stdout",
     "output_type": "stream",
     "text": [
      "1 <class 'int'>\n"
     ]
    }
   ],
   "source": [
    "#storing as an integer (int) - drops the decimal portion\n",
    "x = int(1.234)\n",
    "print(x, type(x))"
   ]
  },
  {
   "cell_type": "markdown",
   "id": "beed8d7e-fd3f-45d4-a9ad-1274f3215a73",
   "metadata": {},
   "source": [
    "```Example 2```"
   ]
  },
  {
   "cell_type": "code",
   "execution_count": 26,
   "id": "25e0a2f4-f48c-42a4-8f67-03f2ce7dd248",
   "metadata": {},
   "outputs": [
    {
     "name": "stdout",
     "output_type": "stream",
     "text": [
      "1.234 <class 'str'>\n"
     ]
    }
   ],
   "source": [
    "#stores as english word (str)\n",
    "x = str(1.234)\n",
    "print(x, type(x))"
   ]
  },
  {
   "cell_type": "markdown",
   "id": "27c48435-eac3-4827-b532-f7aa0b7a6f91",
   "metadata": {},
   "source": [
    "```Example 3```"
   ]
  },
  {
   "cell_type": "code",
   "execution_count": 27,
   "id": "ecec34d7-0b67-439c-b942-d3c1e2997584",
   "metadata": {},
   "outputs": [
    {
     "name": "stdout",
     "output_type": "stream",
     "text": [
      "1.234 <class 'float'>\n"
     ]
    }
   ],
   "source": [
    "#stores as a decimal number (float)\n",
    "x = float(1.234)\n",
    "print(x, type(x))"
   ]
  },
  {
   "cell_type": "markdown",
   "id": "79f4cca0-deca-477f-a41b-e24d46729551",
   "metadata": {},
   "source": [
    "```Example 4```"
   ]
  },
  {
   "cell_type": "code",
   "execution_count": 28,
   "id": "e686f476-44bd-4ce4-8aee-b99e026bf25a",
   "metadata": {},
   "outputs": [
    {
     "name": "stdout",
     "output_type": "stream",
     "text": [
      "(1.234+0j) <class 'complex'>\n"
     ]
    }
   ],
   "source": [
    "#stores as a complex number (complex) - includes imajinary part of the number\n",
    "x = complex(1.234)\n",
    "print(x, type(x))"
   ]
  },
  {
   "cell_type": "markdown",
   "id": "978ba010-b3c4-46f6-8883-e8b42f4c9b44",
   "metadata": {},
   "source": [
    "```TYPECASTING - CASTING X TO THE TYPE FLOAT ```"
   ]
  },
  {
   "cell_type": "code",
   "execution_count": 29,
   "id": "b756b6bd-aec9-4661-aa36-c23c14562bdf",
   "metadata": {},
   "outputs": [
    {
     "name": "stdout",
     "output_type": "stream",
     "text": [
      "1.234 <class 'str'>\n"
     ]
    }
   ],
   "source": [
    "x = '1.234'        # x is a string\n",
    "print(x, type(x))"
   ]
  },
  {
   "cell_type": "code",
   "execution_count": 30,
   "id": "93ed18cf-c064-48ab-b461-196906373031",
   "metadata": {},
   "outputs": [
    {
     "name": "stdout",
     "output_type": "stream",
     "text": [
      "1.234 <class 'float'>\n"
     ]
    }
   ],
   "source": [
    "x = float(x)       # x is now a decimal number\n",
    "print(x, type(x))"
   ]
  },
  {
   "attachments": {},
   "cell_type": "markdown",
   "id": "68c9af7e",
   "metadata": {},
   "source": [
    "# 5 Never compare floats directly"
   ]
  },
  {
   "attachments": {},
   "cell_type": "markdown",
   "id": "1ac30623",
   "metadata": {},
   "source": [
    "## 5.1 The Problem"
   ]
  },
  {
   "cell_type": "markdown",
   "id": "47f9f24f-5779-4140-9db4-b321a503d0a1",
   "metadata": {},
   "source": [
    "There are round-off errors"
   ]
  },
  {
   "cell_type": "code",
   "execution_count": 31,
   "id": "f352974f-a91c-4b41-9009-01d7b6782588",
   "metadata": {},
   "outputs": [
    {
     "data": {
      "text/plain": [
       "False"
      ]
     },
     "execution_count": 31,
     "metadata": {},
     "output_type": "execute_result"
    }
   ],
   "source": [
    "a = 0.1\n",
    "a3 = 0.3\n",
    "a * 3 == a3"
   ]
  },
  {
   "cell_type": "code",
   "execution_count": 35,
   "id": "0932eafa-d03d-4dd6-b649-44af8eb15fb2",
   "metadata": {},
   "outputs": [
    {
     "data": {
      "text/plain": [
       "'0.29999999999999999'"
      ]
     },
     "execution_count": 35,
     "metadata": {},
     "output_type": "execute_result"
    }
   ],
   "source": [
    "f'{0.3:.17f}' #\":.nf\" for specific number of decimal places"
   ]
  },
  {
   "attachments": {},
   "cell_type": "markdown",
   "id": "10797353",
   "metadata": {},
   "source": [
    "## 5.2 A solution"
   ]
  },
  {
   "cell_type": "markdown",
   "id": "ba1708ab-382e-44f8-9790-96871bc3f724",
   "metadata": {},
   "source": [
    "Check if the variable is **close** to the expected values instead of it being exact"
   ]
  },
  {
   "cell_type": "code",
   "execution_count": 36,
   "id": "faabe05c-48a9-42de-ba9f-1dc96e763e83",
   "metadata": {},
   "outputs": [
    {
     "data": {
      "text/plain": [
       "True"
      ]
     },
     "execution_count": 36,
     "metadata": {},
     "output_type": "execute_result"
    }
   ],
   "source": [
    "eps = 1E-10\n",
    "abs(a * 3 - a3) < eps"
   ]
  },
  {
   "cell_type": "code",
   "execution_count": 38,
   "id": "c6e4fe0c-c59f-428b-af2e-009ebee9e97e",
   "metadata": {},
   "outputs": [],
   "source": [
    "#OR USE NUMPY\n",
    "import numpy as np"
   ]
  },
  {
   "cell_type": "code",
   "execution_count": 39,
   "id": "3d5129bd-b651-4edc-a209-f3d77f88ba1a",
   "metadata": {},
   "outputs": [
    {
     "data": {
      "text/plain": [
       "True"
      ]
     },
     "execution_count": 39,
     "metadata": {},
     "output_type": "execute_result"
    }
   ],
   "source": [
    "np.isclose(a * 3, a3)"
   ]
  },
  {
   "attachments": {},
   "cell_type": "markdown",
   "id": "ee253c41",
   "metadata": {},
   "source": [
    "# 6 Combining English and variables"
   ]
  },
  {
   "cell_type": "markdown",
   "id": "46b8ad2f-3b93-45e3-b7b1-3a9fb7ee5a3e",
   "metadata": {},
   "source": [
    "You can combine strings (english) with variables "
   ]
  },
  {
   "cell_type": "markdown",
   "id": "ad2c1db1-cc3c-4c3f-a9fe-ab84d122f9fd",
   "metadata": {},
   "source": [
    "```EXAMPLE 1```"
   ]
  },
  {
   "cell_type": "code",
   "execution_count": 40,
   "id": "8d8ebacf-2c8d-4e77-ade1-4568813ef9a0",
   "metadata": {},
   "outputs": [
    {
     "name": "stdout",
     "output_type": "stream",
     "text": [
      "Hello Batman!\n"
     ]
    }
   ],
   "source": [
    "name = \"Batman\"\n",
    "print(f\"Hello {name}!\")"
   ]
  },
  {
   "cell_type": "markdown",
   "id": "5027e8e5-455c-42c7-9def-797d7dbe28d7",
   "metadata": {},
   "source": [
    "```EXAMPLE 2```"
   ]
  },
  {
   "cell_type": "code",
   "execution_count": 41,
   "id": "c317bd82-ec05-49ce-b0f1-2405a94ee7ba",
   "metadata": {},
   "outputs": [
    {
     "name": "stdout",
     "output_type": "stream",
     "text": [
      "Hello BATMAN!\n"
     ]
    }
   ],
   "source": [
    "name = \"Batman\"\n",
    "print(f\"Hello {name.upper()}!\")"
   ]
  },
  {
   "cell_type": "markdown",
   "id": "7c8e885e-9de7-4e5a-8bfa-0c1a0426cb9a",
   "metadata": {},
   "source": [
    "```EXAMPLE 3```"
   ]
  },
  {
   "cell_type": "code",
   "execution_count": 42,
   "id": "43ae556f-8852-4799-8111-2251778e960d",
   "metadata": {},
   "outputs": [
    {
     "name": "stdout",
     "output_type": "stream",
     "text": [
      "The value of 10 squared is 100!\n"
     ]
    }
   ],
   "source": [
    "x = 10\n",
    "print(f\"The value of {x} squared is {x**2}!\")"
   ]
  },
  {
   "cell_type": "markdown",
   "id": "9a2dc934-70a0-4e4f-b57e-701ede6a8154",
   "metadata": {},
   "source": [
    "f and the {} are called the f-string/string interpolation."
   ]
  },
  {
   "cell_type": "markdown",
   "id": "1610d49f-9a5e-4b2f-8e9d-ce8579c52f7c",
   "metadata": {},
   "source": [
    "```EXAMPLE 1```"
   ]
  },
  {
   "cell_type": "code",
   "execution_count": 43,
   "id": "c123474d-5f9f-414c-8d7b-86ae2b11d7a7",
   "metadata": {},
   "outputs": [
    {
     "name": "stdout",
     "output_type": "stream",
     "text": [
      "Bruce Wayne is Batman.\n"
     ]
    }
   ],
   "source": [
    "text = 'Bruce Wayne is Batman.'\n",
    "print(f'{text}')"
   ]
  },
  {
   "cell_type": "code",
   "execution_count": 44,
   "id": "6518e1e4-0b4c-4bcc-953e-b0feddc941e3",
   "metadata": {},
   "outputs": [
    {
     "name": "stdout",
     "output_type": "stream",
     "text": [
      "        Bruce Wayne is Batman.\n"
     ]
    }
   ],
   "source": [
    "print(f'{text:>30}')      # A block of 30 characters;\n",
    "                          # aligned right"
   ]
  },
  {
   "cell_type": "code",
   "execution_count": 46,
   "id": "2d743739-4d8c-4eb7-bc36-cabd858f9750",
   "metadata": {},
   "outputs": [
    {
     "name": "stdout",
     "output_type": "stream",
     "text": [
      "    Bruce Wayne is Batman.    \n"
     ]
    }
   ],
   "source": [
    "print(f'{text:^30}')      # A block of 30 characters;\n",
    "                          # aligned centre"
   ]
  },
  {
   "cell_type": "code",
   "execution_count": 45,
   "id": "670a9fd8-a736-455e-98b2-d439593b6e08",
   "metadata": {},
   "outputs": [
    {
     "name": "stdout",
     "output_type": "stream",
     "text": [
      "Bruce Wayne is Batman.        \n"
     ]
    }
   ],
   "source": [
    "print(f'{text:<30}')      # A block of 30 characters;\n",
    "                          # aligned left"
   ]
  },
  {
   "cell_type": "markdown",
   "id": "096c2b5e-100f-4783-be4f-63a3d412ce19",
   "metadata": {},
   "source": [
    "```EXAMPLE 2```"
   ]
  },
  {
   "cell_type": "code",
   "execution_count": 47,
   "id": "4325068f-4b37-4847-a7bd-05137b2c488a",
   "metadata": {},
   "outputs": [],
   "source": [
    "#Using f-string to format numbers"
   ]
  },
  {
   "cell_type": "code",
   "execution_count": 48,
   "id": "1182e774-7a2b-4a14-854f-acca8c498da9",
   "metadata": {},
   "outputs": [
    {
     "name": "stdout",
     "output_type": "stream",
     "text": [
      "The cube of pi to 6 decimal places is 31.006277\n"
     ]
    }
   ],
   "source": [
    "print(f'The cube of pi to 6 decimal places is {np.pi**3:.6f}')"
   ]
  },
  {
   "cell_type": "markdown",
   "id": "0910d735-adf9-45e8-91dd-bf6546ed3ec2",
   "metadata": {},
   "source": [
    "```EXAMPLE 3```"
   ]
  },
  {
   "cell_type": "code",
   "execution_count": 49,
   "id": "341f4e3d-f3ca-43ca-be92-5d82f9ae3fd7",
   "metadata": {},
   "outputs": [
    {
     "name": "stdout",
     "output_type": "stream",
     "text": [
      "The cube of pi to 6 decimal places is 3.100628e+01\n"
     ]
    }
   ],
   "source": [
    "print(f'The cube of pi to 6 decimal places is {np.pi**3:.6e}')"
   ]
  },
  {
   "attachments": {},
   "cell_type": "markdown",
   "id": "062a07bd",
   "metadata": {},
   "source": [
    "## 6.1 Structure of f-strings"
   ]
  },
  {
   "cell_type": "markdown",
   "id": "cfd165c2-88ec-4c43-8cb5-b1aa7b89f133",
   "metadata": {},
   "source": [
    "In the following format:{X:>0Y.ZW}"
   ]
  },
  {
   "cell_type": "markdown",
   "id": "beb4a2a3-6ed0-4db2-921c-257b764c43d7",
   "metadata": {},
   "source": [
    "|Letter|Action|Possible Options|\n",
    "|:--|--|--:|\n",
    "|x|variable to format|can be a number of a string|\n",
    "|>|Alignment|<(left),>(right),^(centre)|\n",
    "|0|Use 0's to pad the spaces|You can use other characters like a space|\n",
    "|Y|Total number of characters|\n",
    "|Z| Number of decimal places|\n",
    "|W|Specifics the tupes of variables|f(float), d(integer),s(string),g(asks pyton to figure it out)|"
   ]
  },
  {
   "attachments": {},
   "cell_type": "markdown",
   "id": "a9030c13",
   "metadata": {},
   "source": [
    "# 7 Escape sequences"
   ]
  },
  {
   "cell_type": "markdown",
   "id": "21fd1bde-16f8-4a2f-b77b-6663313c05b3",
   "metadata": {},
   "source": [
    "Escape sequences e.g. break a line or add a tab\n",
    "\n",
    "1. '\\n' = command to breakline\n",
    "2. ''\\t' = represents a tab"
   ]
  },
  {
   "cell_type": "code",
   "execution_count": 51,
   "id": "711c18f8-e389-4256-8ef0-3d9599f10adc",
   "metadata": {},
   "outputs": [
    {
     "name": "stdout",
     "output_type": "stream",
     "text": [
      "Line 1\n",
      "\tLine 2\n",
      "\t\tLine 3\n"
     ]
    }
   ],
   "source": [
    "print('Line 1\\n\\tLine 2\\n\\t\\tLine 3')"
   ]
  },
  {
   "cell_type": "markdown",
   "id": "79805e2b-b2c4-4310-9a74-9f532a1f1343",
   "metadata": {},
   "source": [
    "|Escape|Meaning||\n",
    "|:--|--|--:|\n",
    "|\\'|Single quote|\n",
    "|\\\\|Backslash|\n",
    "|\\n|Newline|\n",
    "|\\t|Horizontal Tab|"
   ]
  },
  {
   "cell_type": "markdown",
   "id": "238e0242-e32b-4204-ac09-3edb33ec4725",
   "metadata": {},
   "source": [
    "```EXAMPLE 1```"
   ]
  },
  {
   "cell_type": "code",
   "execution_count": 53,
   "id": "1c400acd-f339-4583-9615-254693f44bdb",
   "metadata": {},
   "outputs": [
    {
     "name": "stdout",
     "output_type": "stream",
     "text": [
      "You're twenty years old.\n"
     ]
    }
   ],
   "source": [
    "print('You\\'re twenty years old.') "
   ]
  },
  {
   "cell_type": "markdown",
   "id": "3ef79fc1-4f24-4c8e-8ce5-97f9b24aff3f",
   "metadata": {},
   "source": [
    "```EXAMPLE 2```"
   ]
  },
  {
   "cell_type": "code",
   "execution_count": 54,
   "id": "bc49d84e-bc6a-4edd-a7bc-2d15c3773a44",
   "metadata": {},
   "outputs": [
    {
     "name": "stdout",
     "output_type": "stream",
     "text": [
      "A\\B\\C\n"
     ]
    }
   ],
   "source": [
    "print('A\\\\B\\\\C')"
   ]
  },
  {
   "cell_type": "markdown",
   "id": "383a53ec-c7a7-4948-889c-0a5ff39f8fff",
   "metadata": {},
   "source": [
    "```EXAMPLE 3```"
   ]
  },
  {
   "cell_type": "code",
   "execution_count": 57,
   "id": "524f67f5-46db-47fc-a45a-ff982070164b",
   "metadata": {},
   "outputs": [
    {
     "name": "stdout",
     "output_type": "stream",
     "text": [
      "A\n",
      "B\n",
      "C\n"
     ]
    }
   ],
   "source": [
    "print('A\\nB\\nC') #LINE BREAKS"
   ]
  },
  {
   "cell_type": "markdown",
   "id": "ab15e8a3-0cff-4d15-94c0-88e9e2b0a9d5",
   "metadata": {},
   "source": [
    "```EXAMPLE 4```"
   ]
  },
  {
   "cell_type": "code",
   "execution_count": 58,
   "id": "7377e74f-925d-4b68-8bd6-e0fc712617e7",
   "metadata": {},
   "outputs": [
    {
     "name": "stdout",
     "output_type": "stream",
     "text": [
      "A\tB\tC\n"
     ]
    }
   ],
   "source": [
    "print('A\\tB\\tC') #TABS"
   ]
  },
  {
   "attachments": {},
   "cell_type": "markdown",
   "id": "db2fef99",
   "metadata": {},
   "source": [
    "# 8 Computers read = from Right to Left!"
   ]
  },
  {
   "cell_type": "code",
   "execution_count": 59,
   "id": "1fd33197-8e08-4f74-88f3-0e8255fbb6ba",
   "metadata": {},
   "outputs": [],
   "source": [
    "x = 40\n",
    "y = x + 2"
   ]
  },
  {
   "cell_type": "code",
   "execution_count": 60,
   "id": "fa7032ef-794d-4b02-a82a-2c4a638165eb",
   "metadata": {},
   "outputs": [
    {
     "name": "stdout",
     "output_type": "stream",
     "text": [
      "42\n"
     ]
    }
   ],
   "source": [
    "#in programming, not math\n",
    "y = 40\n",
    "y = y + 2\n",
    "print(y)"
   ]
  },
  {
   "cell_type": "code",
   "execution_count": 65,
   "id": "35094883-7784-43b8-afa0-33f7e5ddaef0",
   "metadata": {},
   "outputs": [
    {
     "name": "stdout",
     "output_type": "stream",
     "text": [
      "10\n",
      "10\n",
      "20\n"
     ]
    }
   ],
   "source": [
    "x = y = 10\n",
    "print (x)\n",
    "print (y)\n",
    "print(x+y)"
   ]
  },
  {
   "attachments": {},
   "cell_type": "markdown",
   "id": "e136ca3c",
   "metadata": {},
   "source": [
    "# 9 Shorter and Cleaner Code"
   ]
  },
  {
   "cell_type": "code",
   "execution_count": 66,
   "id": "99fc2fbe-2b30-4674-92c6-c9bf240ef572",
   "metadata": {},
   "outputs": [
    {
     "data": {
      "text/plain": [
       "42"
      ]
     },
     "execution_count": 66,
     "metadata": {},
     "output_type": "execute_result"
    }
   ],
   "source": [
    "y = 40\n",
    "y = y + 2\n",
    "y"
   ]
  },
  {
   "cell_type": "code",
   "execution_count": 67,
   "id": "6febebc6-da2e-4ed4-82f9-564c101ab154",
   "metadata": {},
   "outputs": [
    {
     "data": {
      "text/plain": [
       "42"
      ]
     },
     "execution_count": 67,
     "metadata": {},
     "output_type": "execute_result"
    }
   ],
   "source": [
    "y = 40\n",
    "y += 2    # Same as y = y + 2\n",
    "y"
   ]
  },
  {
   "cell_type": "markdown",
   "id": "5d31d7be-2ded-440b-9299-3a45bde0c639",
   "metadata": {},
   "source": [
    "||Long form|Shorthand|\n",
    "|:--|--|--:|\n",
    "|Addition|y=y+2|y+=2|\n",
    "|Substraction|y=y-2|y-=2|\n",
    "|Multiplication|y=y*2|y*=2|\n",
    "|Division|y=y/2|y/=2|"
   ]
  },
  {
   "attachments": {},
   "cell_type": "markdown",
   "id": "307531f1",
   "metadata": {},
   "source": [
    "# 10 Python can be a prima-donna."
   ]
  },
  {
   "cell_type": "markdown",
   "id": "551c833d-ab18-4e8a-9499-29ee6ad3a456",
   "metadata": {},
   "source": [
    "Scroll to the bottom of the error message to find the real problem with your code"
   ]
  },
  {
   "attachments": {},
   "cell_type": "markdown",
   "id": "4b63f7bb",
   "metadata": {},
   "source": [
    "# 11 Best Practices for Scientific Computing"
   ]
  },
  {
   "cell_type": "markdown",
   "id": "fc1dd267-fd09-4341-b0ff-41d8a1c63f77",
   "metadata": {},
   "source": [
    "1. Write programs for people, not computers.\n",
    "2. Optimise software only after it works correctly.\n",
    "3. Document design and purpose, not mechanics.\n",
    "4. Collaborate."
   ]
  },
  {
   "attachments": {},
   "cell_type": "markdown",
   "id": "59d22df9",
   "metadata": {},
   "source": [
    "# 12 Looking for help"
   ]
  },
  {
   "cell_type": "code",
   "execution_count": 69,
   "id": "1c5c9358-f107-436a-b25c-bccf1fb28abc",
   "metadata": {},
   "outputs": [
    {
     "name": "stdout",
     "output_type": "stream",
     "text": [
      "Help on built-in function print in module builtins:\n",
      "\n",
      "print(*args, sep=' ', end='\\n', file=None, flush=False)\n",
      "    Prints the values to a stream, or to sys.stdout by default.\n",
      "    \n",
      "    sep\n",
      "      string inserted between values, default a space.\n",
      "    end\n",
      "      string appended after the last value, default a newline.\n",
      "    file\n",
      "      a file-like object (stream); defaults to the current sys.stdout.\n",
      "    flush\n",
      "      whether to forcibly flush the stream.\n",
      "\n"
     ]
    }
   ],
   "source": [
    "#Getting help about python from python is not the best and can be confusing\n",
    "help(print)"
   ]
  },
  {
   "cell_type": "code",
   "execution_count": 70,
   "id": "9d24c640-46fb-42bf-a78d-4fe31f05978d",
   "metadata": {},
   "outputs": [],
   "source": [
    "#Google instead :)"
   ]
  }
 ],
 "metadata": {
  "kernelspec": {
   "display_name": "Python 3 (ipykernel)",
   "language": "python",
   "name": "python3"
  },
  "language_info": {
   "codemirror_mode": {
    "name": "ipython",
    "version": 3
   },
   "file_extension": ".py",
   "mimetype": "text/x-python",
   "name": "python",
   "nbconvert_exporter": "python",
   "pygments_lexer": "ipython3",
   "version": "3.11.7"
  },
  "toc": {
   "base_numbering": 1,
   "nav_menu": {},
   "number_sections": true,
   "sideBar": true,
   "skip_h1_title": false,
   "title_cell": "Table of Contents",
   "title_sidebar": "Contents",
   "toc_cell": false,
   "toc_position": {},
   "toc_section_display": true,
   "toc_window_display": false
  },
  "vscode": {
   "interpreter": {
    "hash": "31f2aee4e71d21fbe5cf8b01ff0e069b9275f58929596ceb00d14d90e3e16cd6"
   }
  }
 },
 "nbformat": 4,
 "nbformat_minor": 5
}

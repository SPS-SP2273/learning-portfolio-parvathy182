{
 "cells": [
  {
   "attachments": {},
   "cell_type": "markdown",
   "id": "123456",
   "metadata": {},
   "source": [
    "<div style=\"text-align:left;font-size:2em\"><span style=\"font-weight:bolder;font-size:1.25em\">SP2273 | Learning Portfolio</span><br><br><span style=\"font-weight:bold;color:darkred\">Fundamentals (Need)</span></div>"
   ]
  },
  {
   "attachments": {},
   "cell_type": "markdown",
   "id": "93b71f6b",
   "metadata": {},
   "source": [
    "# What to expect in this chapter"
   ]
  },
  {
   "attachments": {},
   "cell_type": "markdown",
   "id": "c93acfd3",
   "metadata": {},
   "source": [
    "# 1 Functions"
   ]
  },
  {
   "cell_type": "code",
   "execution_count": 2,
   "id": "68df427f-d38d-4d74-a851-ecd3c9323af0",
   "metadata": {},
   "outputs": [
    {
     "name": "stdout",
     "output_type": "stream",
     "text": [
      "Hello world!\n"
     ]
    }
   ],
   "source": [
    "print('Hello world!') #in a code cell, not a markdown cell "
   ]
  },
  {
   "cell_type": "markdown",
   "id": "c602a207-1c12-474a-9898-092949dc04fa",
   "metadata": {},
   "source": [
    "1. *'print'* is an example of a function that excutes the task\n",
    "2. *'Hello World!'* is the argument that is printed by the function 'print' onto the screen\n",
    "3. *()* ALWAYS follows function, even if function doesn't require an argument\n",
    "Note: Most functions need arguments, except for some such as exit()"
   ]
  },
  {
   "attachments": {},
   "cell_type": "markdown",
   "id": "551cc8ea",
   "metadata": {},
   "source": [
    "##  Remember"
   ]
  },
  {
   "cell_type": "markdown",
   "id": "7064881a-617b-4e52-b7b1-10e6173efca3",
   "metadata": {},
   "source": [
    "1. Function is something that executes a specific task"
   ]
  },
  {
   "attachments": {},
   "cell_type": "markdown",
   "id": "940c2041",
   "metadata": {},
   "source": [
    "# 2 Python is interpreted"
   ]
  },
  {
   "cell_type": "code",
   "execution_count": 4,
   "id": "6ee2c555-e867-4b1c-9e0c-ea1f4d46e540",
   "metadata": {},
   "outputs": [
    {
     "name": "stdout",
     "output_type": "stream",
     "text": [
      "Hello World\n",
      "Hello World again\n"
     ]
    }
   ],
   "source": [
    "#sequential and is interpretted one command at a time\n",
    "print('Hello World')\n",
    "print('Hello World again')"
   ]
  },
  {
   "attachments": {},
   "cell_type": "markdown",
   "id": "084fcbad",
   "metadata": {},
   "source": [
    "# 3 Python is sensitive."
   ]
  },
  {
   "cell_type": "code",
   "execution_count": 6,
   "id": "b20c4efd-607c-4869-95c3-1639fec7f82b",
   "metadata": {},
   "outputs": [
    {
     "name": "stdout",
     "output_type": "stream",
     "text": [
      "Hello World\n"
     ]
    },
    {
     "ename": "NameError",
     "evalue": "name 'Print' is not defined",
     "output_type": "error",
     "traceback": [
      "\u001b[0;31m---------------------------------------------------------------------------\u001b[0m",
      "\u001b[0;31mNameError\u001b[0m                                 Traceback (most recent call last)",
      "Cell \u001b[0;32mIn[6], line 2\u001b[0m\n\u001b[1;32m      1\u001b[0m \u001b[38;5;28mprint\u001b[39m(\u001b[38;5;124m'\u001b[39m\u001b[38;5;124mHello World\u001b[39m\u001b[38;5;124m'\u001b[39m)      \n\u001b[0;32m----> 2\u001b[0m \u001b[43mPrint\u001b[49m(\u001b[38;5;124m'\u001b[39m\u001b[38;5;124mHello World\u001b[39m\u001b[38;5;124m'\u001b[39m)   \u001b[38;5;66;03m#doesnt work   \u001b[39;00m\n\u001b[1;32m      4\u001b[0m \u001b[38;5;66;03m#All 'code' is in lower-case\u001b[39;00m\n",
      "\u001b[0;31mNameError\u001b[0m: name 'Print' is not defined"
     ]
    }
   ],
   "source": [
    "print('Hello World')      \n",
    "Print('Hello World')   #doesnt work   \n",
    "\n",
    "#All 'code' is in lower-case"
   ]
  },
  {
   "attachments": {},
   "cell_type": "markdown",
   "id": "9e921c9a",
   "metadata": {},
   "source": [
    "## Remember"
   ]
  },
  {
   "cell_type": "markdown",
   "id": "3ac91332-70b0-4d30-8f2a-cf37cd11f4e3",
   "metadata": {},
   "source": [
    "```Python is case-sensitive.```"
   ]
  },
  {
   "attachments": {},
   "cell_type": "markdown",
   "id": "ce9d8c27",
   "metadata": {},
   "source": [
    "# 4 Comments"
   ]
  },
  {
   "cell_type": "code",
   "execution_count": 8,
   "id": "66137535-2b44-4f78-b957-6c0560e18e3d",
   "metadata": {},
   "outputs": [],
   "source": [
    "#Writing anything beyond '#' in a CODE CELL is 'ignored' by Python and these are called comments"
   ]
  },
  {
   "cell_type": "code",
   "execution_count": 14,
   "id": "d0f68e6f-a12a-4586-9944-5dd136e33123",
   "metadata": {},
   "outputs": [
    {
     "name": "stdout",
     "output_type": "stream",
     "text": [
      "Hello world\n"
     ]
    }
   ],
   "source": [
    "#print('hello!') - doesn't work\n",
    "print(\"Hello world\" )     # Printing \"Hello World.\""
   ]
  },
  {
   "cell_type": "code",
   "execution_count": 13,
   "id": "1295d490-f798-481a-b312-07f6b0568db6",
   "metadata": {},
   "outputs": [
    {
     "name": "stdout",
     "output_type": "stream",
     "text": [
      "One\n",
      "Three\n"
     ]
    }
   ],
   "source": [
    "# This is a comment\n",
    "print('One')              \n",
    "# print('Two')            # The interpreter ignores this line.\n",
    "print('Three')            \n",
    "                    "
   ]
  },
  {
   "attachments": {},
   "cell_type": "markdown",
   "id": "1da82af4",
   "metadata": {},
   "source": [
    "## Remember"
   ]
  },
  {
   "cell_type": "markdown",
   "id": "7d9f6cdd-af7e-473c-9a2e-bd4381c1d2f5",
   "metadata": {},
   "source": [
    "```Use comments to emphasize the purpose of the code.```"
   ]
  },
  {
   "attachments": {},
   "cell_type": "markdown",
   "id": "8a250526",
   "metadata": {},
   "source": [
    "# 5 = is not the same as =="
   ]
  },
  {
   "cell_type": "markdown",
   "id": "7a89652e-dd85-4eaa-8efa-d450611ae40a",
   "metadata": {},
   "source": [
    "'=' is to **set** something as equal to something"
   ]
  },
  {
   "cell_type": "code",
   "execution_count": 16,
   "id": "33b47d00-a5a5-4a2d-a357-6631856b0a67",
   "metadata": {},
   "outputs": [],
   "source": [
    "a = 2\n",
    "name = 'Batman'   # Make name carry 'Batman'"
   ]
  },
  {
   "cell_type": "markdown",
   "id": "83bd19e9-e766-44ea-8c93-5916bafd1d42",
   "metadata": {},
   "source": [
    "'==' is asking a question"
   ]
  },
  {
   "cell_type": "code",
   "execution_count": 18,
   "id": "ccf1d866-565b-40a9-87f1-2bf9776d5aa0",
   "metadata": {},
   "outputs": [
    {
     "data": {
      "text/plain": [
       "True"
      ]
     },
     "execution_count": 18,
     "metadata": {},
     "output_type": "execute_result"
    }
   ],
   "source": [
    "name == 'Batman'  # Tell me if name is equal to 'Batman'?\n",
    "                  # Answer:  True or False"
   ]
  },
  {
   "attachments": {},
   "cell_type": "markdown",
   "id": "bd5e8e78",
   "metadata": {},
   "source": [
    "# 6 Use if to make decisions"
   ]
  },
  {
   "cell_type": "markdown",
   "id": "c729d811-9318-46e9-a7d8-a231c4e0ed47",
   "metadata": {},
   "source": [
    "'if' statement asks a question. \n",
    "\n",
    "**IF** a==b is TRUE, do (function N), **else** do (function M)."
   ]
  },
  {
   "cell_type": "code",
   "execution_count": 4,
   "id": "4b33b33b-f2d2-4164-b196-9fbec3ae7b36",
   "metadata": {},
   "outputs": [
    {
     "name": "stdout",
     "output_type": "stream",
     "text": [
      "Hello Batman!\n"
     ]
    }
   ],
   "source": [
    "name = 'Batman'\n",
    "\n",
    "if name == 'Batman':\n",
    "    print('Hello Batman!')\n",
    "else:\n",
    "    print('Hello World!')"
   ]
  },
  {
   "cell_type": "code",
   "execution_count": 4,
   "id": "8493b5bd-e69c-4a50-b749-5d184cb2feb9",
   "metadata": {},
   "outputs": [
    {
     "name": "stdout",
     "output_type": "stream",
     "text": [
      "Hello Batman!\n",
      "Hello Batman!\n",
      "Hello Batman!\n",
      "Hello Batman!\n"
     ]
    }
   ],
   "source": [
    "name ='Batman'\n",
    "\n",
    "if name == 'Batman':\n",
    "    print ('Hello Batman!') #THINGS TO DO WHEN IT IS TRUE\n",
    "    print ('Hello Batman!') #THINGS TO DO WHEN IT IS TRUE\n",
    "    print ('Hello Batman!') #THINGS TO DO WHEN IT IS TRUE\n",
    "    print ('Hello Batman!') #THINGS TO DO WHEN IT IS TRUE\n",
    "else:\n",
    "    print ('Hello world!') #THINGS TO DO WHEN FALSE\n",
    "    print ('Hello world!') #THINGS TO DO WHEN FALSE\n",
    "    print ('Hello world!') #THINGS TO DO WHEN FALSE\n",
    "    print ('Hello world!') #THINGS TO DO WHEN FALSE"
   ]
  },
  {
   "attachments": {},
   "cell_type": "markdown",
   "id": "db557d0c",
   "metadata": {},
   "source": [
    "# 7 Indentations (spaces) are sooo IMPORTANT!"
   ]
  },
  {
   "cell_type": "code",
   "execution_count": 5,
   "id": "50684c73-a7bc-454f-a5b1-4bee716f7e9c",
   "metadata": {},
   "outputs": [
    {
     "name": "stdout",
     "output_type": "stream",
     "text": [
      "10\n"
     ]
    }
   ],
   "source": [
    "x=10\n",
    "print (x)"
   ]
  },
  {
   "cell_type": "code",
   "execution_count": 3,
   "id": "9fb73d92-4f13-4476-ba16-d5a029e186b2",
   "metadata": {},
   "outputs": [
    {
     "ename": "IndentationError",
     "evalue": "unexpected indent (1118533717.py, line 2)",
     "output_type": "error",
     "traceback": [
      "\u001b[0;36m  Cell \u001b[0;32mIn[3], line 2\u001b[0;36m\u001b[0m\n\u001b[0;31m    print(x) #Doesn't work when indentation is used incorrectly\u001b[0m\n\u001b[0m    ^\u001b[0m\n\u001b[0;31mIndentationError\u001b[0m\u001b[0;31m:\u001b[0m unexpected indent\n"
     ]
    }
   ],
   "source": [
    "x=10\n",
    "    print(x) #Doesn't work when indentation is used incorrectly"
   ]
  },
  {
   "attachments": {},
   "cell_type": "markdown",
   "id": "9fc78286",
   "metadata": {},
   "source": [
    "# 8 ‘age’ is English, age is a variable."
   ]
  },
  {
   "cell_type": "code",
   "execution_count": 5,
   "id": "7a4c4bc0-6c2c-457f-8606-9251bd883562",
   "metadata": {},
   "outputs": [
    {
     "name": "stdout",
     "output_type": "stream",
     "text": [
      "1000\n",
      "age\n"
     ]
    }
   ],
   "source": [
    "print(age) #VARIABLE - this does ont run because, variable 'age' is not defined \n",
    "print(\"age\") #RED indicates text"
   ]
  },
  {
   "cell_type": "code",
   "execution_count": 1,
   "id": "51230985-f4df-433f-a5f0-1a569210eb79",
   "metadata": {},
   "outputs": [],
   "source": [
    "age = 1000\n",
    "x=1000"
   ]
  },
  {
   "cell_type": "code",
   "execution_count": 2,
   "id": "fc858950-cfcc-432f-a7dc-3863032ea85b",
   "metadata": {},
   "outputs": [
    {
     "name": "stdout",
     "output_type": "stream",
     "text": [
      "age 1000\n",
      "Age\n"
     ]
    }
   ],
   "source": [
    "print('age', age)\n",
    "print(\"Age\") #single or double quotation marks are okay, just be consistent"
   ]
  },
  {
   "cell_type": "code",
   "execution_count": 2,
   "id": "a0190395-00e9-44f1-90c7-aefdfc708992",
   "metadata": {},
   "outputs": [
    {
     "name": "stdout",
     "output_type": "stream",
     "text": [
      "1404\n"
     ]
    }
   ],
   "source": [
    "student_age=1404 #be as sepcific and descriptive variable names\n",
    "print(student_age)"
   ]
  },
  {
   "attachments": {},
   "cell_type": "markdown",
   "id": "df28b646",
   "metadata": {},
   "source": [
    "# 9 Brackets"
   ]
  },
  {
   "cell_type": "code",
   "execution_count": 7,
   "id": "25e2dc8d-6de4-4d7e-8357-c5ed94bd328a",
   "metadata": {},
   "outputs": [
    {
     "name": "stdout",
     "output_type": "stream",
     "text": [
      "hello\n"
     ]
    }
   ],
   "source": [
    "#Example 1\n",
    "print('hello') #using brackets in calls to function"
   ]
  },
  {
   "cell_type": "code",
   "execution_count": 12,
   "id": "a03bf99e-cf4c-479b-82ec-fcf283ca0225",
   "metadata": {},
   "outputs": [
    {
     "data": {
      "text/plain": [
       "15"
      ]
     },
     "execution_count": 12,
     "metadata": {},
     "output_type": "execute_result"
    }
   ],
   "source": [
    "#Example 2 - for math\n",
    "(1 + 2) * 5                "
   ]
  },
  {
   "cell_type": "code",
   "execution_count": 13,
   "id": "22fc0a3f-4b8d-4dc5-9f6a-469a7d0d13c6",
   "metadata": {},
   "outputs": [],
   "source": [
    "#Example 3 - lists for data and nested lists\n",
    "py_list = [1, 2, 3, 4, 5]   \n",
    "\n",
    "py_list_2 = [               \n",
    "                [1, \"A\"],      \n",
    "                [2, \"B\"],\n",
    "                [3, \"C\"],\n",
    "                [4, \"D\"],\n",
    "                [5, \"E\"]\n",
    "            ]"
   ]
  },
  {
   "cell_type": "code",
   "execution_count": 14,
   "id": "7705d410-76a8-49dd-99ce-d6c859d0d0d0",
   "metadata": {},
   "outputs": [],
   "source": [
    "#Example 4 - a dictionary\n",
    "personal_info = {\n",
    "    'Names': 'Batman',\n",
    "    'Real Name': 'Bruce Wayne',\n",
    "    'Age': 55,\n",
    "    'Affiliation': 'Justice League',\n",
    "    'Universe': 'DC'\n",
    "}"
   ]
  },
  {
   "cell_type": "code",
   "execution_count": 16,
   "id": "0b099dbe-5a73-4df7-97b5-c2f93f4f8299",
   "metadata": {},
   "outputs": [
    {
     "name": "stdout",
     "output_type": "stream",
     "text": [
      "Bruce Wayne\n"
     ]
    }
   ],
   "source": [
    "#Dictionaries use a key-value system\n",
    "print(personal_info['Real Name'])    "
   ]
  },
  {
   "attachments": {},
   "cell_type": "markdown",
   "id": "32f85709",
   "metadata": {},
   "source": [
    "# 10 Giving Python superpowers with Packages"
   ]
  },
  {
   "attachments": {},
   "cell_type": "markdown",
   "id": "27b6e7de",
   "metadata": {},
   "source": [
    "## 10.1 Some Context"
   ]
  },
  {
   "cell_type": "code",
   "execution_count": 17,
   "id": "d60faa70-24ba-4d9e-a35e-90885b260eb8",
   "metadata": {},
   "outputs": [
    {
     "data": {
      "text/plain": [
       "40.5"
      ]
     },
     "execution_count": 17,
     "metadata": {},
     "output_type": "execute_result"
    }
   ],
   "source": [
    "1 * ((2 - 3) + 4) ** 5 / 6"
   ]
  },
  {
   "cell_type": "code",
   "execution_count": 18,
   "id": "521a0e63-b2a8-43d3-86c2-6bb530a2b474",
   "metadata": {},
   "outputs": [
    {
     "ename": "NameError",
     "evalue": "name 'sqrt' is not defined",
     "output_type": "error",
     "traceback": [
      "\u001b[0;31m---------------------------------------------------------------------------\u001b[0m",
      "\u001b[0;31mNameError\u001b[0m                                 Traceback (most recent call last)",
      "Cell \u001b[0;32mIn[18], line 2\u001b[0m\n\u001b[1;32m      1\u001b[0m \u001b[38;5;66;03m#Basic python is limited, and does not have sqrt function - will need to import a package\u001b[39;00m\n\u001b[0;32m----> 2\u001b[0m \u001b[43msqrt\u001b[49m(\u001b[38;5;241m4\u001b[39m)     \n",
      "\u001b[0;31mNameError\u001b[0m: name 'sqrt' is not defined"
     ]
    }
   ],
   "source": [
    "#Basic python is limited, and does not have sqrt function - will need to import a package\n",
    "sqrt(4)     "
   ]
  },
  {
   "attachments": {},
   "cell_type": "markdown",
   "id": "e7a38d2f",
   "metadata": {},
   "source": [
    "## 10.2 Importing the math package"
   ]
  },
  {
   "cell_type": "code",
   "execution_count": 4,
   "id": "8418ed2c-24f5-430d-a17f-48905be6beb9",
   "metadata": {},
   "outputs": [],
   "source": [
    "import math"
   ]
  },
  {
   "cell_type": "code",
   "execution_count": 5,
   "id": "2ce93417-8792-44a5-bc42-71c13d8b2031",
   "metadata": {},
   "outputs": [
    {
     "data": {
      "text/plain": [
       "2.0"
      ]
     },
     "execution_count": 5,
     "metadata": {},
     "output_type": "execute_result"
    }
   ],
   "source": [
    "math.sqrt(4)"
   ]
  },
  {
   "attachments": {},
   "cell_type": "markdown",
   "id": "fb2b8e82",
   "metadata": {},
   "source": [
    "## 10.3 Importing the numpy package"
   ]
  },
  {
   "cell_type": "code",
   "execution_count": 7,
   "id": "f29e558b-2020-4c71-8670-bc9969a36f74",
   "metadata": {},
   "outputs": [],
   "source": [
    "import numpy"
   ]
  },
  {
   "cell_type": "code",
   "execution_count": 8,
   "id": "a63ff78d-d034-415a-8e80-213236ade7f5",
   "metadata": {},
   "outputs": [
    {
     "data": {
      "text/plain": [
       "array([2., 3., 4.])"
      ]
     },
     "execution_count": 8,
     "metadata": {},
     "output_type": "execute_result"
    }
   ],
   "source": [
    "numpy.sqrt([4,9,16])"
   ]
  },
  {
   "cell_type": "code",
   "execution_count": 19,
   "id": "6e9bff5c-730d-4c0d-99d6-3c9797abea9e",
   "metadata": {},
   "outputs": [],
   "source": [
    "import numpy as np #making future coding easier, only need to type np instead of numpy"
   ]
  },
  {
   "cell_type": "code",
   "execution_count": 10,
   "id": "393c23d0-2743-4c1e-95e9-33d62e720e12",
   "metadata": {},
   "outputs": [
    {
     "data": {
      "text/plain": [
       "10.0"
      ]
     },
     "execution_count": 10,
     "metadata": {},
     "output_type": "execute_result"
    }
   ],
   "source": [
    "np.sqrt(100)"
   ]
  },
  {
   "attachments": {},
   "cell_type": "markdown",
   "id": "20bc2dc8",
   "metadata": {},
   "source": [
    "## 10.4 Why so many packages?"
   ]
  },
  {
   "cell_type": "code",
   "execution_count": 21,
   "id": "0d0e552e-3705-4cb0-981e-c52ee7b1c657",
   "metadata": {},
   "outputs": [
    {
     "data": {
      "text/plain": [
       "array([2., 3., 4.])"
      ]
     },
     "execution_count": 21,
     "metadata": {},
     "output_type": "execute_result"
    }
   ],
   "source": [
    "#Different pacakges have different functions, even same functions with different capacities\n",
    "np.sqrt([4, 9, 16])"
   ]
  },
  {
   "attachments": {},
   "cell_type": "markdown",
   "id": "9e48e6b3",
   "metadata": {},
   "source": [
    "### Remember"
   ]
  },
  {
   "cell_type": "markdown",
   "id": "ee6a3b7a-649b-405c-8bcd-916166c9414b",
   "metadata": {},
   "source": [
    "1. Packages should only be imported once"
   ]
  },
  {
   "attachments": {},
   "cell_type": "markdown",
   "id": "d268e24a",
   "metadata": {},
   "source": [
    "# 11 The dot (.)"
   ]
  },
  {
   "cell_type": "markdown",
   "id": "6eabcd97-35df-421d-bdce-5f1557577d1d",
   "metadata": {},
   "source": [
    "'.' indicates ownership - this function belongs to a certain package"
   ]
  },
  {
   "cell_type": "code",
   "execution_count": 11,
   "id": "91cb6591-8368-41e7-a2c0-6a3de1d655c6",
   "metadata": {},
   "outputs": [
    {
     "data": {
      "text/plain": [
       "2.0"
      ]
     },
     "execution_count": 11,
     "metadata": {},
     "output_type": "execute_result"
    }
   ],
   "source": [
    "math.sqrt(4) "
   ]
  },
  {
   "cell_type": "code",
   "execution_count": 12,
   "id": "7834060b-518d-425f-ad64-2738c01ebaf9",
   "metadata": {},
   "outputs": [
    {
     "data": {
      "text/plain": [
       "2.0"
      ]
     },
     "execution_count": 12,
     "metadata": {},
     "output_type": "execute_result"
    }
   ],
   "source": [
    " np.sqrt(4)"
   ]
  },
  {
   "cell_type": "code",
   "execution_count": 13,
   "id": "6a4224fd-97eb-4e24-88d0-420809a2c780",
   "metadata": {},
   "outputs": [
    {
     "data": {
      "text/plain": [
       "'APPLE'"
      ]
     },
     "execution_count": 13,
     "metadata": {},
     "output_type": "execute_result"
    }
   ],
   "source": [
    "'apple'.upper()"
   ]
  },
  {
   "cell_type": "code",
   "execution_count": 14,
   "id": "722a7bdb-54e4-4f54-bd52-41390fdcda24",
   "metadata": {},
   "outputs": [
    {
     "data": {
      "text/plain": [
       "'Apple'"
      ]
     },
     "execution_count": 14,
     "metadata": {},
     "output_type": "execute_result"
    }
   ],
   "source": [
    "'apple'.title()"
   ]
  },
  {
   "cell_type": "code",
   "execution_count": 15,
   "id": "d4f2a75b-9830-4543-8aea-6f6c8819ac87",
   "metadata": {},
   "outputs": [
    {
     "data": {
      "text/plain": [
       "['I', 'am', 'Batman']"
      ]
     },
     "execution_count": 15,
     "metadata": {},
     "output_type": "execute_result"
    }
   ],
   "source": [
    "'I am Batman'.split()"
   ]
  },
  {
   "cell_type": "code",
   "execution_count": 17,
   "id": "7d2c5074-fcb0-456a-97bb-1e0cdb730857",
   "metadata": {},
   "outputs": [
    {
     "ename": "SyntaxError",
     "evalue": "invalid decimal literal (101736083.py, line 1)",
     "output_type": "error",
     "traceback": [
      "\u001b[0;36m  Cell \u001b[0;32mIn[17], line 1\u001b[0;36m\u001b[0m\n\u001b[0;31m    1234.split() #does not work with numbers\u001b[0m\n\u001b[0m        ^\u001b[0m\n\u001b[0;31mSyntaxError\u001b[0m\u001b[0;31m:\u001b[0m invalid decimal literal\n"
     ]
    }
   ],
   "source": [
    "1234.split() #does not work with numbers"
   ]
  },
  {
   "cell_type": "code",
   "execution_count": 19,
   "id": "03bf051e-9e69-4d31-bfd9-07c2d5f84297",
   "metadata": {},
   "outputs": [],
   "source": [
    "x=1j+10"
   ]
  },
  {
   "cell_type": "code",
   "execution_count": 22,
   "id": "0503e074-fe97-4b14-9a59-be4f6ea94ca4",
   "metadata": {},
   "outputs": [
    {
     "data": {
      "text/plain": [
       "10.0"
      ]
     },
     "execution_count": 22,
     "metadata": {},
     "output_type": "execute_result"
    }
   ],
   "source": [
    "x.real #not a function, there are non brackets - IT IS A PROPERTY"
   ]
  },
  {
   "cell_type": "code",
   "execution_count": 21,
   "id": "203ed19c-e2ce-42e9-81f2-5255700fbc9b",
   "metadata": {},
   "outputs": [
    {
     "data": {
      "text/plain": [
       "1.0"
      ]
     },
     "execution_count": 21,
     "metadata": {},
     "output_type": "execute_result"
    }
   ],
   "source": [
    "x.imag"
   ]
  },
  {
   "cell_type": "code",
   "execution_count": 25,
   "id": "978bf51e-6c08-49c2-ae28-638e33ce7f8c",
   "metadata": {},
   "outputs": [],
   "source": [
    "#YOU CAN EXTRACT PROPERTIES OR FUNCTIONS from the DOT"
   ]
  },
  {
   "attachments": {},
   "cell_type": "markdown",
   "id": "fdd6991d",
   "metadata": {},
   "source": [
    "## Footnotes"
   ]
  },
  {
   "cell_type": "code",
   "execution_count": null,
   "id": "15837cd7-f5cc-4624-9fee-5a208fe1860f",
   "metadata": {},
   "outputs": [],
   "source": []
  }
 ],
 "metadata": {
  "kernelspec": {
   "display_name": "Python 3 (ipykernel)",
   "language": "python",
   "name": "python3"
  },
  "language_info": {
   "codemirror_mode": {
    "name": "ipython",
    "version": 3
   },
   "file_extension": ".py",
   "mimetype": "text/x-python",
   "name": "python",
   "nbconvert_exporter": "python",
   "pygments_lexer": "ipython3",
   "version": "3.11.7"
  },
  "toc": {
   "base_numbering": 1,
   "nav_menu": {},
   "number_sections": true,
   "sideBar": true,
   "skip_h1_title": false,
   "title_cell": "Table of Contents",
   "title_sidebar": "Contents",
   "toc_cell": false,
   "toc_position": {},
   "toc_section_display": true,
   "toc_window_display": false
  },
  "vscode": {
   "interpreter": {
    "hash": "31f2aee4e71d21fbe5cf8b01ff0e069b9275f58929596ceb00d14d90e3e16cd6"
   }
  }
 },
 "nbformat": 4,
 "nbformat_minor": 5
}

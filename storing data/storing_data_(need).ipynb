{
 "cells": [
  {
   "attachments": {},
   "cell_type": "markdown",
   "id": "123456",
   "metadata": {},
   "source": [
    "<div style=\"text-align:left;font-size:2em\"><span style=\"font-weight:bolder;font-size:1.25em\">SP2273 | Learning Portfolio</span><br><br><span style=\"font-weight:bold;color:darkred\">Storing Data (Need)</span></div>"
   ]
  },
  {
   "cell_type": "code",
   "execution_count": 6,
   "id": "a6de2d41-b4e5-47ec-8b7b-edbfe11d1ce2",
   "metadata": {},
   "outputs": [],
   "source": [
    "import numpy as np"
   ]
  },
  {
   "attachments": {},
   "cell_type": "markdown",
   "id": "a6adcdd1",
   "metadata": {},
   "source": [
    "# What to expect in this chapter"
   ]
  },
  {
   "cell_type": "markdown",
   "id": "cdcac297-714a-483b-9006-093fac3cbce4",
   "metadata": {},
   "source": [
    "Storing and managing data:\n",
    "1. Lists\n",
    "2. Numpy arrays\n",
    "3. Dictionaries\n",
    "4. Tuples"
   ]
  },
  {
   "attachments": {},
   "cell_type": "markdown",
   "id": "96af26c9",
   "metadata": {},
   "source": [
    "# 1 Lists, Arrays & Dictionaries"
   ]
  },
  {
   "attachments": {},
   "cell_type": "markdown",
   "id": "47ce1a0a",
   "metadata": {},
   "source": [
    "## 1.1 Let’s compare"
   ]
  },
  {
   "cell_type": "code",
   "execution_count": 3,
   "id": "63f3e9ce-a600-4249-9168-0d699d763fac",
   "metadata": {},
   "outputs": [],
   "source": [
    "#PYTHON LISTS - Order is important\n",
    "py_super_names = [\"Black Widow\", \"Iron Man\", \"Doctor Strange\"]\n",
    "py_real_names = [\"Natasha Romanoff\", \"Tony Stark\", \"Stephen Strange\"]"
   ]
  },
  {
   "cell_type": "code",
   "execution_count": 7,
   "id": "771f988a-b590-4dbf-a4d6-b4466a83eb1e",
   "metadata": {},
   "outputs": [],
   "source": [
    "#NUMPY ARRAYS - Order is important\n",
    "np_super_names = np.array([\"Black Widow\", \"Iron Man\", \"Doctor Strange\"])\n",
    "np_real_names = np.array([\"Natasha Romanoff\", \"Tony Stark\", \"Stephen Strange\"])"
   ]
  },
  {
   "cell_type": "code",
   "execution_count": 10,
   "id": "60becb35-90ca-4f7f-a7ed-122de241bfbc",
   "metadata": {},
   "outputs": [],
   "source": [
    "#DICTIONARY - Key and associated value seaparted by ':', hence do not need 2 lists\n",
    "superhero_info = {\n",
    "    \"Natasha Romanoff\": \"Black Widow\",\n",
    "    \"Tony Stark\": \"Iron Man\",\n",
    "    \"Stephen Strange\": \"Doctor Strange\"\n",
    "}"
   ]
  },
  {
   "attachments": {},
   "cell_type": "markdown",
   "id": "f1c75f3c",
   "metadata": {},
   "source": [
    "## 1.2 Accessing data from a list (or array)"
   ]
  },
  {
   "cell_type": "markdown",
   "id": "f3c66242-ef35-4089-ad40-63101f9d53df",
   "metadata": {},
   "source": [
    "Python is a zero-index language and indexing starts at 0.\n",
    "\n",
    "[a,b,c,d]: a is index 0, b is 1, c is 2, d is 3"
   ]
  },
  {
   "cell_type": "code",
   "execution_count": 13,
   "id": "02b0a2c5-cd52-4ef2-8051-589753640778",
   "metadata": {},
   "outputs": [
    {
     "data": {
      "text/plain": [
       "'Natasha Romanoff'"
      ]
     },
     "execution_count": 13,
     "metadata": {},
     "output_type": "execute_result"
    }
   ],
   "source": [
    "#Example 1\n",
    "py_real_names[0]"
   ]
  },
  {
   "cell_type": "code",
   "execution_count": 15,
   "id": "5fd01624-a812-4624-aac8-bf689264097f",
   "metadata": {},
   "outputs": [
    {
     "data": {
      "text/plain": [
       "'Black Widow'"
      ]
     },
     "execution_count": 15,
     "metadata": {},
     "output_type": "execute_result"
    }
   ],
   "source": [
    "#Example 2\n",
    "py_super_names[0]"
   ]
  },
  {
   "cell_type": "code",
   "execution_count": 18,
   "id": "36b38d2c-254f-4e65-993d-f5d22ee320f3",
   "metadata": {},
   "outputs": [
    {
     "data": {
      "text/plain": [
       "'Doctor Strange'"
      ]
     },
     "execution_count": 18,
     "metadata": {},
     "output_type": "execute_result"
    }
   ],
   "source": [
    "#Example 3 - INTRODUCING REVERSE IDNEXING\n",
    "py_super_names[2]    # Forward indexing requires knowledge of the size of the list"
   ]
  },
  {
   "cell_type": "code",
   "execution_count": 20,
   "id": "8d1f2489-28fb-492c-967d-7fb27cec1c23",
   "metadata": {},
   "outputs": [
    {
     "data": {
      "text/plain": [
       "'Doctor Strange'"
      ]
     },
     "execution_count": 20,
     "metadata": {},
     "output_type": "execute_result"
    }
   ],
   "source": [
    "py_super_names[-1] #Reverse indexing"
   ]
  },
  {
   "attachments": {},
   "cell_type": "markdown",
   "id": "6f136705",
   "metadata": {},
   "source": [
    "## 1.3 Accessing data from a dictionary"
   ]
  },
  {
   "cell_type": "code",
   "execution_count": 28,
   "id": "c0b1590c-94b7-4499-900f-2c1b3e25f318",
   "metadata": {},
   "outputs": [
    {
     "data": {
      "text/plain": [
       "'Black Widow'"
      ]
     },
     "execution_count": 28,
     "metadata": {},
     "output_type": "execute_result"
    }
   ],
   "source": [
    "#Dcitionaries have a 'key:value' structure, such that in 'a:b': a is key, b is value\n",
    "superhero_info[\"Natasha Romanoff\"]         "
   ]
  },
  {
   "cell_type": "code",
   "execution_count": 26,
   "id": "f4e57bdc-3876-406a-b64e-6b0ade3e9752",
   "metadata": {},
   "outputs": [
    {
     "data": {
      "text/plain": [
       "dict_keys(['Natasha Romanoff', 'Tony Stark', 'Stephen Strange'])"
      ]
     },
     "execution_count": 26,
     "metadata": {},
     "output_type": "execute_result"
    }
   ],
   "source": [
    "#To access all the keys\n",
    "superhero_info.keys()"
   ]
  },
  {
   "cell_type": "code",
   "execution_count": 27,
   "id": "f58d015b-0c7d-4523-a609-7ce6dbd48753",
   "metadata": {},
   "outputs": [
    {
     "data": {
      "text/plain": [
       "dict_values(['Black Widow', 'Iron Man', 'Doctor Strange'])"
      ]
     },
     "execution_count": 27,
     "metadata": {},
     "output_type": "execute_result"
    }
   ],
   "source": [
    "#To access all the values\n",
    "superhero_info.values()"
   ]
  },
  {
   "attachments": {},
   "cell_type": "markdown",
   "id": "aedf4fbc",
   "metadata": {},
   "source": [
    "## 1.4 Higher dimensional lists"
   ]
  },
  {
   "cell_type": "code",
   "execution_count": 35,
   "id": "02cf9544-99cd-4586-ae74-0660066ad1d0",
   "metadata": {},
   "outputs": [],
   "source": [
    "#Have a 2D list/array to avoid having 2 lists to store things (this is also called a nested list)\n",
    "py_superhero_info = [['Natasha Romanoff', 'Black Widow'],\n",
    "                     ['Tony Stark', 'Iron Man'],\n",
    "                   ['Stephen Strange', 'Doctor Strange']]"
   ]
  },
  {
   "cell_type": "code",
   "execution_count": 37,
   "id": "b1b1c878-0b4d-4329-a4e8-eaee59077ee6",
   "metadata": {},
   "outputs": [
    {
     "data": {
      "text/plain": [
       "['Tony Stark', 'Iron Man']"
      ]
     },
     "execution_count": 37,
     "metadata": {},
     "output_type": "execute_result"
    }
   ],
   "source": [
    "py_superhero_info[1] #This returns the second 'item' of both the lists"
   ]
  },
  {
   "attachments": {},
   "cell_type": "markdown",
   "id": "fcb28a0a",
   "metadata": {},
   "source": [
    "# 2 Lists vs. Arrays"
   ]
  },
  {
   "cell_type": "markdown",
   "id": "19b8515d-a7fb-4af0-9137-c0aa4c17cfc1",
   "metadata": {},
   "source": [
    "Differences between lists and arrays"
   ]
  },
  {
   "cell_type": "code",
   "execution_count": 46,
   "id": "f2ba1a6a-0939-443d-b6bf-733744cf1340",
   "metadata": {},
   "outputs": [],
   "source": [
    "#Convert python list to np array list like this:\n",
    "py_list_2d = [[1, \"A\"], [2, \"B\"], [3, \"C\"], [4, \"D\"],\n",
    "              [5, \"E\"], [6, \"F\"], [7, \"G\"], [8, \"H\"],\n",
    "              [9, \"I\"], [10, \"J\"]]\n",
    "\n",
    "np_array_2d = np.array(py_list_2d)      # Reusing the Python list above to create a numpy array"
   ]
  },
  {
   "attachments": {},
   "cell_type": "markdown",
   "id": "046d8937",
   "metadata": {},
   "source": [
    "## 2.1 Size"
   ]
  },
  {
   "cell_type": "markdown",
   "id": "d198dad2-f4e0-4e89-91d8-854546934d69",
   "metadata": {},
   "source": [
    "Use len() functions to know the number of items in lists OR arrays"
   ]
  },
  {
   "cell_type": "code",
   "execution_count": 47,
   "id": "ce29ffd0-c253-4b67-95ac-526f29434af2",
   "metadata": {},
   "outputs": [],
   "source": [
    "py_list_2d = [[1, \"A\"], [2, \"B\"], [3, \"C\"], [4, \"D\"],\n",
    "              [5, \"E\"], [6, \"F\"], [7, \"G\"], [8, \"H\"],\n",
    "              [9, \"I\"], [10, \"J\"]]\n",
    "np_array_2d = np.array(py_list_2d)      # Reusing the Python list above to create a numpy array"
   ]
  },
  {
   "cell_type": "code",
   "execution_count": 42,
   "id": "5f1f98b5-427d-47e0-ad5b-ee9ab963e84d",
   "metadata": {},
   "outputs": [
    {
     "data": {
      "text/plain": [
       "10"
      ]
     },
     "execution_count": 42,
     "metadata": {},
     "output_type": "execute_result"
    }
   ],
   "source": [
    "#len() function on the PYTHON LIST above\n",
    "len(py_list_2d)"
   ]
  },
  {
   "cell_type": "code",
   "execution_count": 49,
   "id": "a7b8677b-b4f0-4085-83c0-e49916fb22b3",
   "metadata": {},
   "outputs": [
    {
     "data": {
      "text/plain": [
       "10"
      ]
     },
     "execution_count": 49,
     "metadata": {},
     "output_type": "execute_result"
    }
   ],
   "source": [
    "#len() function on the numpy array above\n",
    "len(np_array_2d)"
   ]
  },
  {
   "cell_type": "markdown",
   "id": "51fdc004-5e40-45c3-8ffd-06ad71bbe01d",
   "metadata": {},
   "source": [
    "Use .shape attribute/property of the numpy array to find \n",
    "1. the number of items in each 'dimension'"
   ]
  },
  {
   "cell_type": "code",
   "execution_count": 60,
   "id": "97b0e623-8ac4-485e-b73e-d8c213568988",
   "metadata": {},
   "outputs": [
    {
     "data": {
      "text/plain": [
       "(10, 2)"
      ]
     },
     "execution_count": 60,
     "metadata": {},
     "output_type": "execute_result"
    }
   ],
   "source": [
    "np_array_2d.shape #Testing .shape function on nested array\n",
    "#This array has 2 dimensions, the first dimension has 10  elements, the second has 2: hence, returning (10,2)"
   ]
  },
  {
   "attachments": {},
   "cell_type": "markdown",
   "id": "cafa200d",
   "metadata": {},
   "source": [
    "## 2.2 Arrays are fussy about type"
   ]
  },
  {
   "cell_type": "markdown",
   "id": "43ab7317-76e1-47dd-a340-5e6382e3ad41",
   "metadata": {},
   "source": [
    "Arrays should only have one single data type, lists can have multiple."
   ]
  },
  {
   "cell_type": "code",
   "execution_count": 62,
   "id": "bee219bd-56c7-4de0-b375-34ee8dcbf75b",
   "metadata": {},
   "outputs": [],
   "source": [
    "py_list = [1, 1.5, 'A']\n",
    "np_array = np.array(py_list)"
   ]
  },
  {
   "cell_type": "code",
   "execution_count": 63,
   "id": "0882a939-4801-4f62-a6bc-a795bf590332",
   "metadata": {},
   "outputs": [
    {
     "data": {
      "text/plain": [
       "[1, 1.5, 'A']"
      ]
     },
     "execution_count": 63,
     "metadata": {},
     "output_type": "execute_result"
    }
   ],
   "source": [
    "#LIST\n",
    "py_list"
   ]
  },
  {
   "cell_type": "code",
   "execution_count": 64,
   "id": "6503cbcb-46e7-4ee5-b71e-4e3ac8c579cc",
   "metadata": {},
   "outputs": [
    {
     "data": {
      "text/plain": [
       "array(['1', '1.5', 'A'], dtype='<U32')"
      ]
     },
     "execution_count": 64,
     "metadata": {},
     "output_type": "execute_result"
    }
   ],
   "source": [
    "#ARRAY\n",
    "np_array"
   ]
  },
  {
   "attachments": {},
   "cell_type": "markdown",
   "id": "cbd3d145",
   "metadata": {},
   "source": [
    "## 2.3 Adding a number"
   ]
  },
  {
   "cell_type": "code",
   "execution_count": 65,
   "id": "eee448c1-5f31-4d38-9723-402e30c75989",
   "metadata": {},
   "outputs": [],
   "source": [
    "py_list = [1, 2, 3, 4, 5]\n",
    "np_array = np.array(py_list)       "
   ]
  },
  {
   "cell_type": "code",
   "execution_count": 67,
   "id": "13cb0e1c-c9ee-4a80-8fda-5400b6e5ca46",
   "metadata": {},
   "outputs": [
    {
     "ename": "TypeError",
     "evalue": "can only concatenate list (not \"int\") to list",
     "output_type": "error",
     "traceback": [
      "\u001b[0;31m---------------------------------------------------------------------------\u001b[0m",
      "\u001b[0;31mTypeError\u001b[0m                                 Traceback (most recent call last)",
      "Cell \u001b[0;32mIn[67], line 2\u001b[0m\n\u001b[1;32m      1\u001b[0m \u001b[38;5;66;03m#LISTS\u001b[39;00m\n\u001b[0;32m----> 2\u001b[0m \u001b[43mpy_list\u001b[49m\u001b[43m \u001b[49m\u001b[38;5;241;43m+\u001b[39;49m\u001b[43m \u001b[49m\u001b[38;5;241;43m10\u001b[39;49m \u001b[38;5;66;03m#Doesnt work\u001b[39;00m\n",
      "\u001b[0;31mTypeError\u001b[0m: can only concatenate list (not \"int\") to list"
     ]
    }
   ],
   "source": [
    "#LISTS\n",
    "py_list + 10 #Doesnt work"
   ]
  },
  {
   "cell_type": "code",
   "execution_count": 69,
   "id": "81131a9f-a6ce-49cb-b1dd-8e44a96b9bfa",
   "metadata": {},
   "outputs": [
    {
     "data": {
      "text/plain": [
       "array([11, 12, 13, 14, 15])"
      ]
     },
     "execution_count": 69,
     "metadata": {},
     "output_type": "execute_result"
    }
   ],
   "source": [
    "np_array + 10 #Adds the int value 10 to each element in the array"
   ]
  },
  {
   "attachments": {},
   "cell_type": "markdown",
   "id": "56fed5ce",
   "metadata": {},
   "source": [
    "## 2.4 Adding another list"
   ]
  },
  {
   "cell_type": "code",
   "execution_count": 70,
   "id": "383b23b5-a839-4bbd-afad-a45e9a91fcd1",
   "metadata": {},
   "outputs": [],
   "source": [
    "py_list_1 = [1, 2, 3, 4, 5]\n",
    "py_list_2 = [10, 20, 30, 40, 50]\n",
    "\n",
    "np_array_1 = np.array(py_list_1)\n",
    "np_array_2 = np.array(py_list_2)"
   ]
  },
  {
   "cell_type": "code",
   "execution_count": 73,
   "id": "2d827fa0-5663-4937-8bd8-361b1cfdb4c6",
   "metadata": {},
   "outputs": [
    {
     "data": {
      "text/plain": [
       "[1, 2, 3, 4, 5, 10, 20, 30, 40, 50]"
      ]
     },
     "execution_count": 73,
     "metadata": {},
     "output_type": "execute_result"
    }
   ],
   "source": [
    "#LIST - Combines the 2 lists into one large list (non-nested)\n",
    "py_list_1 + py_list_2"
   ]
  },
  {
   "cell_type": "code",
   "execution_count": 75,
   "id": "e7692cfc-c809-437e-9db7-2f4535624733",
   "metadata": {},
   "outputs": [
    {
     "data": {
      "text/plain": [
       "array([11, 22, 33, 44, 55])"
      ]
     },
     "execution_count": 75,
     "metadata": {},
     "output_type": "execute_result"
    }
   ],
   "source": [
    "#ARRAY - Adds element of one list to the element of the same index in the other list\n",
    "np_array_1 + np_array_2"
   ]
  },
  {
   "cell_type": "code",
   "execution_count": 77,
   "id": "33126b2b-f718-4b64-9b5c-92fb787ed1cb",
   "metadata": {},
   "outputs": [
    {
     "ename": "ValueError",
     "evalue": "operands could not be broadcast together with shapes (5,) (6,) ",
     "output_type": "error",
     "traceback": [
      "\u001b[0;31m---------------------------------------------------------------------------\u001b[0m",
      "\u001b[0;31mValueError\u001b[0m                                Traceback (most recent call last)",
      "Cell \u001b[0;32mIn[77], line 7\u001b[0m\n\u001b[1;32m      5\u001b[0m np_array_1 \u001b[38;5;241m=\u001b[39m np\u001b[38;5;241m.\u001b[39marray(py_list_1)\n\u001b[1;32m      6\u001b[0m np_array_2 \u001b[38;5;241m=\u001b[39m np\u001b[38;5;241m.\u001b[39marray(py_list_2)\n\u001b[0;32m----> 7\u001b[0m \u001b[43mnp_array_1\u001b[49m\u001b[43m \u001b[49m\u001b[38;5;241;43m+\u001b[39;49m\u001b[43m \u001b[49m\u001b[43mnp_array_2\u001b[49m\n",
      "\u001b[0;31mValueError\u001b[0m: operands could not be broadcast together with shapes (5,) (6,) "
     ]
    }
   ],
   "source": [
    "#ARRAY (trying to add 2 arrays with different sizes FOR FUN) - REALISED IT DOESNT WORK\n",
    "py_list_1 = [1, 2, 3, 4, 5]\n",
    "py_list_2 = [10, 20, 30, 40, 50,60]\n",
    "\n",
    "np_array_1 = np.array(py_list_1)\n",
    "np_array_2 = np.array(py_list_2)\n",
    "np_array_1 + np_array_2"
   ]
  },
  {
   "attachments": {},
   "cell_type": "markdown",
   "id": "57ab77b9",
   "metadata": {},
   "source": [
    "## 2.5 Multiplying by a Number "
   ]
  },
  {
   "cell_type": "markdown",
   "id": "71facc3f-ed66-48cc-916b-02daf05724ff",
   "metadata": {},
   "source": [
    "Use '*'"
   ]
  },
  {
   "cell_type": "code",
   "execution_count": 78,
   "id": "948393e2-5c03-4a1b-a4c4-0aa049e167cd",
   "metadata": {},
   "outputs": [],
   "source": [
    "py_list = [1, 2, 3, 4, 5]\n",
    "np_array = np.array(py_list)         "
   ]
  },
  {
   "cell_type": "code",
   "execution_count": 84,
   "id": "7bcb53ae-d805-4bb4-b014-49e5225883b5",
   "metadata": {},
   "outputs": [
    {
     "data": {
      "text/plain": [
       "[1, 2, 3, 4, 5, 1, 2, 3, 4, 5]"
      ]
     },
     "execution_count": 84,
     "metadata": {},
     "output_type": "execute_result"
    }
   ],
   "source": [
    "#LISTS - Just repeats the same list n number of times, grows the list\n",
    "py_list*2"
   ]
  },
  {
   "cell_type": "code",
   "execution_count": 83,
   "id": "6e3ff382-5eaf-4286-85ad-e2923b63ab80",
   "metadata": {},
   "outputs": [
    {
     "data": {
      "text/plain": [
       "array([ 2,  4,  6,  8, 10])"
      ]
     },
     "execution_count": 83,
     "metadata": {},
     "output_type": "execute_result"
    }
   ],
   "source": [
    "#ARRAYS - Multiplies each element by 2\n",
    "np_array*2"
   ]
  },
  {
   "attachments": {},
   "cell_type": "markdown",
   "id": "0e71099c",
   "metadata": {},
   "source": [
    "## 2.6 Squaring"
   ]
  },
  {
   "cell_type": "markdown",
   "id": "92af06e8-374d-4a75-b6b6-df61872a3b91",
   "metadata": {},
   "source": [
    "Use '**'"
   ]
  },
  {
   "cell_type": "code",
   "execution_count": 85,
   "id": "dd2d9f5c-b9d1-4f49-accc-f40b1aec6aec",
   "metadata": {},
   "outputs": [],
   "source": [
    "py_list = [1, 2, 3, 4, 5]\n",
    "np_array = np.array(py_list)"
   ]
  },
  {
   "cell_type": "code",
   "execution_count": 87,
   "id": "c06a8d66-ecf8-4e5f-ae1f-695a5323dfbf",
   "metadata": {},
   "outputs": [
    {
     "ename": "TypeError",
     "evalue": "unsupported operand type(s) for ** or pow(): 'list' and 'int'",
     "output_type": "error",
     "traceback": [
      "\u001b[0;31m---------------------------------------------------------------------------\u001b[0m",
      "\u001b[0;31mTypeError\u001b[0m                                 Traceback (most recent call last)",
      "Cell \u001b[0;32mIn[87], line 2\u001b[0m\n\u001b[1;32m      1\u001b[0m \u001b[38;5;66;03m#LISTS - DOESNT WORK\u001b[39;00m\n\u001b[0;32m----> 2\u001b[0m \u001b[43mpy_list\u001b[49m\u001b[38;5;241;43m*\u001b[39;49m\u001b[38;5;241;43m*\u001b[39;49m\u001b[38;5;241;43m2\u001b[39;49m                    \n",
      "\u001b[0;31mTypeError\u001b[0m: unsupported operand type(s) for ** or pow(): 'list' and 'int'"
     ]
    }
   ],
   "source": [
    "#LISTS - DOESNT WORK\n",
    "py_list**2                    "
   ]
  },
  {
   "cell_type": "code",
   "execution_count": 89,
   "id": "ec056119-5479-4745-90b5-e292d45029c0",
   "metadata": {},
   "outputs": [
    {
     "data": {
      "text/plain": [
       "array([ 1,  4,  9, 16, 25])"
      ]
     },
     "execution_count": 89,
     "metadata": {},
     "output_type": "execute_result"
    }
   ],
   "source": [
    "#ARRAYS - Squares the elements in the array\n",
    "np_array**2"
   ]
  },
  {
   "attachments": {},
   "cell_type": "markdown",
   "id": "2de30164",
   "metadata": {},
   "source": [
    "## 2.7 Asking questions"
   ]
  },
  {
   "cell_type": "markdown",
   "id": "7ad00d52-89b8-4f24-880a-e521ee684adb",
   "metadata": {},
   "source": [
    "Asking questions with '==' (Works mainly in arrays only)"
   ]
  },
  {
   "cell_type": "code",
   "execution_count": 90,
   "id": "3dd348db-f38a-42c6-a12d-dfb652ef8086",
   "metadata": {},
   "outputs": [],
   "source": [
    "py_list = [1, 2, 3, 4, 5]\n",
    "np_array = np.array(py_list)         "
   ]
  },
  {
   "cell_type": "code",
   "execution_count": 95,
   "id": "4813107f-cfd3-41b1-9aa6-084b7602f299",
   "metadata": {},
   "outputs": [
    {
     "data": {
      "text/plain": [
       "False"
      ]
     },
     "execution_count": 95,
     "metadata": {},
     "output_type": "execute_result"
    }
   ],
   "source": [
    "#LISTS - Example 1\n",
    "py_list == 3     # Works- the question is 'Is the list 3?'"
   ]
  },
  {
   "cell_type": "code",
   "execution_count": 96,
   "id": "18265f09-0d9c-497b-8371-8843c168029a",
   "metadata": {},
   "outputs": [
    {
     "ename": "TypeError",
     "evalue": "'>' not supported between instances of 'list' and 'int'",
     "output_type": "error",
     "traceback": [
      "\u001b[0;31m---------------------------------------------------------------------------\u001b[0m",
      "\u001b[0;31mTypeError\u001b[0m                                 Traceback (most recent call last)",
      "Cell \u001b[0;32mIn[96], line 2\u001b[0m\n\u001b[1;32m      1\u001b[0m \u001b[38;5;66;03m#LISTS - Example 2\u001b[39;00m\n\u001b[0;32m----> 2\u001b[0m \u001b[43mpy_list\u001b[49m\u001b[43m \u001b[49m\u001b[38;5;241;43m>\u001b[39;49m\u001b[43m \u001b[49m\u001b[38;5;241;43m3\u001b[39;49m      \u001b[38;5;66;03m# Won't work!\u001b[39;00m\n",
      "\u001b[0;31mTypeError\u001b[0m: '>' not supported between instances of 'list' and 'int'"
     ]
    }
   ],
   "source": [
    "#LISTS - Example 2\n",
    "py_list > 3      # Won't work!"
   ]
  },
  {
   "cell_type": "code",
   "execution_count": 99,
   "id": "585de171-edfb-4532-a3ce-b9eb83b6a91d",
   "metadata": {},
   "outputs": [
    {
     "data": {
      "text/plain": [
       "array([False, False,  True, False, False])"
      ]
     },
     "execution_count": 99,
     "metadata": {},
     "output_type": "execute_result"
    }
   ],
   "source": [
    "#ARRAYS - Example 1 Tests for each element\n",
    "np_array == 3  "
   ]
  },
  {
   "cell_type": "code",
   "execution_count": 100,
   "id": "25254a87-8406-4f37-877b-e9b19a109c8b",
   "metadata": {},
   "outputs": [
    {
     "data": {
      "text/plain": [
       "array([False, False, False,  True,  True])"
      ]
     },
     "execution_count": 100,
     "metadata": {},
     "output_type": "execute_result"
    }
   ],
   "source": [
    "#ARRAYS - Example 2 Tests for each element\n",
    "np_array > 3  "
   ]
  },
  {
   "attachments": {},
   "cell_type": "markdown",
   "id": "c1f087c9",
   "metadata": {},
   "source": [
    "## 2.8 Mathematics"
   ]
  },
  {
   "cell_type": "code",
   "execution_count": 101,
   "id": "d5335cb5-7ef5-4d51-a8d9-24f705d0bc26",
   "metadata": {},
   "outputs": [],
   "source": [
    "py_list = [1, 2, 3, 4, 5]\n",
    "np_array = np.array(py_list)         "
   ]
  },
  {
   "cell_type": "code",
   "execution_count": 106,
   "id": "25b418ea-79cd-4ba2-8bf0-e2aad9e8f2b5",
   "metadata": {},
   "outputs": [
    {
     "data": {
      "text/plain": [
       "15"
      ]
     },
     "execution_count": 106,
     "metadata": {},
     "output_type": "execute_result"
    }
   ],
   "source": [
    "#LISTS - Example 1: sum() adds all the elements together\n",
    "sum(py_list)    "
   ]
  },
  {
   "cell_type": "code",
   "execution_count": 108,
   "id": "00dd963e-694f-4cc1-bb06-bfc54fe8578a",
   "metadata": {},
   "outputs": [
    {
     "data": {
      "text/plain": [
       "5"
      ]
     },
     "execution_count": 108,
     "metadata": {},
     "output_type": "execute_result"
    }
   ],
   "source": [
    "#LISTS - Example 2: max() returns the element of the highest value in the list\n",
    "max(py_list)    "
   ]
  },
  {
   "cell_type": "code",
   "execution_count": 109,
   "id": "aca78378-3f1d-4ba4-8291-d1031e13edf2",
   "metadata": {},
   "outputs": [
    {
     "data": {
      "text/plain": [
       "1"
      ]
     },
     "execution_count": 109,
     "metadata": {},
     "output_type": "execute_result"
    }
   ],
   "source": [
    "#LISTS - Example 3: min() returns the element of the lowest value in the list\n",
    "min(py_list) "
   ]
  },
  {
   "cell_type": "code",
   "execution_count": 112,
   "id": "2c4a99ac-6984-4de5-911f-eba0191707db",
   "metadata": {},
   "outputs": [
    {
     "ename": "AttributeError",
     "evalue": "'list' object has no attribute 'sum'",
     "output_type": "error",
     "traceback": [
      "\u001b[0;31m---------------------------------------------------------------------------\u001b[0m",
      "\u001b[0;31mAttributeError\u001b[0m                            Traceback (most recent call last)",
      "Cell \u001b[0;32mIn[112], line 2\u001b[0m\n\u001b[1;32m      1\u001b[0m \u001b[38;5;66;03m#LISTS - Example 4: USING ARRAY SYNTAX, as sum is not an attribute\u001b[39;00m\n\u001b[0;32m----> 2\u001b[0m \u001b[43mpy_list\u001b[49m\u001b[38;5;241;43m.\u001b[39;49m\u001b[43msum\u001b[49m()\n",
      "\u001b[0;31mAttributeError\u001b[0m: 'list' object has no attribute 'sum'"
     ]
    }
   ],
   "source": [
    "#LISTS - Example 4: USING ARRAY SYNTAX, as sum is not an attribute\n",
    "py_list.sum()"
   ]
  },
  {
   "cell_type": "code",
   "execution_count": 121,
   "id": "eb03c8f2-50c2-4fb0-9f9e-47e4ca48d422",
   "metadata": {},
   "outputs": [
    {
     "data": {
      "text/plain": [
       "15"
      ]
     },
     "execution_count": 121,
     "metadata": {},
     "output_type": "execute_result"
    }
   ],
   "source": [
    "#ARRAYS - Example 1: .sum() adds all the elements in the array\n",
    "np_array.sum()"
   ]
  },
  {
   "cell_type": "code",
   "execution_count": 122,
   "id": "22ff3bbf-09d3-4933-9a9b-69165b85152e",
   "metadata": {},
   "outputs": [
    {
     "data": {
      "text/plain": [
       "5"
      ]
     },
     "execution_count": 122,
     "metadata": {},
     "output_type": "execute_result"
    }
   ],
   "source": [
    "#ARRAYS - Example 2: .max() returns element of highest value in the array\n",
    "np_array.max()"
   ]
  },
  {
   "cell_type": "code",
   "execution_count": 123,
   "id": "0b39c0ec-54c8-4f68-b73c-f1e36a877fe1",
   "metadata": {},
   "outputs": [
    {
     "data": {
      "text/plain": [
       "1"
      ]
     },
     "execution_count": 123,
     "metadata": {},
     "output_type": "execute_result"
    }
   ],
   "source": [
    "#ARRAYS - Example 3: .min() returns element of lowest value in the array\n",
    "np_array.min()"
   ]
  },
  {
   "cell_type": "code",
   "execution_count": 124,
   "id": "ae7c94aa-f375-4dd3-866b-9bf90f9decf8",
   "metadata": {},
   "outputs": [
    {
     "data": {
      "text/plain": [
       "3.0"
      ]
     },
     "execution_count": 124,
     "metadata": {},
     "output_type": "execute_result"
    }
   ],
   "source": [
    "#ARRAYS - Example 4: .mean() returns mean of all the elements in the array\n",
    "np_array.mean()"
   ]
  },
  {
   "cell_type": "code",
   "execution_count": 125,
   "id": "fbb59d0a-11e8-4608-b0eb-e6529043f6c9",
   "metadata": {},
   "outputs": [
    {
     "data": {
      "text/plain": [
       "1.4142135623730951"
      ]
     },
     "execution_count": 125,
     "metadata": {},
     "output_type": "execute_result"
    }
   ],
   "source": [
    "#ARRAYS - Example 4: .std() returns standard deviation of all the elements in the array\n",
    "np_array.std()"
   ]
  },
  {
   "attachments": {},
   "cell_type": "markdown",
   "id": "df82ad2e",
   "metadata": {},
   "source": [
    "# Exercises & Self-Assessment"
   ]
  },
  {
   "cell_type": "markdown",
   "id": "2eaf3ada-015a-4a05-be4e-6762a73a73c5",
   "metadata": {},
   "source": [
    "#EXERCISE 1\n",
    "\n",
    "1. 2 SIMILIARITIES BETWEEN LISTS AND ARRAYS\n",
    "- Lists and arrays store elements in a sequential manner that are based on zero-index language.\n",
    "- *Order of elements is important, need multiple lists/nested lists to store different sets of elements*\n",
    "\n",
    "2. 2 DIFFERENCES BETWEEN LISTS AND ARRAYS\n",
    "- Arrays can only hold elements of the same data type. Lists can usually contain elements of different data types.\n",
    "- Squaring and adding interer values do not work in python lists but do in arrays\n",
    "\n",
    "3. What is a dictionary?\n",
    "- A dictionary is a data structure that stores data as key-value pairs. Each key in the dictionary has a specific value, forming a mapping between keys and their corresponding values. "
   ]
  },
  {
   "attachments": {},
   "cell_type": "markdown",
   "id": "66dab300",
   "metadata": {},
   "source": [
    "## Footnotes"
   ]
  }
 ],
 "metadata": {
  "kernelspec": {
   "display_name": "Python 3 (ipykernel)",
   "language": "python",
   "name": "python3"
  },
  "language_info": {
   "codemirror_mode": {
    "name": "ipython",
    "version": 3
   },
   "file_extension": ".py",
   "mimetype": "text/x-python",
   "name": "python",
   "nbconvert_exporter": "python",
   "pygments_lexer": "ipython3",
   "version": "3.11.7"
  },
  "toc": {
   "base_numbering": 1,
   "nav_menu": {},
   "number_sections": true,
   "sideBar": true,
   "skip_h1_title": false,
   "title_cell": "Table of Contents",
   "title_sidebar": "Contents",
   "toc_cell": false,
   "toc_position": {},
   "toc_section_display": true,
   "toc_window_display": false
  },
  "vscode": {
   "interpreter": {
    "hash": "31f2aee4e71d21fbe5cf8b01ff0e069b9275f58929596ceb00d14d90e3e16cd6"
   }
  }
 },
 "nbformat": 4,
 "nbformat_minor": 5
}

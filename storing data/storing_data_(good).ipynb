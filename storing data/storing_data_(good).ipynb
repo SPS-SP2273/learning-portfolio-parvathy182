{
 "cells": [
  {
   "attachments": {},
   "cell_type": "markdown",
   "id": "123456",
   "metadata": {},
   "source": [
    "<div style=\"text-align:left;font-size:2em\"><span style=\"font-weight:bolder;font-size:1.25em\">SP2273 | Learning Portfolio</span><br><br><span style=\"font-weight:bold;color:darkred\">Storing Data (Good)</span></div>"
   ]
  },
  {
   "cell_type": "code",
   "execution_count": 1,
   "id": "0d4dd14f-36f4-4a69-98fb-7a882232a273",
   "metadata": {},
   "outputs": [],
   "source": [
    "import numpy as np"
   ]
  },
  {
   "attachments": {},
   "cell_type": "markdown",
   "id": "256108da",
   "metadata": {},
   "source": [
    "# What to expect in this chapter"
   ]
  },
  {
   "attachments": {},
   "cell_type": "markdown",
   "id": "65b248e1",
   "metadata": {},
   "source": [
    "# 1 Subsetting: Indexing and Slicing"
   ]
  },
  {
   "attachments": {},
   "cell_type": "markdown",
   "id": "772d30c7",
   "metadata": {},
   "source": [
    "## 1.1 Lists & Arrays in 1D | Subsetting & Indexing"
   ]
  },
  {
   "cell_type": "code",
   "execution_count": 6,
   "id": "eb0b5244-1637-49c1-89c0-2309949c1b7a",
   "metadata": {},
   "outputs": [],
   "source": [
    "py_list=[\"a1\", \"b2\", \"c3\", \"d4\", \"e5\",\n",
    "         \"f6\", \"g7\", \"h8\", \"i9\", \"j10\"]\n",
    "\n",
    "x = py_list"
   ]
  },
  {
   "cell_type": "code",
   "execution_count": 8,
   "id": "3a915b40-6faa-4da9-9b68-8f54738a7996",
   "metadata": {},
   "outputs": [
    {
     "data": {
      "text/plain": [
       "'a1'"
      ]
     },
     "execution_count": 8,
     "metadata": {},
     "output_type": "execute_result"
    }
   ],
   "source": [
    "#FIRST ELEMENT\n",
    "x[0]"
   ]
  },
  {
   "cell_type": "code",
   "execution_count": 9,
   "id": "90156802-ba8a-4de7-8c9d-63baaafa1f2a",
   "metadata": {},
   "outputs": [
    {
     "data": {
      "text/plain": [
       "'j10'"
      ]
     },
     "execution_count": 9,
     "metadata": {},
     "output_type": "execute_result"
    }
   ],
   "source": [
    "#LAST ELEMENT\n",
    "x[-1]"
   ]
  },
  {
   "cell_type": "code",
   "execution_count": 13,
   "id": "e64e3b93-f246-4d8c-856a-d79ca2f4555e",
   "metadata": {},
   "outputs": [
    {
     "data": {
      "text/plain": [
       "['a1', 'b2', 'c3']"
      ]
     },
     "execution_count": 13,
     "metadata": {},
     "output_type": "execute_result"
    }
   ],
   "source": [
    "#INDEX 0 to 3\n",
    "x[0:3]\n",
    "#You do not get 4 items, you get 3-0=3 elements: the number of elements"
   ]
  },
  {
   "cell_type": "code",
   "execution_count": 15,
   "id": "b22e22c2-37f6-4b94-be97-b101c070f855",
   "metadata": {},
   "outputs": [
    {
     "data": {
      "text/plain": [
       "['b2', 'c3']"
      ]
     },
     "execution_count": 15,
     "metadata": {},
     "output_type": "execute_result"
    }
   ],
   "source": [
    "x[1:3]\n",
    "#expect 3-1=2 elements only that start at index '1'"
   ]
  },
  {
   "cell_type": "code",
   "execution_count": 17,
   "id": "511bd0de-70b6-4c9f-90ad-09e15332816d",
   "metadata": {},
   "outputs": [
    {
     "data": {
      "text/plain": [
       "['b2', 'c3', 'd4', 'e5', 'f6']"
      ]
     },
     "execution_count": 17,
     "metadata": {},
     "output_type": "execute_result"
    }
   ],
   "source": [
    "x[1:6]\n",
    "#Gives 6-1=5 elements starting at index 1"
   ]
  },
  {
   "cell_type": "code",
   "execution_count": 19,
   "id": "fcc17a67-74b9-4b88-97f4-061c9f66739e",
   "metadata": {},
   "outputs": [
    {
     "data": {
      "text/plain": [
       "['b2', 'd4', 'f6']"
      ]
     },
     "execution_count": 19,
     "metadata": {},
     "output_type": "execute_result"
    }
   ],
   "source": [
    "#TAKING STEPS\n",
    "x[1:6:2]\n",
    "#Index 1 to 5 in steps of 2"
   ]
  },
  {
   "cell_type": "code",
   "execution_count": 21,
   "id": "f678d6bb-2ce8-4d0f-be4d-e2f6c0dca330",
   "metadata": {},
   "outputs": [
    {
     "data": {
      "text/plain": [
       "['f6', 'g7', 'h8', 'i9', 'j10']"
      ]
     },
     "execution_count": 21,
     "metadata": {},
     "output_type": "execute_result"
    }
   ],
   "source": [
    "#INDEX 5 to the end\n",
    "x[5:]"
   ]
  },
  {
   "cell_type": "code",
   "execution_count": 23,
   "id": "e3b7914b-5adf-49b0-bb07-243ab05aa429",
   "metadata": {},
   "outputs": [
    {
     "data": {
      "text/plain": [
       "['f6', 'h8', 'j10']"
      ]
     },
     "execution_count": 23,
     "metadata": {},
     "output_type": "execute_result"
    }
   ],
   "source": [
    "x[5::2]"
   ]
  },
  {
   "cell_type": "code",
   "execution_count": 25,
   "id": "ababb76e-a460-4d46-9a1f-27ad6e1d8952",
   "metadata": {},
   "outputs": [
    {
     "data": {
      "text/plain": [
       "['a1', 'b2', 'c3', 'd4', 'e5']"
      ]
     },
     "execution_count": 25,
     "metadata": {},
     "output_type": "execute_result"
    }
   ],
   "source": [
    "#INDEX from the start to the 5-0=5 elements\n",
    "x[:5]"
   ]
  },
  {
   "cell_type": "code",
   "execution_count": 28,
   "id": "04967bf5-7f33-4be8-9b10-41a37d9eec6d",
   "metadata": {},
   "outputs": [
    {
     "data": {
      "text/plain": [
       "['f6', 'e5', 'd4']"
      ]
     },
     "execution_count": 28,
     "metadata": {},
     "output_type": "execute_result"
    }
   ],
   "source": [
    "#iNDEX 5 to 3 in reverse\n",
    "x[5:2:-1] #gives 5-2=3 elements, starting at the 5th element from the back"
   ]
  },
  {
   "cell_type": "code",
   "execution_count": 30,
   "id": "99488610-1404-44ba-8069-1a007671ef9f",
   "metadata": {},
   "outputs": [
    {
     "data": {
      "text/plain": [
       "['j10', 'i9', 'h8', 'g7', 'f6', 'e5', 'd4', 'c3', 'b2', 'a1']"
      ]
     },
     "execution_count": 30,
     "metadata": {},
     "output_type": "execute_result"
    }
   ],
   "source": [
    "#REVERSES the list\n",
    "x[::-1]"
   ]
  },
  {
   "attachments": {},
   "cell_type": "markdown",
   "id": "62759f13",
   "metadata": {},
   "source": [
    "## 1.2 Arrays only | Subsetting by masking"
   ]
  },
  {
   "cell_type": "markdown",
   "id": "168edfe3-08ca-4672-873c-dac5f7fdd5fe",
   "metadata": {},
   "source": [
    "MASKING"
   ]
  },
  {
   "cell_type": "code",
   "execution_count": 31,
   "id": "702103a2-6d34-4407-a91a-2e274ba71706",
   "metadata": {},
   "outputs": [
    {
     "data": {
      "text/plain": [
       "array([False, False, False,  True,  True,  True,  True,  True,  True,\n",
       "        True])"
      ]
     },
     "execution_count": 31,
     "metadata": {},
     "output_type": "execute_result"
    }
   ],
   "source": [
    "np_array = np.array([1, 2, 3, 4, 5, 6, 7, 8, 9, 10])\n",
    "my_mask = np_array > 3\n",
    "my_mask"
   ]
  },
  {
   "cell_type": "code",
   "execution_count": 33,
   "id": "a64bc959-2981-48eb-b0e1-3eb7f3839537",
   "metadata": {},
   "outputs": [
    {
     "data": {
      "text/plain": [
       "array([ 4,  5,  6,  7,  8,  9, 10])"
      ]
     },
     "execution_count": 33,
     "metadata": {},
     "output_type": "execute_result"
    }
   ],
   "source": [
    "np_array[my_mask]"
   ]
  },
  {
   "cell_type": "code",
   "execution_count": 34,
   "id": "31aa5ad4-0267-4348-b9e8-eabdee88f136",
   "metadata": {},
   "outputs": [
    {
     "data": {
      "text/plain": [
       "array([ 4,  5,  6,  7,  8,  9, 10])"
      ]
     },
     "execution_count": 34,
     "metadata": {},
     "output_type": "execute_result"
    }
   ],
   "source": [
    "np_array[np_array>3]#without needing to create a new variable"
   ]
  },
  {
   "cell_type": "code",
   "execution_count": 42,
   "id": "c522499e-961e-4797-a736-30d48913f1cb",
   "metadata": {},
   "outputs": [
    {
     "data": {
      "text/plain": [
       "array([1, 2, 3])"
      ]
     },
     "execution_count": 42,
     "metadata": {},
     "output_type": "execute_result"
    }
   ],
   "source": [
    "#EXAMPLE 1 - using ~ to invert, asking for what is LESS THAN AND EQUAL to 3\n",
    "#~ is a NOT operator\n",
    "np_array[~(np_array>3)]"
   ]
  },
  {
   "cell_type": "code",
   "execution_count": 40,
   "id": "db02c568-fe83-468f-9584-8ec38744a73d",
   "metadata": {},
   "outputs": [
    {
     "data": {
      "text/plain": [
       "array([4, 5, 6, 7])"
      ]
     },
     "execution_count": 40,
     "metadata": {},
     "output_type": "execute_result"
    }
   ],
   "source": [
    "#EXAMPLE 2 - combining masks with &\n",
    "np_array[(np_array > 3) & (np_array < 8)] "
   ]
  },
  {
   "cell_type": "code",
   "execution_count": 41,
   "id": "feaf0759-db2e-4a78-b17a-92698ecb5cbe",
   "metadata": {},
   "outputs": [
    {
     "data": {
      "text/plain": [
       "array([ 1,  2,  9, 10])"
      ]
     },
     "execution_count": 41,
     "metadata": {},
     "output_type": "execute_result"
    }
   ],
   "source": [
    "#EXAMPLE 3 - OR with |\n",
    "np_array[(np_array < 3) | (np_array > 8)] "
   ]
  },
  {
   "attachments": {},
   "cell_type": "markdown",
   "id": "a028f3ba",
   "metadata": {},
   "source": [
    "## 1.3 Lists & Arrays in 2D | Indexing & Slicing"
   ]
  },
  {
   "cell_type": "code",
   "execution_count": 43,
   "id": "5a0d4245-8604-48af-847c-817b22de5a76",
   "metadata": {},
   "outputs": [],
   "source": [
    "py_list_2d = [[1, \"A\"], [2, \"B\"], [3, \"C\"], [4, \"D\"],\n",
    "              [5, \"E\"], [6, \"F\"], [7, \"G\"], [8, \"H\"],\n",
    "              [9, \"I\"], [10, \"J\"]]\n",
    "\n",
    "np_array_2d = np.array(py_list_2d)"
   ]
  },
  {
   "cell_type": "code",
   "execution_count": 45,
   "id": "8f5ce313-509a-4947-8f51-515ae92cbd9c",
   "metadata": {},
   "outputs": [
    {
     "data": {
      "text/plain": [
       "[[1, 'A'],\n",
       " [2, 'B'],\n",
       " [3, 'C'],\n",
       " [4, 'D'],\n",
       " [5, 'E'],\n",
       " [6, 'F'],\n",
       " [7, 'G'],\n",
       " [8, 'H'],\n",
       " [9, 'I'],\n",
       " [10, 'J']]"
      ]
     },
     "execution_count": 45,
     "metadata": {},
     "output_type": "execute_result"
    }
   ],
   "source": [
    "py_list_2d"
   ]
  },
  {
   "cell_type": "code",
   "execution_count": 46,
   "id": "7685cb6b-5eef-44ef-9251-5773fd456c1e",
   "metadata": {},
   "outputs": [
    {
     "data": {
      "text/plain": [
       "array([['1', 'A'],\n",
       "       ['2', 'B'],\n",
       "       ['3', 'C'],\n",
       "       ['4', 'D'],\n",
       "       ['5', 'E'],\n",
       "       ['6', 'F'],\n",
       "       ['7', 'G'],\n",
       "       ['8', 'H'],\n",
       "       ['9', 'I'],\n",
       "       ['10', 'J']], dtype='<U21')"
      ]
     },
     "execution_count": 46,
     "metadata": {},
     "output_type": "execute_result"
    }
   ],
   "source": [
    "np_array_2d"
   ]
  },
  {
   "cell_type": "code",
   "execution_count": 44,
   "id": "424c019b-f1a1-4724-8d3f-8c14e358d928",
   "metadata": {},
   "outputs": [
    {
     "data": {
      "text/plain": [
       "[4, 'D']"
      ]
     },
     "execution_count": 44,
     "metadata": {},
     "output_type": "execute_result"
    }
   ],
   "source": [
    "#EXAMPLE 1 - What is at index 3?\n",
    "py_list_2d[3]"
   ]
  },
  {
   "cell_type": "code",
   "execution_count": 48,
   "id": "8d5a6c09-9d44-4c4d-8edb-12c42fd2b498",
   "metadata": {},
   "outputs": [
    {
     "data": {
      "text/plain": [
       "array(['4', 'D'], dtype='<U21')"
      ]
     },
     "execution_count": 48,
     "metadata": {},
     "output_type": "execute_result"
    }
   ],
   "source": [
    "np_array_2d[3]"
   ]
  },
  {
   "cell_type": "code",
   "execution_count": 51,
   "id": "5bfab74d-17a4-43f5-b1f9-5f1f75c4b33e",
   "metadata": {},
   "outputs": [
    {
     "data": {
      "text/plain": [
       "4"
      ]
     },
     "execution_count": 51,
     "metadata": {},
     "output_type": "execute_result"
    }
   ],
   "source": [
    "#EXAMPLE 2 - What is the FIRST element at index 3?\n",
    "py_list_2d[3][0]"
   ]
  },
  {
   "cell_type": "code",
   "execution_count": 54,
   "id": "738a8445-7422-4c4f-b627-925aed0d372e",
   "metadata": {},
   "outputs": [
    {
     "data": {
      "text/plain": [
       "'4'"
      ]
     },
     "execution_count": 54,
     "metadata": {},
     "output_type": "execute_result"
    }
   ],
   "source": [
    "np_array_2d[3,0] #use comma"
   ]
  },
  {
   "cell_type": "code",
   "execution_count": 55,
   "id": "4406e80d-5cab-4b1a-976e-ea72ab4daf60",
   "metadata": {},
   "outputs": [
    {
     "data": {
      "text/plain": [
       "[[1, 'A'], [2, 'B'], [3, 'C']]"
      ]
     },
     "execution_count": 55,
     "metadata": {},
     "output_type": "execute_result"
    }
   ],
   "source": [
    "#EXAMPLE 3 - What are the first 3 elements?\n",
    "py_list_2d[:3]"
   ]
  },
  {
   "cell_type": "code",
   "execution_count": 56,
   "id": "bf0a4463-1a53-4808-9fc5-88490117eafe",
   "metadata": {},
   "outputs": [
    {
     "data": {
      "text/plain": [
       "array([['1', 'A'],\n",
       "       ['2', 'B'],\n",
       "       ['3', 'C']], dtype='<U21')"
      ]
     },
     "execution_count": 56,
     "metadata": {},
     "output_type": "execute_result"
    }
   ],
   "source": [
    "np_array_2d[:3]"
   ]
  },
  {
   "cell_type": "code",
   "execution_count": 59,
   "id": "6e0146d2-1171-47a2-a184-98223e158453",
   "metadata": {},
   "outputs": [
    {
     "data": {
      "text/plain": [
       "[1, 'A']"
      ]
     },
     "execution_count": 59,
     "metadata": {},
     "output_type": "execute_result"
    }
   ],
   "source": [
    "#EXAMPLE 4 - take 3 elements, then the first element '0' of the 3 it toook\n",
    "py_list_2d[:3][0]"
   ]
  },
  {
   "cell_type": "code",
   "execution_count": 60,
   "id": "2dbf0e9e-0bf5-4757-8a3a-a73a7536a166",
   "metadata": {},
   "outputs": [
    {
     "data": {
      "text/plain": [
       "array(['1', '2', '3'], dtype='<U21')"
      ]
     },
     "execution_count": 60,
     "metadata": {},
     "output_type": "execute_result"
    }
   ],
   "source": [
    "np_array_2d[:3,0]"
   ]
  },
  {
   "cell_type": "code",
   "execution_count": 61,
   "id": "415e3ee2-be47-40a5-9583-ee654ae9c1ce",
   "metadata": {},
   "outputs": [
    {
     "data": {
      "text/plain": [
       "[2, 'B']"
      ]
     },
     "execution_count": 61,
     "metadata": {},
     "output_type": "execute_result"
    }
   ],
   "source": [
    "py_list_2d[:3][1]"
   ]
  },
  {
   "cell_type": "code",
   "execution_count": 62,
   "id": "b961d4c5-5950-4081-9510-0c376f266c21",
   "metadata": {},
   "outputs": [
    {
     "data": {
      "text/plain": [
       "[4, 'D']"
      ]
     },
     "execution_count": 62,
     "metadata": {},
     "output_type": "execute_result"
    }
   ],
   "source": [
    "#EXAMPLE 5\n",
    "py_list_2d[3:6][0] #the first element of the list that starts from the index 3"
   ]
  },
  {
   "cell_type": "code",
   "execution_count": 64,
   "id": "a1117d3e-b8ec-4d46-bac3-37946cd14c59",
   "metadata": {},
   "outputs": [
    {
     "data": {
      "text/plain": [
       "array(['4', '5', '6'], dtype='<U21')"
      ]
     },
     "execution_count": 64,
     "metadata": {},
     "output_type": "execute_result"
    }
   ],
   "source": [
    "np_array_2d[3:6,0] #the first element in the list of all from the sliced list"
   ]
  },
  {
   "cell_type": "code",
   "execution_count": 66,
   "id": "6014c5e9-d250-4903-a46f-687aa2e71906",
   "metadata": {},
   "outputs": [
    {
     "data": {
      "text/plain": [
       "array(['1', '2', '3', '4', '5', '6', '7', '8', '9', '10'], dtype='<U21')"
      ]
     },
     "execution_count": 66,
     "metadata": {},
     "output_type": "execute_result"
    }
   ],
   "source": [
    "np_array_2d[:,0]"
   ]
  },
  {
   "attachments": {},
   "cell_type": "markdown",
   "id": "c0b27861",
   "metadata": {},
   "source": [
    "## 1.4 Growing lists"
   ]
  },
  {
   "cell_type": "code",
   "execution_count": 68,
   "id": "b5083f30-39c9-475f-b933-9d1c8d4b2cae",
   "metadata": {},
   "outputs": [
    {
     "data": {
      "text/plain": [
       "[1, 2, 1, 2, 1, 2, 1, 2, 1, 2]"
      ]
     },
     "execution_count": 68,
     "metadata": {},
     "output_type": "execute_result"
    }
   ],
   "source": [
    "#EXAMPLE 1 - creating larger list from a smaller one\n",
    "x=[1, 2]*5\n",
    "x"
   ]
  },
  {
   "cell_type": "code",
   "execution_count": 69,
   "id": "739308b2-4c76-48ad-b9e3-c83f7c82990e",
   "metadata": {},
   "outputs": [],
   "source": [
    "#EXAMPLE 2 - 3 WAYS TO GROW THE LIST"
   ]
  },
  {
   "cell_type": "code",
   "execution_count": 70,
   "id": "4cac8ff6-a565-4e31-abf1-dc3da748ff6d",
   "metadata": {},
   "outputs": [
    {
     "data": {
      "text/plain": [
       "[1, 2, 3, 4]"
      ]
     },
     "execution_count": 70,
     "metadata": {},
     "output_type": "execute_result"
    }
   ],
   "source": [
    "x=[1]\n",
    "x= x + [2]\n",
    "x= x + [3]\n",
    "x= x + [4]\n",
    "x"
   ]
  },
  {
   "cell_type": "code",
   "execution_count": 71,
   "id": "a5359c8c-c5b0-4a8f-aada-6e246b81d060",
   "metadata": {},
   "outputs": [
    {
     "data": {
      "text/plain": [
       "[1, 2, 3, 4]"
      ]
     },
     "execution_count": 71,
     "metadata": {},
     "output_type": "execute_result"
    }
   ],
   "source": [
    "x=[1]\n",
    "x+= [2]\n",
    "x+= [3]\n",
    "x+= [4]\n",
    "x"
   ]
  },
  {
   "cell_type": "code",
   "execution_count": 73,
   "id": "03b81665-ce6d-440c-bb6b-9d553fc86d68",
   "metadata": {},
   "outputs": [
    {
     "data": {
      "text/plain": [
       "[1, 2, 3, 4]"
      ]
     },
     "execution_count": 73,
     "metadata": {},
     "output_type": "execute_result"
    }
   ],
   "source": [
    "#very fast\n",
    "x=[1]\n",
    "x.append(2)\n",
    "x.append(3)\n",
    "x.append(4)\n",
    "x"
   ]
  },
  {
   "cell_type": "code",
   "execution_count": 80,
   "id": "1b49f9f8-6f52-4928-8d79-12328e49cc5a",
   "metadata": {},
   "outputs": [
    {
     "data": {
      "text/plain": [
       "[1, 2, 3, 4, 5, 6]"
      ]
     },
     "execution_count": 80,
     "metadata": {},
     "output_type": "execute_result"
    }
   ],
   "source": [
    "#EXAMPLE 3 - incorporating multiple elements using extend() and append ()\n",
    "#adding elements to a list\n",
    "x = [1, 2, 3]\n",
    "x += [4, 5, 6]\n",
    "x"
   ]
  },
  {
   "cell_type": "code",
   "execution_count": 78,
   "id": "244d2d38-0426-4ed6-9bc1-a496a7c1d458",
   "metadata": {},
   "outputs": [
    {
     "data": {
      "text/plain": [
       "[1, 2, 3, 4, 5, 6]"
      ]
     },
     "execution_count": 78,
     "metadata": {},
     "output_type": "execute_result"
    }
   ],
   "source": [
    "x=[1, 2, 3]\n",
    "x.extend([4, 5, 6])\n",
    "x"
   ]
  },
  {
   "cell_type": "code",
   "execution_count": 81,
   "id": "21d9ae52-70df-4304-8a25-5e97c60f1e0c",
   "metadata": {},
   "outputs": [
    {
     "data": {
      "text/plain": [
       "[1, 2, 3, [4, 5, 6]]"
      ]
     },
     "execution_count": 81,
     "metadata": {},
     "output_type": "execute_result"
    }
   ],
   "source": [
    "x=[1, 2, 3]\n",
    "x.append([4, 5, 6])\n",
    "x"
   ]
  },
  {
   "attachments": {},
   "cell_type": "markdown",
   "id": "a96ae922",
   "metadata": {},
   "source": [
    "# Some loose ends"
   ]
  },
  {
   "attachments": {},
   "cell_type": "markdown",
   "id": "f03651c2",
   "metadata": {},
   "source": [
    "## 1.5 Tuples"
   ]
  },
  {
   "cell_type": "markdown",
   "id": "e27cb284-7ff8-43de-be68-b17fab3361bb",
   "metadata": {},
   "source": [
    "with (), Cannot be changed after creation"
   ]
  },
  {
   "cell_type": "code",
   "execution_count": 92,
   "id": "b64e4356-5752-441e-88f2-7f1817aa56b4",
   "metadata": {},
   "outputs": [
    {
     "data": {
      "text/plain": [
       "[1, 2, 3]"
      ]
     },
     "execution_count": 92,
     "metadata": {},
     "output_type": "execute_result"
    }
   ],
   "source": [
    "[1,2,3] #this is a list"
   ]
  },
  {
   "cell_type": "code",
   "execution_count": 93,
   "id": "0ba6d6f5-3caf-424f-8349-b711e5c51414",
   "metadata": {},
   "outputs": [
    {
     "data": {
      "text/plain": [
       "(1, 2, 3)"
      ]
     },
     "execution_count": 93,
     "metadata": {},
     "output_type": "execute_result"
    }
   ],
   "source": [
    "(1,2,3) #this is a tuple, and this cannot be modified"
   ]
  },
  {
   "cell_type": "code",
   "execution_count": 94,
   "id": "a399abde-4ab6-40f8-8abc-d52bee92365a",
   "metadata": {},
   "outputs": [],
   "source": [
    "a=(1, 2, 3)     # Define the above tuple"
   ]
  },
  {
   "cell_type": "code",
   "execution_count": 85,
   "id": "416fee84-ef34-4006-8d94-f27e63811e1d",
   "metadata": {},
   "outputs": [
    {
     "name": "stdout",
     "output_type": "stream",
     "text": [
      "1\n"
     ]
    }
   ],
   "source": [
    "print(a[0]) "
   ]
  },
  {
   "cell_type": "code",
   "execution_count": 87,
   "id": "d1b36a42-24b4-4d41-b478-f3c9ce2c1ac1",
   "metadata": {},
   "outputs": [
    {
     "ename": "TypeError",
     "evalue": "'tuple' object does not support item assignment",
     "output_type": "error",
     "traceback": [
      "\u001b[0;31m---------------------------------------------------------------------------\u001b[0m",
      "\u001b[0;31mTypeError\u001b[0m                                 Traceback (most recent call last)",
      "Cell \u001b[0;32mIn[87], line 2\u001b[0m\n\u001b[1;32m      1\u001b[0m \u001b[38;5;66;03m# The following will NOT work because the tuple cant be changed\u001b[39;00m\n\u001b[0;32m----> 2\u001b[0m \u001b[43ma\u001b[49m\u001b[43m[\u001b[49m\u001b[38;5;241;43m0\u001b[39;49m\u001b[43m]\u001b[49m\u001b[38;5;241m=\u001b[39m\u001b[38;5;241m-\u001b[39m\u001b[38;5;241m1\u001b[39m\n\u001b[1;32m      3\u001b[0m a[\u001b[38;5;241m0\u001b[39m]\u001b[38;5;241m+\u001b[39m\u001b[38;5;241m=\u001b[39m [\u001b[38;5;241m10\u001b[39m]\n",
      "\u001b[0;31mTypeError\u001b[0m: 'tuple' object does not support item assignment"
     ]
    }
   ],
   "source": [
    "# The following will NOT work because the tuple cant be changed\n",
    "a[0]=-1\n",
    "a[0]+= [10]"
   ]
  },
  {
   "attachments": {},
   "cell_type": "markdown",
   "id": "160b3f63",
   "metadata": {},
   "source": [
    "## 1.6 Be VERY careful when copying"
   ]
  },
  {
   "cell_type": "code",
   "execution_count": 90,
   "id": "6a9e352b-569e-4dbb-a50b-f691bd10861e",
   "metadata": {},
   "outputs": [],
   "source": [
    "#ONLY USE .copy() to copy lists to another variable, dont y=x it"
   ]
  },
  {
   "cell_type": "code",
   "execution_count": 104,
   "id": "b8855fbf-7b8c-4b1e-a4a8-325237dfe312",
   "metadata": {},
   "outputs": [],
   "source": [
    "x=[1, 2, 3]\n",
    "y=x\n",
    "z=x"
   ]
  },
  {
   "cell_type": "code",
   "execution_count": 113,
   "id": "2fcc46fd-8752-4440-ab18-ef9bf7379e28",
   "metadata": {},
   "outputs": [
    {
     "name": "stdout",
     "output_type": "stream",
     "text": [
      "id(x)=4423202368, id(y)=4423190720, id(z)=4423200192\n"
     ]
    }
   ],
   "source": [
    "print(f'{id(x)=}, {id(y)=}, {id(z)=}') #all ids the same"
   ]
  },
  {
   "cell_type": "code",
   "execution_count": 114,
   "id": "4fc61e82-e55c-43b4-9d1c-7ce990e59d9a",
   "metadata": {},
   "outputs": [
    {
     "name": "stdout",
     "output_type": "stream",
     "text": [
      "id(x)=4422232192, id(y)=4423190208, id(z)=4423222848\n"
     ]
    }
   ],
   "source": [
    "x=[1, 2, 3]\n",
    "y=x.copy()\n",
    "z=x.copy()\n",
    "print(f'{id(x)=}, {id(y)=}, {id(z)=}')"
   ]
  },
  {
   "attachments": {},
   "cell_type": "markdown",
   "id": "be1ebef4",
   "metadata": {},
   "source": [
    "## Footnotes"
   ]
  }
 ],
 "metadata": {
  "kernelspec": {
   "display_name": "Python 3 (ipykernel)",
   "language": "python",
   "name": "python3"
  },
  "language_info": {
   "codemirror_mode": {
    "name": "ipython",
    "version": 3
   },
   "file_extension": ".py",
   "mimetype": "text/x-python",
   "name": "python",
   "nbconvert_exporter": "python",
   "pygments_lexer": "ipython3",
   "version": "3.11.7"
  },
  "toc": {
   "base_numbering": 1,
   "nav_menu": {},
   "number_sections": true,
   "sideBar": true,
   "skip_h1_title": false,
   "title_cell": "Table of Contents",
   "title_sidebar": "Contents",
   "toc_cell": false,
   "toc_position": {},
   "toc_section_display": true,
   "toc_window_display": false
  },
  "vscode": {
   "interpreter": {
    "hash": "31f2aee4e71d21fbe5cf8b01ff0e069b9275f58929596ceb00d14d90e3e16cd6"
   }
  }
 },
 "nbformat": 4,
 "nbformat_minor": 5
}

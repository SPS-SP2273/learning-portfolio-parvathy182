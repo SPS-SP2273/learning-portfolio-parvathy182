{
 "cells": [
  {
   "attachments": {},
   "cell_type": "markdown",
   "id": "123456",
   "metadata": {},
   "source": [
    "<div style=\"text-align:left;font-size:2em\"><span style=\"font-weight:bolder;font-size:1.25em\">SP2273 | Learning Portfolio</span><br><br><span style=\"font-weight:bold;color:darkred\">Loops (Need)</span></div>"
   ]
  },
  {
   "attachments": {},
   "cell_type": "markdown",
   "id": "90695f32",
   "metadata": {},
   "source": [
    "# What to expect in this chapter"
   ]
  },
  {
   "cell_type": "markdown",
   "id": "5c5efff9-ae69-4bc0-8013-98961031766b",
   "metadata": {},
   "source": [
    "For repeating things in python\n",
    "\n",
    "Using **LOOPS** & **ITERATIONS**"
   ]
  },
  {
   "attachments": {},
   "cell_type": "markdown",
   "id": "e5e66060",
   "metadata": {},
   "source": [
    "# 1 The for iterator"
   ]
  },
  {
   "cell_type": "code",
   "execution_count": 1,
   "id": "57edb652-e955-4610-9d95-4405a6bb2e4f",
   "metadata": {},
   "outputs": [],
   "source": [
    "real_names = [\"Natasha Romanoff\", \"Tony Stark\", \"Stephen Strange\"]"
   ]
  },
  {
   "cell_type": "code",
   "execution_count": 2,
   "id": "e2227c80-b5b8-4493-9be9-d97a14634290",
   "metadata": {},
   "outputs": [
    {
     "name": "stdout",
     "output_type": "stream",
     "text": [
      "Natasha Romanoff is a Marvel superhero!\n",
      "Tony Stark is a Marvel superhero!\n",
      "Stephen Strange is a Marvel superhero!\n"
     ]
    }
   ],
   "source": [
    "#NOT A GOOD WAY OF DOING THIS\n",
    "name=real_names[0]\n",
    "print(f\"{name} is a Marvel superhero!\")\n",
    "\n",
    "name=real_names[1]\n",
    "print(f\"{name} is a Marvel superhero!\")\n",
    "\n",
    "name=real_names[2]\n",
    "print(f\"{name} is a Marvel superhero!\")"
   ]
  },
  {
   "cell_type": "markdown",
   "id": "e9eb657d-b767-49fc-a7a9-3bd638b7d6ec",
   "metadata": {},
   "source": [
    "1. Too tiresome, can make errors easily when copy-pasting and is not scalable at all"
   ]
  },
  {
   "attachments": {},
   "cell_type": "markdown",
   "id": "a12de6a5",
   "metadata": {},
   "source": [
    "## 1.1 for with a list"
   ]
  },
  {
   "cell_type": "code",
   "execution_count": 3,
   "id": "341b2dfb-79f8-4ea2-9de7-921366a1b3f4",
   "metadata": {},
   "outputs": [
    {
     "name": "stdout",
     "output_type": "stream",
     "text": [
      "Natasha Romanoff is a Marvel superhero!\n",
      "Tony Stark is a Marvel superhero!\n",
      "Stephen Strange is a Marvel superhero!\n"
     ]
    }
   ],
   "source": [
    "for name in real_names:\n",
    "    print(f\"{name} is a Marvel superhero!\")"
   ]
  },
  {
   "cell_type": "markdown",
   "id": "7184aa67-d296-4a5e-a391-280aa992a440",
   "metadata": {},
   "source": [
    "1. it goes through the list and assigns name the value of each element of the list.\n",
    "2. it then runs the code-block using this value of name.\n",
    "3. the code block is deginted by using ':'"
   ]
  },
  {
   "cell_type": "code",
   "execution_count": 31,
   "id": "72e94ade-c727-4b3f-ae51-30c9e893d95e",
   "metadata": {},
   "outputs": [
    {
     "name": "stdout",
     "output_type": "stream",
     "text": [
      "Natasha Romanoff is a Marvel superhero!\n",
      "Tony Stark is a Marvel superhero!\n",
      "Stephen Strange is a Marvel superhero!\n"
     ]
    }
   ],
   "source": [
    "#variable 'name' can be changed - just that x is not very specific and can be confusing\n",
    "for x in real_names:\n",
    "    print(f\"{x} is a Marvel superhero!\")"
   ]
  },
  {
   "cell_type": "code",
   "execution_count": 33,
   "id": "bccba30a-26f9-4e41-b0e7-919702b5432c",
   "metadata": {},
   "outputs": [
    {
     "name": "stdout",
     "output_type": "stream",
     "text": [
      "--------------------------------------------------\n",
      "Natasha Romanoff is a Marvel superhero!\n",
      "--------------------------------------------------\n",
      "Tony Stark is a Marvel superhero!\n",
      "--------------------------------------------------\n",
      "Stephen Strange is a Marvel superhero!\n",
      "--------------------------------------------------\n"
     ]
    }
   ],
   "source": [
    "for x in real_names:\n",
    "    print('-'*50)\n",
    "    print(f\"{x} is a Marvel superhero!\")\n",
    "\n",
    "print('-'*50) #out of the box to ensure there is a dahsed line after the last returned line of the code"
   ]
  },
  {
   "attachments": {},
   "cell_type": "markdown",
   "id": "774fa206",
   "metadata": {},
   "source": [
    "## 1.2 for with enumerate"
   ]
  },
  {
   "cell_type": "code",
   "execution_count": 8,
   "id": "25e09b78-bbbe-43b8-8147-48aa72df2808",
   "metadata": {},
   "outputs": [],
   "source": [
    "super_names = [\"Black Widow\", \"Iron Man\", \"Doctor Strange\"]\n",
    "real_names = [\"Natasha Romanoff\", \"Tony Stark\", \"Stephen Strange\"]"
   ]
  },
  {
   "cell_type": "code",
   "execution_count": 10,
   "id": "ef8a5120-3da0-440b-89a0-4035f33eac08",
   "metadata": {},
   "outputs": [
    {
     "name": "stdout",
     "output_type": "stream",
     "text": [
      "0:Natasha Romanoff is a Marvel superhero!\n",
      "1:Tony Stark is a Marvel superhero!\n",
      "2:Stephen Strange is a Marvel superhero!\n"
     ]
    }
   ],
   "source": [
    "#enumerate() accepts >1 list, unlike for()\n",
    "for count, name in enumerate(real_names):\n",
    "    print(f'{count}:{name} is a Marvel superhero!')"
   ]
  },
  {
   "cell_type": "code",
   "execution_count": 21,
   "id": "0d4305fb-fae2-44cd-9d33-3c48e94178fa",
   "metadata": {},
   "outputs": [
    {
     "name": "stdout",
     "output_type": "stream",
     "text": [
      "Natasha Romanoff is Black Widow!\n",
      "Tony Stark is Iron Man!\n",
      "Stephen Strange is Doctor Strange!\n"
     ]
    }
   ],
   "source": [
    "#enumerate can index the otehr list also\n",
    "for index, name in enumerate(real_names):       #index instead of count, to make it very obvious what we are working on\n",
    "    superhero_name = super_names[index]         #count can also work, just making wirting code is more intentional\n",
    "    print(f'{name} is {superhero_name}!')"
   ]
  },
  {
   "cell_type": "markdown",
   "id": "c784eb42-ea33-4733-9db3-1a6c4e4296a3",
   "metadata": {},
   "source": [
    "for count, name in enumerate(real_names):       #index instead of count, to make it very obvious what we are working on\n",
    "    superhero_name = super_names[count]\n",
    "    print(f'{name} is {superhero_name}!')"
   ]
  },
  {
   "cell_type": "markdown",
   "id": "6651bec0-b8c6-49b2-98e5-c740b6ba9104",
   "metadata": {},
   "source": [
    "enumerate() starts counting from zero but can be changed b..."
   ]
  },
  {
   "cell_type": "code",
   "execution_count": 23,
   "id": "65e89a35-55b6-4450-a4ed-0c28550aee92",
   "metadata": {},
   "outputs": [
    {
     "name": "stdout",
     "output_type": "stream",
     "text": [
      "100:Natasha Romanoff is a Marvel superhero!\n",
      "101:Tony Stark is a Marvel superhero!\n",
      "102:Stephen Strange is a Marvel superhero!\n"
     ]
    }
   ],
   "source": [
    "for count, name in enumerate(real_names,100):     #start couting from 100\n",
    "    print(f'{count}:{name} is a Marvel superhero!')"
   ]
  },
  {
   "attachments": {},
   "cell_type": "markdown",
   "id": "3db4ec2b",
   "metadata": {},
   "source": [
    "## 1.3 for with range"
   ]
  },
  {
   "cell_type": "code",
   "execution_count": 25,
   "id": "411ce806-403e-45f0-a5ad-631e5c7975cb",
   "metadata": {},
   "outputs": [
    {
     "name": "stdout",
     "output_type": "stream",
     "text": [
      "0\n",
      "1\n",
      "2\n",
      "3\n",
      "4\n"
     ]
    }
   ],
   "source": [
    "#EXAMPLE 1\n",
    "for i in range(5):\n",
    "    print(i)        #Starts 0, gives 5 elements"
   ]
  },
  {
   "cell_type": "code",
   "execution_count": 26,
   "id": "a5e081e5-934a-42ab-97dc-f59af132b42e",
   "metadata": {},
   "outputs": [
    {
     "name": "stdout",
     "output_type": "stream",
     "text": [
      "5\n",
      "6\n",
      "7\n",
      "8\n",
      "9\n"
     ]
    }
   ],
   "source": [
    "#EXAMPLE 2 - Tailor start and end values\n",
    "for i in range(5,10):         #start at 5, give 10-5=5 elements\n",
    "    print(i)\n"
   ]
  },
  {
   "cell_type": "code",
   "execution_count": 27,
   "id": "7491e0ce-e614-4d6f-8da3-78e5a91d0fdf",
   "metadata": {},
   "outputs": [
    {
     "name": "stdout",
     "output_type": "stream",
     "text": [
      "1\n",
      "4\n",
      "7\n"
     ]
    }
   ],
   "source": [
    "#EXAMPLE 3 - Step size!\n",
    "for i in range(1, 10, 3):\n",
    "    print(i)"
   ]
  },
  {
   "cell_type": "markdown",
   "id": "8accf296-6a63-4159-a3ef-3c2907b9702d",
   "metadata": {},
   "source": [
    "range() and enumerate() only work with looping structures"
   ]
  },
  {
   "cell_type": "code",
   "execution_count": 29,
   "id": "da7f3ca5-fd7c-4526-890f-2c56434c45d3",
   "metadata": {},
   "outputs": [
    {
     "name": "stdout",
     "output_type": "stream",
     "text": [
      "Natasha Romanoff is Marvel's Black Widow!\n",
      "Tony Stark is Marvel's Iron Man!\n",
      "Stephen Strange is Marvel's Doctor Strange!\n"
     ]
    }
   ],
   "source": [
    "for i in range(len(real_names)):\n",
    "    real_name=real_names[i]\n",
    "    super_name=super_names[i]\n",
    "    print(f\"{real_name} is Marvel's {super_name}!\")"
   ]
  },
  {
   "attachments": {},
   "cell_type": "markdown",
   "id": "a6cdd271",
   "metadata": {},
   "source": [
    "# 2 while"
   ]
  },
  {
   "cell_type": "markdown",
   "id": "ce83aeee-d2d7-44ca-b236-e8213e1bbaaa",
   "metadata": {},
   "source": [
    "while() runs the loop as long as the condition is TRUE"
   ]
  },
  {
   "cell_type": "code",
   "execution_count": 30,
   "id": "0450e4c2-050e-4cd4-b757-a984e2afc2d4",
   "metadata": {},
   "outputs": [
    {
     "name": "stdout",
     "output_type": "stream",
     "text": [
      "0\n",
      "1\n",
      "2\n",
      "3\n",
      "4\n"
     ]
    }
   ],
   "source": [
    "number = 0\n",
    "\n",
    "while number < 5:\n",
    "    print(number)\n",
    "    number += 1"
   ]
  }
 ],
 "metadata": {
  "kernelspec": {
   "display_name": "Python 3 (ipykernel)",
   "language": "python",
   "name": "python3"
  },
  "language_info": {
   "codemirror_mode": {
    "name": "ipython",
    "version": 3
   },
   "file_extension": ".py",
   "mimetype": "text/x-python",
   "name": "python",
   "nbconvert_exporter": "python",
   "pygments_lexer": "ipython3",
   "version": "3.11.7"
  },
  "toc": {
   "base_numbering": 1,
   "nav_menu": {},
   "number_sections": true,
   "sideBar": true,
   "skip_h1_title": false,
   "title_cell": "Table of Contents",
   "title_sidebar": "Contents",
   "toc_cell": false,
   "toc_position": {},
   "toc_section_display": true,
   "toc_window_display": false
  },
  "vscode": {
   "interpreter": {
    "hash": "31f2aee4e71d21fbe5cf8b01ff0e069b9275f58929596ceb00d14d90e3e16cd6"
   }
  }
 },
 "nbformat": 4,
 "nbformat_minor": 5
}

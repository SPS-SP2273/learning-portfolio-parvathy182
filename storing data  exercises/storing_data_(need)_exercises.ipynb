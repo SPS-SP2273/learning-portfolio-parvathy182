{
 "cells": [
  {
   "attachments": {},
   "cell_type": "markdown",
   "id": "123456",
   "metadata": {},
   "source": [
    "<div style=\"text-align:left;font-size:2em\"><span style=\"font-weight:bolder;font-size:1.25em\">SP2273 | Learning Portfolio</span><br><br><span style=\"font-weight:bold;color:darkred\">Storing Data (Need) Exercises</span></div>"
   ]
  },
  {
   "cell_type": "markdown",
   "id": "934d88aa-3245-4ac4-a833-2dc4a04a922a",
   "metadata": {},
   "source": [
    "``EXERCISE 1``\n",
    "\n",
    "1. 2 SIMILIARITIES BETWEEN LISTS AND ARRAYS\n",
    "- Lists and arrays store elements in a sequential manner that are based on zero-index language.\n",
    "- *Order of elements is important, need multiple lists/nested lists to store different sets of elements*\n",
    "\n",
    "2. 2 DIFFERENCES BETWEEN LISTS AND ARRAYS\n",
    "- Arrays can only hold elements of the same data type. Lists can usually contain elements of different data types.\n",
    "- Squaring and adding interer values do not work in python lists but do in arrays\n",
    "\n",
    "3. What is a dictionary?\n",
    "- A dictionary is a data structure that stores data as key-value pairs. Each key in the dictionary has a specific value, forming a mapping between keys and their corresponding values. "
   ]
  },
  {
   "cell_type": "markdown",
   "id": "fc99b234-a53e-4c0b-a2ab-73094c812d55",
   "metadata": {},
   "source": [
    "``EXERCISE 2``"
   ]
  },
  {
   "cell_type": "code",
   "execution_count": 7,
   "id": "29465a49-d69e-4c91-be57-87f09e4583ef",
   "metadata": {},
   "outputs": [],
   "source": [
    "import numpy as np"
   ]
  },
  {
   "cell_type": "code",
   "execution_count": 1,
   "id": "ff3db9f5-bacb-4b6c-a5be-1935b2db058b",
   "metadata": {},
   "outputs": [
    {
     "name": "stdout",
     "output_type": "stream",
     "text": [
      "a1\n",
      "c3\n",
      "e5\n",
      "g7\n",
      "i9\n"
     ]
    }
   ],
   "source": [
    "py_list = [\"a1\", \"b2\", \"c3\", \"d4\", \"e5\", \"f6\", \"g7\", \"h8\", \"i9\", \"j10\"]\n",
    "print(py_list[0])   # Prints 'a1'\n",
    "print(py_list[2])   # Prints 'c3'\n",
    "print(py_list[4])   # Prints 'e5'\n",
    "print(py_list[-4])   # Prints 'g7'\n",
    "print(py_list[8])   # Prints 'i9'"
   ]
  },
  {
   "cell_type": "markdown",
   "id": "b1137dd1-788e-4f3c-9961-95b8dc30f596",
   "metadata": {},
   "source": [
    "``EXERCISE 3``"
   ]
  },
  {
   "cell_type": "code",
   "execution_count": 2,
   "id": "6a384168-b298-4133-9229-03ec5af30f33",
   "metadata": {},
   "outputs": [],
   "source": [
    "elements = ['Hydrogen',\n",
    "            'Helium', 'Lithium',\n",
    "            'Beryllium', 'Boron', 'Carbon',\n",
    "            'Nitrogen', 'Oxygen',\n",
    "            'Fluorine',\n",
    "            'Neon']"
   ]
  },
  {
   "cell_type": "code",
   "execution_count": 4,
   "id": "098f1bc2-3674-4c64-be3f-4209ba77f266",
   "metadata": {},
   "outputs": [
    {
     "data": {
      "text/plain": [
       "'Boron'"
      ]
     },
     "execution_count": 4,
     "metadata": {},
     "output_type": "execute_result"
    }
   ],
   "source": [
    "#Access and print the element at index 4 using forward indexing.\n",
    "elements[4]"
   ]
  },
  {
   "cell_type": "code",
   "execution_count": 4,
   "id": "4f76415d-7c42-40b6-a383-d6b42f83e912",
   "metadata": {},
   "outputs": [
    {
     "data": {
      "text/plain": [
       "10"
      ]
     },
     "execution_count": 4,
     "metadata": {},
     "output_type": "execute_result"
    }
   ],
   "source": [
    "len(elements) #to find size of list, if you dont know the number of elements in the list"
   ]
  },
  {
   "cell_type": "code",
   "execution_count": 5,
   "id": "cfd86244-801b-4384-969e-d30765ac8be5",
   "metadata": {},
   "outputs": [
    {
     "data": {
      "text/plain": [
       "'Boron'"
      ]
     },
     "execution_count": 5,
     "metadata": {},
     "output_type": "execute_result"
    }
   ],
   "source": [
    "#Access and print the element at index 4 from the end of the list using reverse indexing.\n",
    "elements[-6]"
   ]
  },
  {
   "cell_type": "markdown",
   "id": "12026e61-aeb8-4836-985f-87acfa1ddb09",
   "metadata": {},
   "source": [
    "``EXERCISE 4``"
   ]
  },
  {
   "cell_type": "code",
   "execution_count": 23,
   "id": "f1cc4b48-744a-45cc-bb2b-6da4c28ff0a6",
   "metadata": {},
   "outputs": [
    {
     "data": {
      "text/plain": [
       "9"
      ]
     },
     "execution_count": 23,
     "metadata": {},
     "output_type": "execute_result"
    }
   ],
   "source": [
    "numbers=[45, 60, 1, 30, 96, 1, 96, 57, 16, 1,\n",
    "        99, 62, 86, 43, 42, 60, 59, 1, 1, 35,\n",
    "        83, 47, 34, 28, 68, 23, 22, 92, 1, 79,\n",
    "        1, 29, 94, 72, 46, 47, 1, 74, 32, 20,\n",
    "        8, 37, 35, 1, 89, 29, 86, 19, 43, 61]            #this is a LIST      \n",
    "np_numbers = np.array(numbers)                           #change to array\n",
    "\n",
    "(np_numbers == 1).sum()                                  #False is considered 0, and True is considered 1 by sum()."
   ]
  }
 ],
 "metadata": {
  "kernelspec": {
   "display_name": "Python 3 (ipykernel)",
   "language": "python",
   "name": "python3"
  },
  "language_info": {
   "codemirror_mode": {
    "name": "ipython",
    "version": 3
   },
   "file_extension": ".py",
   "mimetype": "text/x-python",
   "name": "python",
   "nbconvert_exporter": "python",
   "pygments_lexer": "ipython3",
   "version": "3.11.7"
  },
  "toc": {
   "base_numbering": 1,
   "nav_menu": {},
   "number_sections": true,
   "sideBar": true,
   "skip_h1_title": false,
   "title_cell": "Table of Contents",
   "title_sidebar": "Contents",
   "toc_cell": false,
   "toc_position": {},
   "toc_section_display": true,
   "toc_window_display": false
  },
  "vscode": {
   "interpreter": {
    "hash": "31f2aee4e71d21fbe5cf8b01ff0e069b9275f58929596ceb00d14d90e3e16cd6"
   }
  }
 },
 "nbformat": 4,
 "nbformat_minor": 5
}

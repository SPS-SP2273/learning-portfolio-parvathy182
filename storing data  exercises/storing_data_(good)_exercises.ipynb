{
 "cells": [
  {
   "attachments": {},
   "cell_type": "markdown",
   "id": "123456",
   "metadata": {},
   "source": [
    "<div style=\"text-align:left;font-size:2em\"><span style=\"font-weight:bolder;font-size:1.25em\">SP2273 | Learning Portfolio</span><br><br><span style=\"font-weight:bold;color:darkred\">Storing Data (Good) Exercises</span></div>"
   ]
  },
  {
   "cell_type": "code",
   "execution_count": 4,
   "id": "993989dc-ed90-4021-8683-a3fb0ed2f653",
   "metadata": {},
   "outputs": [],
   "source": [
    "import numpy as np"
   ]
  },
  {
   "cell_type": "markdown",
   "id": "af665d60-32a5-4450-a57b-c585ca2bfa00",
   "metadata": {},
   "source": [
    "```EXERCISE 1```"
   ]
  },
  {
   "cell_type": "markdown",
   "id": "f199e4b4-d739-4e62-a46f-56345c9f06fa",
   "metadata": {},
   "source": [
    "| Term  |  Brief description  |\n",
    "| :--- | --: | \n",
    "| Subsetting  |  Subsetting means 'selecting', the umbrella term for everything below |  \n",
    "| Indexing   |  Refers to selecting the particular element corresponding to that index  |  \n",
    "| Slicing   |  Refers to selecting a range of elements from the certain list  |   \n",
    "| Masking   |  Subsetting in *NumPy ONLY*, testing a condition and selecting elements based off that condition |"
   ]
  },
  {
   "cell_type": "markdown",
   "id": "327e5a4d-79be-49ed-8671-8fc929ccee24",
   "metadata": {},
   "source": [
    "```EXERCISE 2```"
   ]
  },
  {
   "cell_type": "code",
   "execution_count": 5,
   "id": "915e2c10-a904-44a8-b6bc-9d6e0596aeae",
   "metadata": {},
   "outputs": [],
   "source": [
    "np_array_2d = np.array([[1, \"A\"], [3, \"C\"], [2, \"B\"], [4, \"D\"],\n",
    "                        [5, \"E\"], [7, \"G\"], [6, \"F\"], [8, \"H\"],\n",
    "                        [10, \"J\"], [9, \"I\"]])"
   ]
  },
  {
   "cell_type": "code",
   "execution_count": 6,
   "id": "39542cae-80ec-4298-9c6d-6a325725fc40",
   "metadata": {},
   "outputs": [
    {
     "name": "stdout",
     "output_type": "stream",
     "text": [
      "['1' '3' '2' '4' '5' '7' '6' '8' '10' '9']\n"
     ]
    }
   ],
   "source": [
    "odd=np_array_2d[:,0]  #Getting the numbers out of the nested list\n",
    "print(odd) "
   ]
  },
  {
   "cell_type": "code",
   "execution_count": 33,
   "id": "27da091a-b81a-4df2-a6f2-214c3271eea6",
   "metadata": {},
   "outputs": [
    {
     "data": {
      "text/plain": [
       "array([ 1,  3,  2,  4,  5,  7,  6,  8, 10,  9])"
      ]
     },
     "execution_count": 33,
     "metadata": {},
     "output_type": "execute_result"
    }
   ],
   "source": [
    "odd.astype(int) #turning them from str into integer type"
   ]
  },
  {
   "cell_type": "code",
   "execution_count": 34,
   "id": "47d57581-a550-47a5-ab48-2f2b82b5dba5",
   "metadata": {},
   "outputs": [
    {
     "data": {
      "text/plain": [
       "array([1, 1, 0, 0, 1, 1, 0, 0, 0, 1])"
      ]
     },
     "execution_count": 34,
     "metadata": {},
     "output_type": "execute_result"
    }
   ],
   "source": [
    "odd.astype(int)%2 #Getting remainders (1 = odd no., 0 = even no.)"
   ]
  },
  {
   "cell_type": "code",
   "execution_count": 35,
   "id": "ec8d43a5-4ee8-4921-bdaf-6766279afc6c",
   "metadata": {},
   "outputs": [
    {
     "data": {
      "text/plain": [
       "array([ True,  True, False, False,  True,  True, False, False, False,\n",
       "        True])"
      ]
     },
     "execution_count": 35,
     "metadata": {},
     "output_type": "execute_result"
    }
   ],
   "source": [
    "mask = odd.astype(int)%2==1 #Masking, True = odd no., False = even no.\n",
    "mask"
   ]
  },
  {
   "cell_type": "code",
   "execution_count": 36,
   "id": "8826b0da-8afc-44da-bc60-04dc5d128b06",
   "metadata": {},
   "outputs": [
    {
     "name": "stdout",
     "output_type": "stream",
     "text": [
      "['A' 'C' 'E' 'G' 'I']\n"
     ]
    }
   ],
   "source": [
    "ans = np_array_2d[mask,1] #Extracting the letter (at index 1) from the specific elements that I got from my mask\n",
    "print(ans)"
   ]
  }
 ],
 "metadata": {
  "kernelspec": {
   "display_name": "Python 3 (ipykernel)",
   "language": "python",
   "name": "python3"
  },
  "language_info": {
   "codemirror_mode": {
    "name": "ipython",
    "version": 3
   },
   "file_extension": ".py",
   "mimetype": "text/x-python",
   "name": "python",
   "nbconvert_exporter": "python",
   "pygments_lexer": "ipython3",
   "version": "3.11.7"
  },
  "toc": {
   "base_numbering": 1,
   "nav_menu": {},
   "number_sections": true,
   "sideBar": true,
   "skip_h1_title": false,
   "title_cell": "Table of Contents",
   "title_sidebar": "Contents",
   "toc_cell": false,
   "toc_position": {},
   "toc_section_display": true,
   "toc_window_display": false
  },
  "vscode": {
   "interpreter": {
    "hash": "31f2aee4e71d21fbe5cf8b01ff0e069b9275f58929596ceb00d14d90e3e16cd6"
   }
  }
 },
 "nbformat": 4,
 "nbformat_minor": 5
}

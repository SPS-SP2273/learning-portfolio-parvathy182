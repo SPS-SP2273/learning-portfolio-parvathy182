{
 "cells": [
  {
   "attachments": {},
   "cell_type": "markdown",
   "id": "123456",
   "metadata": {},
   "source": [
    "<div style=\"text-align:left;font-size:2em\"><span style=\"font-weight:bolder;font-size:1.25em\">SP2273 | Learning Portfolio</span><br><br><span style=\"font-weight:bold;color:darkred\">Loops (Good) Exercises</span></div>"
   ]
  },
  {
   "cell_type": "markdown",
   "id": "8e70fdae-7b7e-4f47-b268-6abba048e20b",
   "metadata": {},
   "source": [
    "```Exercise 1```"
   ]
  },
  {
   "cell_type": "code",
   "execution_count": 4,
   "id": "5a90eefe-8368-4082-93ac-be83e3130e58",
   "metadata": {},
   "outputs": [
    {
     "name": "stdout",
     "output_type": "stream",
     "text": [
      "1\n",
      "9\n",
      "25\n",
      "49\n",
      "81\n"
     ]
    }
   ],
   "source": [
    "#A list of the squares of the odd integers from 0-9\n",
    "for num in range(10):\n",
    "    if num%2==0:\n",
    "        continue\n",
    "    print(num**2)"
   ]
  },
  {
   "cell_type": "markdown",
   "id": "abe4c6b0-1ab0-4e4e-9991-aa8c0c028f11",
   "metadata": {},
   "source": [
    "```Exercise 2```"
   ]
  },
  {
   "cell_type": "code",
   "execution_count": 9,
   "id": "66d2f230-1a89-4abe-aa66-99ea1654e304",
   "metadata": {},
   "outputs": [
    {
     "data": {
      "text/plain": [
       "[1, 9, 25, 49, 81]"
      ]
     },
     "execution_count": 9,
     "metadata": {},
     "output_type": "execute_result"
    }
   ],
   "source": [
    "#A list of the squares of the odd integers from 0-9 done using List Comprehension\n",
    "[num**2 for num in range(10) if num%2==1]"
   ]
  },
  {
   "cell_type": "markdown",
   "id": "681539d1-d9a2-41fe-bab5-88a8d6db1b7a",
   "metadata": {},
   "source": [
    "```Exercise 3```"
   ]
  },
  {
   "cell_type": "code",
   "execution_count": 24,
   "id": "41a40539-71ee-44df-a4ec-87d709189c54",
   "metadata": {},
   "outputs": [
    {
     "name": "stdout",
     "output_type": "stream",
     "text": [
      "307 ns ± 2.7 ns per loop (mean ± std. dev. of 7 runs, 1,000,000 loops each)\n"
     ]
    }
   ],
   "source": [
    "%%timeit\n",
    "for num in range(10):\n",
    "    if num%2==0:\n",
    "        continue\n",
    "    #print(num**2)"
   ]
  },
  {
   "cell_type": "code",
   "execution_count": 26,
   "id": "5b0fb125-661b-4c56-9bb0-4e46c49eef77",
   "metadata": {},
   "outputs": [
    {
     "name": "stdout",
     "output_type": "stream",
     "text": [
      "460 ns ± 3.05 ns per loop (mean ± std. dev. of 7 runs, 1,000,000 loops each)\n"
     ]
    }
   ],
   "source": [
    "%%timeit\n",
    "[num**2 for num in range(10) if num%2==1]"
   ]
  },
  {
   "cell_type": "markdown",
   "id": "c1c16541-455e-47bf-b045-b857e19e8dc4",
   "metadata": {},
   "source": [
    "for loop was faster - Yea, I am surprised - I thought loops would take longer."
   ]
  },
  {
   "cell_type": "markdown",
   "id": "64650b6b-4a73-42f2-ac6f-05f0e1a530ed",
   "metadata": {},
   "source": [
    "```Exercise 4```"
   ]
  },
  {
   "cell_type": "code",
   "execution_count": 21,
   "id": "4cc2f1b6-12cf-495d-89f0-4d8adede5570",
   "metadata": {},
   "outputs": [
    {
     "name": "stdout",
     "output_type": "stream",
     "text": [
      "14\n"
     ]
    }
   ],
   "source": [
    "sample = 100\n",
    "year = 0\n",
    "while sample>50:\n",
    "    sample = sample*0.95\n",
    "    year += 1            #alternative to year = year+1\n",
    "print(year)"
   ]
  },
  {
   "cell_type": "markdown",
   "id": "98467962-61fe-4ae5-9715-9118fdc7b87e",
   "metadata": {},
   "source": [
    "```Exercise 5```"
   ]
  },
  {
   "cell_type": "code",
   "execution_count": 2,
   "id": "09c484a4-6658-4852-b673-a4b36827970e",
   "metadata": {},
   "outputs": [],
   "source": [
    "co2_data = [\n",
    "    (2000, 369.55), (2001, 371.14), (2002, 373.28), \n",
    "    (2003, 375.80), (2004, 377.52), (2005, 379.80), \n",
    "    (2006, 381.90), (2007, 383.79), (2008, 385.60), \n",
    "    (2009, 387.43), (2010, 389.90), (2011, 391.65), \n",
    "    (2012, 393.85), (2013, 396.52), (2014, 398.65),\n",
    "    (2015, 400.83), (2016, 404.24), (2017, 406.55), \n",
    "    (2018, 408.52), (2019, 411.44), (2020, 414.24)\n",
    "]"
   ]
  },
  {
   "cell_type": "code",
   "execution_count": 6,
   "id": "55b661f1-2bfb-4b87-a226-0060e0304258",
   "metadata": {},
   "outputs": [
    {
     "name": "stdout",
     "output_type": "stream",
     "text": [
      "21\n"
     ]
    },
    {
     "data": {
      "text/plain": [
       "1.589999999999975"
      ]
     },
     "execution_count": 6,
     "metadata": {},
     "output_type": "execute_result"
    }
   ],
   "source": [
    "print(len(co2_data)) #I can use len() to get the number of elements in the list/database\n",
    "\n",
    "index = 0\n",
    "co2_data[index+1][1]-co2_data[index][1]"
   ]
  },
  {
   "cell_type": "code",
   "execution_count": 17,
   "id": "793cb3a3-9169-42f0-80b2-4b69c3022b83",
   "metadata": {},
   "outputs": [
    {
     "name": "stdout",
     "output_type": "stream",
     "text": [
      "Difference in co2 levels between 2015 and 2016 is 3.41ppm, which is greater than 3ppm\n"
     ]
    }
   ],
   "source": [
    "index = 0\n",
    "while index <20:\n",
    "    for yr,co2 in co2_data:\n",
    "        diff = co2_data[index][1]-co2_data[index-1][1]\n",
    "        if diff >= 3:                                  #operator changed from > to >=\n",
    "            prevyr = (co2_data[index-1][0])\n",
    "            print(f\"Difference in co2 levels between {prevyr} and {yr} is {diff:.2f}ppm, which is greater than 3ppm\")\n",
    "        index = index + 1"
   ]
  },
  {
   "cell_type": "code",
   "execution_count": 15,
   "id": "55ea9453-9e18-43ca-8a45-847e14cd2f5f",
   "metadata": {},
   "outputs": [
    {
     "name": "stdout",
     "output_type": "stream",
     "text": [
      "Difference in co2 levels between 2015 and 2016 is 3.41ppm, which is greater than 3ppm\n"
     ]
    }
   ],
   "source": [
    "index = 0\n",
    "while index <20:\n",
    "    for yr,_ in co2_data:\n",
    "        diff = co2_data[index][1]-co2_data[index-1][1]\n",
    "        if diff >= 3:                                  #operator changed from > to >=\n",
    "            prevyr = (co2_data[index-1][0])\n",
    "            print(f\"Difference in co2 levels between {prevyr} and {yr} is {diff:.2f}ppm, which is greater than 3ppm\")\n",
    "        index = index + 1"
   ]
  }
 ],
 "metadata": {
  "kernelspec": {
   "display_name": "Python 3 (ipykernel)",
   "language": "python",
   "name": "python3"
  },
  "language_info": {
   "codemirror_mode": {
    "name": "ipython",
    "version": 3
   },
   "file_extension": ".py",
   "mimetype": "text/x-python",
   "name": "python",
   "nbconvert_exporter": "python",
   "pygments_lexer": "ipython3",
   "version": "3.11.7"
  },
  "toc": {
   "base_numbering": 1,
   "nav_menu": {},
   "number_sections": true,
   "sideBar": true,
   "skip_h1_title": false,
   "title_cell": "Table of Contents",
   "title_sidebar": "Contents",
   "toc_cell": false,
   "toc_position": {},
   "toc_section_display": true,
   "toc_window_display": false
  },
  "vscode": {
   "interpreter": {
    "hash": "31f2aee4e71d21fbe5cf8b01ff0e069b9275f58929596ceb00d14d90e3e16cd6"
   }
  }
 },
 "nbformat": 4,
 "nbformat_minor": 5
}

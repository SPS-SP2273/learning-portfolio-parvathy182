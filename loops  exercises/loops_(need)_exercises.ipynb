{
 "cells": [
  {
   "attachments": {},
   "cell_type": "markdown",
   "id": "123456",
   "metadata": {},
   "source": [
    "<div style=\"text-align:left;font-size:2em\"><span style=\"font-weight:bolder;font-size:1.25em\">SP2273 | Learning Portfolio</span><br><br><span style=\"font-weight:bold;color:darkred\">Loops (Need) Exercises</span></div>"
   ]
  },
  {
   "cell_type": "markdown",
   "id": "9a114724-d3e4-42eb-af4f-1a9ff2e8cadc",
   "metadata": {},
   "source": [
    "```EXERCISE 1```"
   ]
  },
  {
   "cell_type": "code",
   "execution_count": 8,
   "id": "2e3ddf60-21ea-4b1c-9555-2a64063086c0",
   "metadata": {},
   "outputs": [],
   "source": [
    "temperatures_celsius = [\n",
    "    0, 5, 10, 15, 20, 25,\n",
    "    30, 35, 40, 45, 50\n",
    "]"
   ]
  },
  {
   "cell_type": "code",
   "execution_count": 6,
   "id": "d08cbed8-5ca6-407d-946b-006ff25d0ef1",
   "metadata": {},
   "outputs": [
    {
     "name": "stdout",
     "output_type": "stream",
     "text": [
      "0 32.0\n",
      "5 41.0\n",
      "10 50.0\n",
      "15 59.0\n",
      "20 68.0\n",
      "25 77.0\n",
      "30 86.0\n",
      "35 95.0\n",
      "40 104.0\n",
      "45 113.0\n",
      "50 122.0\n"
     ]
    }
   ],
   "source": [
    "for cel in temperatures_celsius:\n",
    "    far = (cel*(9/5)) + 32\n",
    "    print (cel, far)"
   ]
  },
  {
   "cell_type": "markdown",
   "id": "035ce9c2-8c87-46ff-ab0b-c296e47df42b",
   "metadata": {},
   "source": [
    "```EXERCISE 2```"
   ]
  },
  {
   "cell_type": "code",
   "execution_count": 53,
   "id": "3c172910-d8e3-44e1-84ba-a6684171d3ef",
   "metadata": {},
   "outputs": [
    {
     "name": "stdout",
     "output_type": "stream",
     "text": [
      "A1\tA2\tA3\t\n",
      "\n",
      "B1\tB2\tB3\t\n",
      "\n",
      "C1\tC2\tC3\t\n",
      "\n"
     ]
    }
   ],
   "source": [
    "for letter in ['A', 'B', 'C']:\n",
    "    for number in [1, 2, 3]:\n",
    "        print(f'{letter}{number}', end='\\t') #t is tab\n",
    "    print('\\n') #n is new line"
   ]
  },
  {
   "cell_type": "code",
   "execution_count": 54,
   "id": "d83710d3-2c8a-42dc-9611-644b7be4b864",
   "metadata": {},
   "outputs": [
    {
     "name": "stdout",
     "output_type": "stream",
     "text": [
      "1 :1\t2\t3\t4\t5\t\n",
      "\n",
      "2 :2\t4\t6\t8\t10\t\n",
      "\n",
      "3 :3\t6\t9\t12\t15\t\n",
      "\n",
      "4 :4\t8\t12\t16\t20\t\n",
      "\n",
      "5 :5\t10\t15\t20\t25\t\n",
      "\n"
     ]
    }
   ],
   "source": [
    "for num in [1,2,3,4,5]:\n",
    "    print(num,':',end='') #the next print function will print on the same line\n",
    "    for mult in [1,2,3,4,5]:\n",
    "        print (f'{num*mult}', end='\\t')\n",
    "    print('\\n')"
   ]
  }
 ],
 "metadata": {
  "kernelspec": {
   "display_name": "Python 3 (ipykernel)",
   "language": "python",
   "name": "python3"
  },
  "language_info": {
   "codemirror_mode": {
    "name": "ipython",
    "version": 3
   },
   "file_extension": ".py",
   "mimetype": "text/x-python",
   "name": "python",
   "nbconvert_exporter": "python",
   "pygments_lexer": "ipython3",
   "version": "3.11.7"
  },
  "toc": {
   "base_numbering": 1,
   "nav_menu": {},
   "number_sections": true,
   "sideBar": true,
   "skip_h1_title": false,
   "title_cell": "Table of Contents",
   "title_sidebar": "Contents",
   "toc_cell": false,
   "toc_position": {},
   "toc_section_display": true,
   "toc_window_display": false
  },
  "vscode": {
   "interpreter": {
    "hash": "31f2aee4e71d21fbe5cf8b01ff0e069b9275f58929596ceb00d14d90e3e16cd6"
   }
  }
 },
 "nbformat": 4,
 "nbformat_minor": 5
}

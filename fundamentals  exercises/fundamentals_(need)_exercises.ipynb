{
 "cells": [
  {
   "attachments": {},
   "cell_type": "markdown",
   "id": "123456",
   "metadata": {},
   "source": [
    "<div style=\"text-align:left;font-size:2em\"><span style=\"font-weight:bolder;font-size:1.25em\">SP2273 | Learning Portfolio</span><br><br><span style=\"font-weight:bold;color:darkred\">Fundamentals (Need) Exercises</span></div>"
   ]
  },
  {
   "cell_type": "markdown",
   "id": "ce7aa0e6-93db-4fd2-99c3-c6b96cdbaff2",
   "metadata": {},
   "source": [
    "1. Functions and their syntax e.g. print(' ')\n",
    "2. if ==\n",
    "        function() - for TRUE\n",
    "   else\n",
    "        function() - for FALSE\n",
    "4. #for comments\n",
    "5. variables age or text? age vs 'age'\n",
    "6. () function brackets, {} definition brackets, *[] data lists*\n",
    "*7. import packages*\n",
    "*8. = for assigning, == for asking/checking*\n",
    "*9. Using dots to invoke properties and (functions from packages)*"
   ]
  },
  {
   "cell_type": "code",
   "execution_count": 1,
   "id": "29736ff7-134a-44d7-b5d7-48c57c2ff4d1",
   "metadata": {},
   "outputs": [],
   "source": [
    "import math"
   ]
  },
  {
   "cell_type": "code",
   "execution_count": 2,
   "id": "570dfe6d-16bf-4c11-9c51-c700252a05b8",
   "metadata": {},
   "outputs": [
    {
     "name": "stdout",
     "output_type": "stream",
     "text": [
      "3 4 5.0\n"
     ]
    }
   ],
   "source": [
    "x=3\n",
    "y=4\n",
    "z=math.sqrt(x**2 + y**2)\n",
    "print(x,y,z)"
   ]
  },
  {
   "cell_type": "markdown",
   "id": "a09f3d9c-b84e-4324-990a-b1222cb81190",
   "metadata": {},
   "source": [
    "| #   |  Term   |  Description  |\n",
    "| :--- | :--: | ---: |\n",
    "| 1   |  Functions  |   A piece of code that excutes a specific task |\n",
    "| 2   |  Arguments  |   Something that is inserted into the function, and from which an output is produced. It is something a function works with |\n",
    "| 3   |  Comments  |   Something python does not read, can be used as notes |\n",
    "| 4   |  Indentations  |  python uses this to discriminate between true/Falses, and other functions etc  |\n",
    "| 5   |  Packages  | Brings in a set of non-built-in functions for use  |\n",
    "| 6   |  .  | Indicates the package to which the function belongs to package.function  |\n",
    "| 7   |  ..  |  Used in the (if,else) function if.....:  |\n",
    "| 8   |  []  | Used for a simple one-lined list |\n",
    "| 9   | [[[]]]  | For lists in lists |\n",
    "| 10   |  {}  | For deifining - as in a dictionary  |"
   ]
  },
  {
   "cell_type": "code",
   "execution_count": 5,
   "id": "09112a07-f087-4ee7-b8d5-6269a4dd7afa",
   "metadata": {},
   "outputs": [
    {
     "data": {
      "text/plain": [
       "2.5"
      ]
     },
     "execution_count": 5,
     "metadata": {},
     "output_type": "execute_result"
    }
   ],
   "source": [
    "5/2 #Exact"
   ]
  },
  {
   "cell_type": "code",
   "execution_count": 6,
   "id": "c6b23ce9-e2f9-4094-9bbb-aa8eee4882d5",
   "metadata": {},
   "outputs": [
    {
     "data": {
      "text/plain": [
       "2"
      ]
     },
     "execution_count": 6,
     "metadata": {},
     "output_type": "execute_result"
    }
   ],
   "source": [
    " 5//2 #round-down"
   ]
  },
  {
   "cell_type": "code",
   "execution_count": 7,
   "id": "68226009-a1e2-4d89-9aeb-16a84e7ba0c7",
   "metadata": {},
   "outputs": [
    {
     "data": {
      "text/plain": [
       "1"
      ]
     },
     "execution_count": 7,
     "metadata": {},
     "output_type": "execute_result"
    }
   ],
   "source": [
    "5%2 #remainder"
   ]
  }
 ],
 "metadata": {
  "kernelspec": {
   "display_name": "Python 3 (ipykernel)",
   "language": "python",
   "name": "python3"
  },
  "language_info": {
   "codemirror_mode": {
    "name": "ipython",
    "version": 3
   },
   "file_extension": ".py",
   "mimetype": "text/x-python",
   "name": "python",
   "nbconvert_exporter": "python",
   "pygments_lexer": "ipython3",
   "version": "3.11.7"
  },
  "toc": {
   "base_numbering": 1,
   "nav_menu": {},
   "number_sections": true,
   "sideBar": true,
   "skip_h1_title": false,
   "title_cell": "Table of Contents",
   "title_sidebar": "Contents",
   "toc_cell": false,
   "toc_position": {},
   "toc_section_display": true,
   "toc_window_display": false
  },
  "vscode": {
   "interpreter": {
    "hash": "31f2aee4e71d21fbe5cf8b01ff0e069b9275f58929596ceb00d14d90e3e16cd6"
   }
  }
 },
 "nbformat": 4,
 "nbformat_minor": 5
}

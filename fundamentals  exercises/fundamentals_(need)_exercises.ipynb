{
 "cells": [
  {
   "attachments": {},
   "cell_type": "markdown",
   "id": "123456",
   "metadata": {},
   "source": [
    "<div style=\"text-align:left;font-size:2em\"><span style=\"font-weight:bolder;font-size:1.25em\">SP2273 | Learning Portfolio</span><br><br><span style=\"font-weight:bold;color:darkred\">Fundamentals (Need) Exercises</span></div>"
   ]
  },
  {
   "cell_type": "markdown",
   "id": "ce7aa0e6-93db-4fd2-99c3-c6b96cdbaff2",
   "metadata": {},
   "source": [
    "1. Functions and their syntax e.g. print(' ')\n",
    "2. if, else function tests a condition. **IF (the input is something)-(return this), ELSE (return this)**\n",
    "3. #for comments\n",
    "4. variables age or text? age vs 'age'\n",
    "5. () function brackets, {} definition brackets, *[] data lists*\n",
    "6. *import packages*\n",
    "7. *= for assigning, == for asking/checking*\n",
    "8. *Using dots to invoke properties and (functions from packages)*"
   ]
  },
  {
   "cell_type": "code",
   "execution_count": 18,
   "id": "29736ff7-134a-44d7-b5d7-48c57c2ff4d1",
   "metadata": {},
   "outputs": [],
   "source": [
    "import math"
   ]
  },
  {
   "cell_type": "code",
   "execution_count": 19,
   "id": "570dfe6d-16bf-4c11-9c51-c700252a05b8",
   "metadata": {},
   "outputs": [
    {
     "name": "stdout",
     "output_type": "stream",
     "text": [
      "3 4 5.0\n"
     ]
    }
   ],
   "source": [
    "x=3\n",
    "y=4\n",
    "z=math.sqrt(x**2 + y**2)\n",
    "print(x,y,z)"
   ]
  },
  {
   "cell_type": "markdown",
   "id": "a09f3d9c-b84e-4324-990a-b1222cb81190",
   "metadata": {},
   "source": [
    "| #   |  Term   |  Description  |\n",
    "| :--- | :--: | ---: |\n",
    "| 1   |  Functions  |   A piece of code that excutes a specific task ONLY when called upon |\n",
    "| 2   |  Arguments  |   Something that is inserted into the function, and from which an output is produced. It is something a function works with |\n",
    "| 3   |  Comments  |   Something python does not read, can be used as notes |\n",
    "| 4   |  Indentations  |  Python uses this to discriminate a particular group of code that is run together as a block of code |\n",
    "| 5   |  Packages  | Brings in a set of non-built-in functions for use  |\n",
    "| 6   |  .  | Indicates the package to which the function belongs to package.function  |\n",
    "| 7   |  :  |  Used in the (if,else) function if.....:  |\n",
    "| 8   |  []  | Used for a simple one-lined list |\n",
    "| 9   | [[[]]]  | For nested lists (allows to keep several sets of data in a singe set |\n",
    "| 10   |  {}  | For deifining - as in a dictionary  |"
   ]
  },
  {
   "cell_type": "code",
   "execution_count": 3,
   "id": "09112a07-f087-4ee7-b8d5-6269a4dd7afa",
   "metadata": {},
   "outputs": [
    {
     "data": {
      "text/plain": [
       "2.5"
      ]
     },
     "execution_count": 3,
     "metadata": {},
     "output_type": "execute_result"
    }
   ],
   "source": [
    "5/2 #This is standard division. Division(float) (Does not always give exact value, especially if the decimal places are too large)"
   ]
  },
  {
   "cell_type": "code",
   "execution_count": 17,
   "id": "e3f5c26e-8fe2-4c4c-918c-4e695f905538",
   "metadata": {},
   "outputs": [
    {
     "data": {
      "text/plain": [
       "16.666666666666668"
      ]
     },
     "execution_count": 17,
     "metadata": {},
     "output_type": "execute_result"
    }
   ],
   "source": [
    "100/6 #There are limits to the standard division operation."
   ]
  },
  {
   "cell_type": "code",
   "execution_count": 2,
   "id": "c6b23ce9-e2f9-4094-9bbb-aa8eee4882d5",
   "metadata": {},
   "outputs": [
    {
     "data": {
      "text/plain": [
       "2"
      ]
     },
     "execution_count": 2,
     "metadata": {},
     "output_type": "execute_result"
    }
   ],
   "source": [
    " 5//2 #Division (floor) - Divides the first number by the second and rounds it down to the nearest integer (also known as integer division)"
   ]
  },
  {
   "cell_type": "code",
   "execution_count": 4,
   "id": "68226009-a1e2-4d89-9aeb-16a84e7ba0c7",
   "metadata": {},
   "outputs": [
    {
     "data": {
      "text/plain": [
       "1"
      ]
     },
     "execution_count": 4,
     "metadata": {},
     "output_type": "execute_result"
    }
   ],
   "source": [
    "5%2 #Modulus - returns the remainder when the first operand is divided by the second"
   ]
  },
  {
   "cell_type": "code",
   "execution_count": 14,
   "id": "9b66ca7b-df1c-4aea-9ad9-a50952c1b8a0",
   "metadata": {},
   "outputs": [],
   "source": [
    "import math #EXTRA (Rounding functions in python)"
   ]
  },
  {
   "cell_type": "code",
   "execution_count": 9,
   "id": "bb865695-f0af-45f5-8f07-3343cbe08de9",
   "metadata": {},
   "outputs": [
    {
     "data": {
      "text/plain": [
       "2"
      ]
     },
     "execution_count": 9,
     "metadata": {},
     "output_type": "execute_result"
    }
   ],
   "source": [
    "math.ceil(5//2) #Rounding to nearest integer"
   ]
  },
  {
   "cell_type": "code",
   "execution_count": 11,
   "id": "c9506b6a-9736-48be-a3f8-c48615471250",
   "metadata": {},
   "outputs": [
    {
     "data": {
      "text/plain": [
       "2"
      ]
     },
     "execution_count": 11,
     "metadata": {},
     "output_type": "execute_result"
    }
   ],
   "source": [
    "math.floor(5//2) #Rounding down"
   ]
  },
  {
   "cell_type": "code",
   "execution_count": 12,
   "id": "c0f49d50-b317-4187-8ed8-ad51c5052ae1",
   "metadata": {},
   "outputs": [
    {
     "data": {
      "text/plain": [
       "3"
      ]
     },
     "execution_count": 12,
     "metadata": {},
     "output_type": "execute_result"
    }
   ],
   "source": [
    "math.ceil(2.6)"
   ]
  },
  {
   "cell_type": "code",
   "execution_count": 13,
   "id": "a5741d60-af53-43d0-95ce-5bed1a764ccf",
   "metadata": {},
   "outputs": [
    {
     "data": {
      "text/plain": [
       "2"
      ]
     },
     "execution_count": 13,
     "metadata": {},
     "output_type": "execute_result"
    }
   ],
   "source": [
    "math.floor(2.6)"
   ]
  }
 ],
 "metadata": {
  "kernelspec": {
   "display_name": "Python 3 (ipykernel)",
   "language": "python",
   "name": "python3"
  },
  "language_info": {
   "codemirror_mode": {
    "name": "ipython",
    "version": 3
   },
   "file_extension": ".py",
   "mimetype": "text/x-python",
   "name": "python",
   "nbconvert_exporter": "python",
   "pygments_lexer": "ipython3",
   "version": "3.11.7"
  },
  "toc": {
   "base_numbering": 1,
   "nav_menu": {},
   "number_sections": true,
   "sideBar": true,
   "skip_h1_title": false,
   "title_cell": "Table of Contents",
   "title_sidebar": "Contents",
   "toc_cell": false,
   "toc_position": {},
   "toc_section_display": true,
   "toc_window_display": false
  },
  "vscode": {
   "interpreter": {
    "hash": "31f2aee4e71d21fbe5cf8b01ff0e069b9275f58929596ceb00d14d90e3e16cd6"
   }
  }
 },
 "nbformat": 4,
 "nbformat_minor": 5
}

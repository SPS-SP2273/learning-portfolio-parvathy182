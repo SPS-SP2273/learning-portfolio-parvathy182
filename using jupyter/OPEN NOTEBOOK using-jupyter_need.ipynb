{
 "cells": [
  {
   "cell_type": "markdown",
   "id": "68cecd86-4fa7-449e-ab8d-57a2dbebd322",
   "metadata": {},
   "source": [
    "OPENING A NEW PYTHON NOTEBOOK"
   ]
  }
 ],
 "metadata": {
  "kernelspec": {
   "display_name": "Python 3 (ipykernel)",
   "language": "python",
   "name": "python3"
  },
  "language_info": {
   "codemirror_mode": {
    "name": "ipython",
    "version": 3
   },
   "file_extension": ".py",
   "mimetype": "text/x-python",
   "name": "python",
   "nbconvert_exporter": "python",
   "pygments_lexer": "ipython3",
   "version": "3.11.7"
  }
 },
 "nbformat": 4,
 "nbformat_minor": 5
}

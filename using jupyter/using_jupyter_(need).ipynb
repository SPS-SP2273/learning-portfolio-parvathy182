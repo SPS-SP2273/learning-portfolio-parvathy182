{
 "cells": [
  {
   "attachments": {},
   "cell_type": "markdown",
   "id": "123456",
   "metadata": {},
   "source": [
    "<div style=\"text-align:left;font-size:2em\"><span style=\"font-weight:bolder;font-size:1.25em\">SP2273 | Learning Portfolio</span><br><br><span style=\"font-weight:bold;color:darkred\">Using Jupyter (Need)</span></div>"
   ]
  },
  {
   "attachments": {},
   "cell_type": "markdown",
   "id": "c5910efe",
   "metadata": {},
   "source": [
    "# What to expect in this chapter"
   ]
  },
  {
   "cell_type": "markdown",
   "id": "f4f5d1e5-16b7-4049-af75-33c393b37e6c",
   "metadata": {},
   "source": [
    "Files ending with .ipynb - iPythonNotebooks"
   ]
  },
  {
   "cell_type": "markdown",
   "id": "d82c901f-e400-4bb3-b3d8-ba50ff0d7a99",
   "metadata": {},
   "source": [
    "1. Python 3 (ipykernel) Notebook opens by clicking NEW \n",
    "1. Drag files into the needed folders"
   ]
  },
  {
   "attachments": {},
   "cell_type": "markdown",
   "id": "170a83ff",
   "metadata": {},
   "source": [
    "# Getting ready"
   ]
  },
  {
   "attachments": {},
   "cell_type": "markdown",
   "id": "09cd146f",
   "metadata": {},
   "source": [
    "## Getting started with Jupyter"
   ]
  },
  {
   "cell_type": "markdown",
   "id": "dc8f71f1-035b-49d4-824d-37ccc25238c8",
   "metadata": {},
   "source": [
    "1. Basic unit is called 'cell'\n",
    "2. Change between **CODE** and **MARKDOWN**\n",
    "3. CMND+ENTER to run cells\n",
    "4. A to add cells\n",
    "5. DD to deleted cells"
   ]
  },
  {
   "attachments": {},
   "cell_type": "markdown",
   "id": "682e8a44",
   "metadata": {},
   "source": [
    "##  It is all about running cells"
   ]
  },
  {
   "cell_type": "code",
   "execution_count": 10,
   "id": "a34719f2-e08c-4857-8d73-b2acfefe2180",
   "metadata": {},
   "outputs": [
    {
     "name": "stdout",
     "output_type": "stream",
     "text": [
      "6\n"
     ]
    }
   ],
   "source": [
    "a=2 #running code-cells\n",
    "b=4\n",
    "c=a+b\n",
    "print(c)"
   ]
  },
  {
   "attachments": {},
   "cell_type": "markdown",
   "id": "b8857ec4",
   "metadata": {},
   "source": [
    "## A traditional start"
   ]
  },
  {
   "cell_type": "code",
   "execution_count": 3,
   "id": "57936d56-c8c3-43c1-8fea-676c4e219efa",
   "metadata": {},
   "outputs": [
    {
     "name": "stdout",
     "output_type": "stream",
     "text": [
      "Hello World!\n"
     ]
    }
   ],
   "source": [
    "print('Hello World!') #code cell"
   ]
  },
  {
   "attachments": {},
   "cell_type": "markdown",
   "id": "d53663d3",
   "metadata": {},
   "source": [
    "# All about Markdown"
   ]
  },
  {
   "attachments": {},
   "cell_type": "markdown",
   "id": "dfe96ade",
   "metadata": {},
   "source": [
    "## Rendering Markdown cells"
   ]
  },
  {
   "cell_type": "code",
   "execution_count": 11,
   "id": "e35377a3-68c0-4325-9ca0-7831a1583e0b",
   "metadata": {},
   "outputs": [],
   "source": [
    "# Markdown cells by Esc+M"
   ]
  },
  {
   "cell_type": "markdown",
   "id": "00b061ee-354f-4523-80fb-e4cf6cd06233",
   "metadata": {},
   "source": [
    "Hello World! "
   ]
  },
  {
   "cell_type": "markdown",
   "id": "0891aeb5-3324-4343-b682-6da6dee94c67",
   "metadata": {},
   "source": [
    "The ships hung in the sky in much the same way that bricks don’t."
   ]
  },
  {
   "attachments": {},
   "cell_type": "markdown",
   "id": "9190677d",
   "metadata": {},
   "source": [
    "## Some basic syntax"
   ]
  },
  {
   "cell_type": "markdown",
   "id": "dd10d4b6-be83-472a-bfa4-ed282cb1d4d3",
   "metadata": {},
   "source": [
    "The ships *hung in the sky* in much the same way that **bricks don’t.**<sup>1</sup><sub>Quote</sub>"
   ]
  },
  {
   "attachments": {},
   "cell_type": "markdown",
   "id": "b3bc4eac",
   "metadata": {},
   "source": [
    "## Headings"
   ]
  },
  {
   "cell_type": "markdown",
   "id": "97a7408b-2ce3-42ba-a1b7-d34006ae643d",
   "metadata": {},
   "source": [
    "# the largest heading\n",
    "## the second largest\n",
    "### the third largest\n",
    "#### the smallest"
   ]
  },
  {
   "attachments": {},
   "cell_type": "markdown",
   "id": "6c139f7c",
   "metadata": {},
   "source": [
    "## Displaying Code"
   ]
  },
  {
   "cell_type": "markdown",
   "id": "cf749041-7964-41c5-9507-d4a94216fd1f",
   "metadata": {},
   "source": [
    "```python\n",
    "print('Hello World')\n",
    "```"
   ]
  },
  {
   "cell_type": "code",
   "execution_count": 15,
   "id": "192db9d7-aa3f-4c73-b3e4-d0ce4c94da7c",
   "metadata": {},
   "outputs": [],
   "source": [
    "# displaying python code in markdown cell using BACKTICKS"
   ]
  },
  {
   "attachments": {},
   "cell_type": "markdown",
   "id": "76b14098",
   "metadata": {},
   "source": [
    "## Links"
   ]
  },
  {
   "cell_type": "markdown",
   "id": "82ffd03c-0aa0-4287-9fd8-bbde53e5d2df",
   "metadata": {},
   "source": [
    "[SP2273 WEBSITE](https://sps.nus.edu.sg/sp2273)"
   ]
  },
  {
   "cell_type": "markdown",
   "id": "b04e6c24-fdb2-4bb0-8277-8aef69c50a45",
   "metadata": {},
   "source": [
    "CODE:\n",
    "```python\n",
    "[SP2273 WEBSITE](https://sps.nus.edu.sg/sp2273)\n",
    "```"
   ]
  },
  {
   "attachments": {},
   "cell_type": "markdown",
   "id": "ddc11472",
   "metadata": {},
   "source": [
    "## Images"
   ]
  },
  {
   "cell_type": "markdown",
   "id": "b8cdadaf-83b3-4b15-aebd-49a2522b5a5d",
   "metadata": {},
   "source": [
    "![](https://nus.edu.sg/images/default-source/base/logo.png)"
   ]
  },
  {
   "cell_type": "markdown",
   "id": "b6ee5e06-f07b-44c3-b596-c7dbd6b6b96e",
   "metadata": {},
   "source": [
    "CODE:\n",
    "```python\n",
    "![](https://nus.edu.sg/images/default-source/base/logo.png)\n",
    "```"
   ]
  },
  {
   "attachments": {},
   "cell_type": "markdown",
   "id": "c4da25c8",
   "metadata": {},
   "source": [
    "## Tables"
   ]
  },
  {
   "cell_type": "markdown",
   "id": "f93990ee-1a81-44e4-8319-7c0b9346cb16",
   "metadata": {},
   "source": [
    "| A    |  B   |    C |\n",
    "| :--- | :--: | ---: |\n",
    "| a1   |  b1  |   c1 |\n",
    "| a2   |  b2  |   c2 |\n",
    "| a3   |  b3  |   c3 |"
   ]
  },
  {
   "attachments": {},
   "cell_type": "markdown",
   "id": "f5e83682",
   "metadata": {},
   "source": [
    "## Lists"
   ]
  },
  {
   "cell_type": "markdown",
   "id": "dc3e2577-bef6-41bc-9249-bed8b0faa010",
   "metadata": {},
   "source": [
    "**NUMBERED LIST**\n",
    "1. Master Yoda\n",
    "1. Luke Skywalker\n",
    "1. Anakin Skywalker"
   ]
  },
  {
   "cell_type": "markdown",
   "id": "8cf6e2db-d0ff-4450-9fad-c755bc172f7d",
   "metadata": {},
   "source": [
    "**UNNUMBERED**\n",
    "- Master Yoda\n",
    "- Luke Skywalker\n",
    "- Anakin Skywalker"
   ]
  },
  {
   "cell_type": "markdown",
   "id": "606577d6-9ebc-4973-9833-9224b58687be",
   "metadata": {},
   "source": [
    "**NUMBERED-NUMBERED**\n",
    "1. Master Yoda\n",
    "   1. Was a Jedi\n",
    "   1. Was a bit green\n",
    "1. Luke Skywalker\n",
    "   1. Was a Jedi\n",
    "   1. Is Anakin's son.\n",
    "1. Anakin Skywalker\n",
    "   1. Was a Jedi then became a baddie\n",
    "   1. Is famous for saying 'Luke, I am your father'"
   ]
  },
  {
   "cell_type": "markdown",
   "id": "70740b0e-8ca0-489b-b06a-80e64402e179",
   "metadata": {},
   "source": [
    "**NUMBERED-UNNUMBERED**\n",
    "1. Master Yoda\n",
    "   - Was a Jedi\n",
    "   - Was a bit green\n",
    "1. Luke Skywalker\n",
    "   - Was a Jedi\n",
    "   - Is Anakin's son.\n",
    "1. Anakin Skywalker\n",
    "   - Was a Jedi then, became a baddie\n",
    "   - Is famous for saying, _'Luke, I am your father'_."
   ]
  },
  {
   "attachments": {},
   "cell_type": "markdown",
   "id": "f2b95673",
   "metadata": {},
   "source": [
    "## Equations"
   ]
  },
  {
   "cell_type": "code",
   "execution_count": 3,
   "id": "0f3e25c4-b5a3-4d2a-a94d-ac50d46a9306",
   "metadata": {},
   "outputs": [],
   "source": [
    "#Flanking with single $ indents the equation to the left, flanking with $$ centers the text "
   ]
  },
  {
   "cell_type": "markdown",
   "id": "82cfa05f-017a-4549-b5ff-416de67acb31",
   "metadata": {},
   "source": [
    "$\\sqrt{b^2-4ac}$ "
   ]
  },
  {
   "cell_type": "markdown",
   "id": "0a5b636d-c7b8-40ee-841c-b55135f6f9be",
   "metadata": {},
   "source": [
    "$$\\sqrt{b^2-4ac}$$"
   ]
  },
  {
   "cell_type": "markdown",
   "id": "c2c9da82-6d5e-48a2-9166-3b024ab496dd",
   "metadata": {},
   "source": [
    "$\n",
    "x = \\dfrac{-b \\pm \\sqrt{b^2-4ac}}{2a}\n",
    "$\n"
   ]
  },
  {
   "cell_type": "markdown",
   "id": "0da280af-16e1-4c8b-8a06-928488fab310",
   "metadata": {},
   "source": [
    "$$\n",
    "x = \\dfrac{-b \\pm \\sqrt{b^2-4ac}}{2a}\n",
    "$$"
   ]
  }
 ],
 "metadata": {
  "kernelspec": {
   "display_name": "Python 3 (ipykernel)",
   "language": "python",
   "name": "python3"
  },
  "language_info": {
   "codemirror_mode": {
    "name": "ipython",
    "version": 3
   },
   "file_extension": ".py",
   "mimetype": "text/x-python",
   "name": "python",
   "nbconvert_exporter": "python",
   "pygments_lexer": "ipython3",
   "version": "3.11.7"
  },
  "toc": {
   "base_numbering": 1,
   "nav_menu": {},
   "number_sections": true,
   "sideBar": true,
   "skip_h1_title": false,
   "title_cell": "Table of Contents",
   "title_sidebar": "Contents",
   "toc_cell": false,
   "toc_position": {},
   "toc_section_display": true,
   "toc_window_display": false
  },
  "vscode": {
   "interpreter": {
    "hash": "31f2aee4e71d21fbe5cf8b01ff0e069b9275f58929596ceb00d14d90e3e16cd6"
   }
  }
 },
 "nbformat": 4,
 "nbformat_minor": 5
}

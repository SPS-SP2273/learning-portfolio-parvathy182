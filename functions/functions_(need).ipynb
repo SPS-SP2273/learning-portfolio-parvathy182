{
 "cells": [
  {
   "attachments": {},
   "cell_type": "markdown",
   "id": "123456",
   "metadata": {},
   "source": [
    "<div style=\"text-align:left;font-size:2em\"><span style=\"font-weight:bolder;font-size:1.25em\">SP2273 | Learning Portfolio</span><br><br><span style=\"font-weight:bold;color:darkred\">Functions (Need)</span></div>"
   ]
  },
  {
   "cell_type": "code",
   "execution_count": 62,
   "id": "72f19313-01b0-4b43-9951-d27bf9bb229d",
   "metadata": {},
   "outputs": [],
   "source": [
    "import numpy as np"
   ]
  },
  {
   "attachments": {},
   "cell_type": "markdown",
   "id": "9c24682a",
   "metadata": {},
   "source": [
    "# What to expect in this chapter"
   ]
  },
  {
   "attachments": {},
   "cell_type": "markdown",
   "id": "beba9397",
   "metadata": {},
   "source": [
    "# 1 User-defined functions"
   ]
  },
  {
   "cell_type": "markdown",
   "id": "38cda5ab-5aea-48ad-82f5-0a6c5f16cf46",
   "metadata": {},
   "source": [
    "Creating your own functions: names and anonymous"
   ]
  },
  {
   "attachments": {},
   "cell_type": "markdown",
   "id": "f5835944",
   "metadata": {},
   "source": [
    "## 1.1 Named Functions"
   ]
  },
  {
   "attachments": {},
   "cell_type": "markdown",
   "id": "addc066b",
   "metadata": {},
   "source": [
    "### Named functions that return"
   ]
  },
  {
   "cell_type": "code",
   "execution_count": 1,
   "id": "db78bbf8-1ad3-41ec-944a-3406fc81cb68",
   "metadata": {},
   "outputs": [],
   "source": [
    "def greeting(name):\n",
    "    if name =='batman':\n",
    "        return 'Hello batman! so nice to meet you!'\n",
    "    else:\n",
    "        return f'Hello {name}!'      #using return to get an output from the function"
   ]
  },
  {
   "cell_type": "code",
   "execution_count": 15,
   "id": "bfa16f3f-f02b-49ae-aa20-372373c02d9a",
   "metadata": {},
   "outputs": [
    {
     "data": {
      "text/plain": [
       "'Hello Super Man!'"
      ]
     },
     "execution_count": 15,
     "metadata": {},
     "output_type": "execute_result"
    }
   ],
   "source": [
    "greeting(\"Super Man\")\n",
    "greeting(name=\"Super Man\")"
   ]
  },
  {
   "cell_type": "code",
   "execution_count": 2,
   "id": "435e1482-caee-4b74-a2b9-c230ad3d9970",
   "metadata": {},
   "outputs": [
    {
     "name": "stdout",
     "output_type": "stream",
     "text": [
      "Hello Super Man!\n"
     ]
    }
   ],
   "source": [
    "#get returned value from assigning the function to a variable, also can!\n",
    "greet=greeting(name='Super Man')\n",
    "print(greet)"
   ]
  },
  {
   "cell_type": "code",
   "execution_count": 3,
   "id": "246d8c31-07e1-4302-beab-f88f9f34b56d",
   "metadata": {},
   "outputs": [
    {
     "name": "stdout",
     "output_type": "stream",
     "text": [
      "Hello Super Man!\n"
     ]
    }
   ],
   "source": [
    "#just directly printing the entire thing also works\n",
    "print(greeting(name='Super Man'))"
   ]
  },
  {
   "cell_type": "code",
   "execution_count": 81,
   "id": "89de4f81-5575-4fb2-b47c-a7ce30d5f885",
   "metadata": {},
   "outputs": [],
   "source": [
    "#defined the basic_stats function\n",
    "def basic_stats(numbers):\n",
    "    np_numbers = np.array(numbers)\n",
    "    my_min = np_numbers.min()\n",
    "    my_max = np_numbers.max()\n",
    "    my_mean = np_numbers.mean()\n",
    "    return my_max, my_min, my_mean"
   ]
  },
  {
   "cell_type": "code",
   "execution_count": 84,
   "id": "244f4678-8323-495b-9098-92ddfa2ab64d",
   "metadata": {},
   "outputs": [
    {
     "data": {
      "text/plain": [
       "(5, 1, 3.0)"
      ]
     },
     "execution_count": 84,
     "metadata": {},
     "output_type": "execute_result"
    }
   ],
   "source": [
    "my_list = basic_stats([1,2,3,4,5]) #defined the function in a variable\n",
    "my_list #give me the result of my_list"
   ]
  },
  {
   "attachments": {},
   "cell_type": "markdown",
   "id": "1d746b39",
   "metadata": {},
   "source": [
    "### Named functions that don’t return"
   ]
  },
  {
   "cell_type": "markdown",
   "id": "1e4cea4f-3495-48f2-8337-533d1b0407ec",
   "metadata": {},
   "source": [
    "Some functions don't return anything like the print() function and these can be useful in certain instances like saving a file"
   ]
  },
  {
   "attachments": {},
   "cell_type": "markdown",
   "id": "c43ee8a0",
   "metadata": {},
   "source": [
    "## 1.2 Anonymous functions"
   ]
  },
  {
   "cell_type": "markdown",
   "id": "e62e0e76-0cb1-4ccb-84b7-0e81dd45bf86",
   "metadata": {},
   "source": [
    "Anonymous/lambda functions are suitable for short one-liners"
   ]
  },
  {
   "cell_type": "markdown",
   "id": "1e2a921d-0873-49a9-b4b3-362a68af16d0",
   "metadata": {},
   "source": [
    "```Example 1```"
   ]
  },
  {
   "cell_type": "code",
   "execution_count": 90,
   "id": "1e300ead-646e-46ad-a846-3b12c90620ad",
   "metadata": {},
   "outputs": [],
   "source": [
    "#function accepts a single argument called 'name'\n",
    "afunction = lambda name: f\"Hello {name}!\""
   ]
  },
  {
   "cell_type": "code",
   "execution_count": 92,
   "id": "bf523c00-42e1-43c7-b0f0-38279bc78be9",
   "metadata": {},
   "outputs": [
    {
     "data": {
      "text/plain": [
       "'Hello Super Man!'"
      ]
     },
     "execution_count": 92,
     "metadata": {},
     "output_type": "execute_result"
    }
   ],
   "source": [
    "afunction(name=\"Super Man\")\n",
    "#noT A GOOD EXAMPLE OF A anonymous' FUNCTION AS IT WAS NAMED"
   ]
  },
  {
   "cell_type": "markdown",
   "id": "a0871ca5-56eb-4019-b761-0fd19b5f3e58",
   "metadata": {},
   "source": [
    "```Example 2```"
   ]
  },
  {
   "cell_type": "code",
   "execution_count": 97,
   "id": "a51bdad1-dc58-43be-87f3-d4c47cf7c2d7",
   "metadata": {},
   "outputs": [],
   "source": [
    "#USING THE sorted() FUNCTION\n",
    "num=[[9, 0, -10],\n",
    "         [8, 1, -11],\n",
    "         [7, 2, -12],\n",
    "         [6, 3, -13],\n",
    "         [5, 4, -14],\n",
    "         [4, 5, -15],\n",
    "         [3, 6, -16],\n",
    "         [2, 7, -17],\n",
    "         [1, 8, -18],\n",
    "         [0, 9, -19]]"
   ]
  },
  {
   "cell_type": "code",
   "execution_count": 98,
   "id": "9002e7b7-e575-41cc-8ae3-4685619d7612",
   "metadata": {},
   "outputs": [
    {
     "data": {
      "text/plain": [
       "[[0, 9, -19],\n",
       " [1, 8, -18],\n",
       " [2, 7, -17],\n",
       " [3, 6, -16],\n",
       " [4, 5, -15],\n",
       " [5, 4, -14],\n",
       " [6, 3, -13],\n",
       " [7, 2, -12],\n",
       " [8, 1, -11],\n",
       " [9, 0, -10]]"
      ]
     },
     "execution_count": 98,
     "metadata": {},
     "output_type": "execute_result"
    }
   ],
   "source": [
    "#sort in ascending order of the first element\n",
    "sorted(num)"
   ]
  },
  {
   "cell_type": "code",
   "execution_count": 99,
   "id": "f6691abf-c76e-46a8-bd6c-c72f5ba1ce84",
   "metadata": {},
   "outputs": [
    {
     "data": {
      "text/plain": [
       "[[9, 0, -10],\n",
       " [8, 1, -11],\n",
       " [7, 2, -12],\n",
       " [6, 3, -13],\n",
       " [5, 4, -14],\n",
       " [4, 5, -15],\n",
       " [3, 6, -16],\n",
       " [2, 7, -17],\n",
       " [1, 8, -18],\n",
       " [0, 9, -19]]"
      ]
     },
     "execution_count": 99,
     "metadata": {},
     "output_type": "execute_result"
    }
   ],
   "source": [
    "#sort in ascending order of the index 1 element\n",
    "sorted(numbers, key=lambda x:x[1])"
   ]
  },
  {
   "cell_type": "code",
   "execution_count": 100,
   "id": "cda5275e-cd74-4973-881c-c1550abd1dbe",
   "metadata": {},
   "outputs": [
    {
     "data": {
      "text/plain": [
       "[[0, 9, -19],\n",
       " [1, 8, -18],\n",
       " [2, 7, -17],\n",
       " [3, 6, -16],\n",
       " [4, 5, -15],\n",
       " [5, 4, -14],\n",
       " [6, 3, -13],\n",
       " [7, 2, -12],\n",
       " [8, 1, -11],\n",
       " [9, 0, -10]]"
      ]
     },
     "execution_count": 100,
     "metadata": {},
     "output_type": "execute_result"
    }
   ],
   "source": [
    "#sort in ascending order of the index 2 element\n",
    "sorted(numbers, key=lambda x:x[2])"
   ]
  },
  {
   "cell_type": "code",
   "execution_count": 101,
   "id": "d9fd9321-9145-4688-8379-20d94c9c674e",
   "metadata": {},
   "outputs": [
    {
     "data": {
      "text/plain": [
       "[[0, 9, -19],\n",
       " [1, 8, -18],\n",
       " [2, 7, -17],\n",
       " [3, 6, -16],\n",
       " [4, 5, -15],\n",
       " [5, 4, -14],\n",
       " [6, 3, -13],\n",
       " [7, 2, -12],\n",
       " [8, 1, -11],\n",
       " [9, 0, -10]]"
      ]
     },
     "execution_count": 101,
     "metadata": {},
     "output_type": "execute_result"
    }
   ],
   "source": [
    "#to sort by another criteris - specify A KEY\n",
    "sorted(num, key=lambda x:sum(x))"
   ]
  },
  {
   "cell_type": "code",
   "execution_count": 103,
   "id": "a1403d82-a6a8-444c-a07d-fc9763b29695",
   "metadata": {},
   "outputs": [
    {
     "data": {
      "text/plain": [
       "[[9, 0, -10],\n",
       " [8, 1, -11],\n",
       " [7, 2, -12],\n",
       " [6, 3, -13],\n",
       " [5, 4, -14],\n",
       " [4, 5, -15],\n",
       " [3, 6, -16],\n",
       " [2, 7, -17],\n",
       " [1, 8, -18],\n",
       " [0, 9, -19]]"
      ]
     },
     "execution_count": 103,
     "metadata": {},
     "output_type": "execute_result"
    }
   ],
   "source": [
    "#sort according to the sum of the 2nd and 3rd elements of the sub-lists\n",
    "sorted(num, key=lambda x:sum(x[1:2])) "
   ]
  },
  {
   "attachments": {},
   "cell_type": "markdown",
   "id": "fe26a001",
   "metadata": {},
   "source": [
    "## 1.3 Optional arguments"
   ]
  },
  {
   "cell_type": "code",
   "execution_count": 104,
   "id": "d1ca314e-fd2d-4e08-b478-e0f8be9c4a57",
   "metadata": {},
   "outputs": [],
   "source": [
    "def greeting(name='no one'):\n",
    "    if name == 'Batman':\n",
    "        return 'Hello Batman! So, nice to meet you!'\n",
    "    else:\n",
    "        return f'Hello {name}!'"
   ]
  },
  {
   "cell_type": "code",
   "execution_count": 107,
   "id": "088155c1-6d57-4a52-b929-4499bd1b4ab7",
   "metadata": {},
   "outputs": [
    {
     "data": {
      "text/plain": [
       "'Hello no one!'"
      ]
     },
     "execution_count": 107,
     "metadata": {},
     "output_type": "execute_result"
    }
   ],
   "source": [
    "#running the function without an argument, and it wil still work without throwing an error\n",
    "greeting() "
   ]
  },
  {
   "cell_type": "code",
   "execution_count": 110,
   "id": "36efed6c-271a-4614-8220-9be6c1c4e218",
   "metadata": {},
   "outputs": [
    {
     "data": {
      "text/plain": [
       "\u001b[0;31mSignature:\u001b[0m \u001b[0mprint\u001b[0m\u001b[0;34m(\u001b[0m\u001b[0;34m*\u001b[0m\u001b[0margs\u001b[0m\u001b[0;34m,\u001b[0m \u001b[0msep\u001b[0m\u001b[0;34m=\u001b[0m\u001b[0;34m' '\u001b[0m\u001b[0;34m,\u001b[0m \u001b[0mend\u001b[0m\u001b[0;34m=\u001b[0m\u001b[0;34m'\\n'\u001b[0m\u001b[0;34m,\u001b[0m \u001b[0mfile\u001b[0m\u001b[0;34m=\u001b[0m\u001b[0;32mNone\u001b[0m\u001b[0;34m,\u001b[0m \u001b[0mflush\u001b[0m\u001b[0;34m=\u001b[0m\u001b[0;32mFalse\u001b[0m\u001b[0;34m)\u001b[0m\u001b[0;34m\u001b[0m\u001b[0;34m\u001b[0m\u001b[0m\n",
       "\u001b[0;31mDocstring:\u001b[0m\n",
       "Prints the values to a stream, or to sys.stdout by default.\n",
       "\n",
       "sep\n",
       "  string inserted between values, default a space.\n",
       "end\n",
       "  string appended after the last value, default a newline.\n",
       "file\n",
       "  a file-like object (stream); defaults to the current sys.stdout.\n",
       "flush\n",
       "  whether to forcibly flush the stream.\n",
       "\u001b[0;31mType:\u001b[0m      builtin_function_or_method"
      ]
     },
     "metadata": {},
     "output_type": "display_data"
    }
   ],
   "source": [
    "?print"
   ]
  },
  {
   "cell_type": "code",
   "execution_count": 116,
   "id": "b30810c5-9647-4ac9-a0d3-23748402c3bb",
   "metadata": {},
   "outputs": [
    {
     "name": "stdout",
     "output_type": "stream",
     "text": [
      "I am parvathy\n",
      "i!!!am!!!parvathy\n"
     ]
    }
   ],
   "source": [
    "#print() can accep arguments that are optional with default values\n",
    "#USING DEFAULT VALUES\n",
    "print('I', 'am', 'parvathy')\n",
    "#optional argument is...\n",
    "print('i', 'am', 'parvathy', sep='!!!')"
   ]
  },
  {
   "attachments": {},
   "cell_type": "markdown",
   "id": "7663bebf",
   "metadata": {},
   "source": [
    "## 1.4 The importance of functions?"
   ]
  },
  {
   "attachments": {},
   "cell_type": "markdown",
   "id": "7799181b",
   "metadata": {},
   "source": [
    "### An argument for functions"
   ]
  },
  {
   "cell_type": "markdown",
   "id": "299b02d2-b2e1-4823-a31e-23087a097e32",
   "metadata": {},
   "source": [
    "**Abstratcion of details**\n",
    "1. Functions help break down complex problems.\n",
    "2. Focus on the big picture without all the tiny details.\n",
    "3. Abstraction hides unnecessary information.\n",
    "\n",
    "**Reusability of code:**\n",
    "1. Functions make it easy to reuse code.\n",
    "2. No need to rewrite code every time.\n",
    "3. Results in shorter and cleaner code.\n",
    "\n",
    "**Maintainability of code:**\n",
    "1. Changes only need to be made in one place.\n",
    "2. Modifications are simpler with functions."
   ]
  },
  {
   "attachments": {},
   "cell_type": "markdown",
   "id": "20b73914",
   "metadata": {},
   "source": [
    "### A word of caution"
   ]
  },
  {
   "cell_type": "markdown",
   "id": "694df0fc-7eaf-41ca-9f78-b0fa84f64f93",
   "metadata": {},
   "source": [
    "Using functions too much or giving them too many tasks can make code messy and slow down your program"
   ]
  }
 ],
 "metadata": {
  "kernelspec": {
   "display_name": "Python 3 (ipykernel)",
   "language": "python",
   "name": "python3"
  },
  "language_info": {
   "codemirror_mode": {
    "name": "ipython",
    "version": 3
   },
   "file_extension": ".py",
   "mimetype": "text/x-python",
   "name": "python",
   "nbconvert_exporter": "python",
   "pygments_lexer": "ipython3",
   "version": "3.11.7"
  },
  "toc": {
   "base_numbering": 1,
   "nav_menu": {},
   "number_sections": true,
   "sideBar": true,
   "skip_h1_title": false,
   "title_cell": "Table of Contents",
   "title_sidebar": "Contents",
   "toc_cell": false,
   "toc_position": {},
   "toc_section_display": true,
   "toc_window_display": false
  },
  "vscode": {
   "interpreter": {
    "hash": "31f2aee4e71d21fbe5cf8b01ff0e069b9275f58929596ceb00d14d90e3e16cd6"
   }
  }
 },
 "nbformat": 4,
 "nbformat_minor": 5
}

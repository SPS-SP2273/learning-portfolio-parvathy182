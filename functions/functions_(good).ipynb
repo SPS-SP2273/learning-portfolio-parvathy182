{
 "cells": [
  {
   "attachments": {},
   "cell_type": "markdown",
   "id": "123456",
   "metadata": {},
   "source": [
    "<div style=\"text-align:left;font-size:2em\"><span style=\"font-weight:bolder;font-size:1.25em\">SP2273 | Learning Portfolio</span><br><br><span style=\"font-weight:bold;color:darkred\">Functions (Good)</span></div>"
   ]
  },
  {
   "attachments": {},
   "cell_type": "markdown",
   "id": "555e15fa",
   "metadata": {},
   "source": [
    "# What to expect in this chapter"
   ]
  },
  {
   "cell_type": "markdown",
   "id": "0cd9e540-f741-4944-b920-67006a02dfd1",
   "metadata": {},
   "source": [
    "Know the difference between positional, keyword and default arguments of functions\n",
    "\n",
    "Also write code that checks and handles potential problems"
   ]
  },
  {
   "attachments": {},
   "cell_type": "markdown",
   "id": "662c0ef9",
   "metadata": {},
   "source": [
    "# 1 Checks, balances, and contingencies"
   ]
  },
  {
   "cell_type": "markdown",
   "id": "8e6e25eb-71f2-4c59-9585-c9094c12f605",
   "metadata": {},
   "source": [
    "Check your code using *assert* and *try-except*"
   ]
  },
  {
   "attachments": {},
   "cell_type": "markdown",
   "id": "ce105d31",
   "metadata": {},
   "source": [
    "## 1.1 assert"
   ]
  },
  {
   "cell_type": "markdown",
   "id": "7fc7da51-1ca3-4b88-b3c0-8b47f4c4eaf9",
   "metadata": {},
   "source": [
    "BASIC SYNTAX\n",
    "\n",
    "assert **condition to check** *message* "
   ]
  },
  {
   "cell_type": "code",
   "execution_count": 56,
   "id": "449a522d-5000-4a39-ae3c-b308c58778da",
   "metadata": {},
   "outputs": [
    {
     "name": "stdin",
     "output_type": "stream",
     "text": [
      "What is your x? 4\n"
     ]
    }
   ],
   "source": [
    "x = int(input('What is your x?'))\n",
    "assert x>=0, \"x is positive!\""
   ]
  },
  {
   "cell_type": "code",
   "execution_count": 8,
   "id": "b41ada78-dd38-4e07-98ca-7578a031f04a",
   "metadata": {},
   "outputs": [
    {
     "name": "stdin",
     "output_type": "stream",
     "text": [
      "What is your x? 10\n"
     ]
    }
   ],
   "source": [
    "#assert checks if the condition FAILS\n",
    "x = int(input('What is your x?'))\n",
    "assert x>=0, \"x is negative now!\" #if input x is positive, it lets it continue"
   ]
  },
  {
   "cell_type": "code",
   "execution_count": 9,
   "id": "807b9294-ea33-4f3f-9723-4d32bacb434a",
   "metadata": {},
   "outputs": [
    {
     "name": "stdin",
     "output_type": "stream",
     "text": [
      "What is your x? -2\n"
     ]
    },
    {
     "ename": "AssertionError",
     "evalue": "x is negative now",
     "output_type": "error",
     "traceback": [
      "\u001b[0;31m---------------------------------------------------------------------------\u001b[0m",
      "\u001b[0;31mAssertionError\u001b[0m                            Traceback (most recent call last)",
      "Cell \u001b[0;32mIn[9], line 2\u001b[0m\n\u001b[1;32m      1\u001b[0m x \u001b[38;5;241m=\u001b[39m \u001b[38;5;28mint\u001b[39m(\u001b[38;5;28minput\u001b[39m(\u001b[38;5;124m'\u001b[39m\u001b[38;5;124mWhat is your x?\u001b[39m\u001b[38;5;124m'\u001b[39m))\n\u001b[0;32m----> 2\u001b[0m \u001b[38;5;28;01massert\u001b[39;00m x\u001b[38;5;241m>\u001b[39m\u001b[38;5;241m=\u001b[39m\u001b[38;5;241m0\u001b[39m, \u001b[38;5;124m\"\u001b[39m\u001b[38;5;124mx is negative now\u001b[39m\u001b[38;5;124m\"\u001b[39m \u001b[38;5;66;03m#if input x is negative, it shows ERROR\u001b[39;00m\n",
      "\u001b[0;31mAssertionError\u001b[0m: x is negative now"
     ]
    }
   ],
   "source": [
    "x = int(input('What is your x?'))\n",
    "assert x>=0, \"x is negative now\" #if input x is negative, it shows ERROR"
   ]
  },
  {
   "attachments": {},
   "cell_type": "markdown",
   "id": "e66c0d1f",
   "metadata": {},
   "source": [
    "## 1.2 try-except"
   ]
  },
  {
   "cell_type": "markdown",
   "id": "5bf5e7bd-c3e1-467a-b024-c136dd465732",
   "metadata": {},
   "source": [
    "Mistakes are known as 'EXCEPTIONS'\n",
    "\n",
    "try-except flow to check "
   ]
  },
  {
   "cell_type": "code",
   "execution_count": 10,
   "id": "0f7ae91b-0f5e-432d-82f8-0e3b4d23feb3",
   "metadata": {},
   "outputs": [
    {
     "name": "stdin",
     "output_type": "stream",
     "text": [
      "Give me a number and I will calculate its square. 3\n"
     ]
    },
    {
     "name": "stdout",
     "output_type": "stream",
     "text": [
      "The square of 3 is 9!\n"
     ]
    }
   ],
   "source": [
    "number=input(\"Give me a number and I will calculate its square.\")\n",
    "square=int(number)**2              # Convert English to number\n",
    "print(f'The square of {number} is {square}!')"
   ]
  },
  {
   "cell_type": "code",
   "execution_count": 55,
   "id": "3d90d53c-1067-48bf-bbac-edc602d2a343",
   "metadata": {},
   "outputs": [
    {
     "name": "stdin",
     "output_type": "stream",
     "text": [
      "Give a number to calculate the square of: 1.333\n"
     ]
    },
    {
     "name": "stdout",
     "output_type": "stream",
     "text": [
      "cannot square lah your number, 1.333!\n"
     ]
    }
   ],
   "source": [
    "try: \n",
    "    number = input('Give a number to calculate the square of:')\n",
    "    square = int(number)**2\n",
    "    print(f'The square is {square}!')\n",
    "except:\n",
    "    print(f'cannot square lah your number, {number}!')"
   ]
  },
  {
   "attachments": {},
   "cell_type": "markdown",
   "id": "6f75d60c",
   "metadata": {},
   "source": [
    "## 1.3 A simple suggestion"
   ]
  },
  {
   "cell_type": "markdown",
   "id": "f5154b14-d01f-46c1-a458-a1d76e9fd94e",
   "metadata": {},
   "source": [
    "Add print() functions here and there along uour code to know what is happening and find the place where things are going wrong - like a user guide for my code"
   ]
  },
  {
   "attachments": {},
   "cell_type": "markdown",
   "id": "435d9d83",
   "metadata": {},
   "source": [
    "# 2 Some loose ends"
   ]
  },
  {
   "cell_type": "markdown",
   "id": "e4801f64-6236-436c-b9f1-28a7a7714f6d",
   "metadata": {},
   "source": [
    "3 ways to pass a value to an argument: positoinal, keyword, default"
   ]
  },
  {
   "attachments": {},
   "cell_type": "markdown",
   "id": "5fef974c",
   "metadata": {},
   "source": [
    "## 2.1 Positional, keyword and default arguments"
   ]
  },
  {
   "cell_type": "code",
   "execution_count": 12,
   "id": "b05f2115-b721-4c76-9e49-6c8a7f5e36fb",
   "metadata": {},
   "outputs": [],
   "source": [
    "#sbs for side-by-side\n",
    "def sbs(a,b, c=42):\n",
    "    return f'{a:2d}|{b:2d}|{c:2d}'"
   ]
  },
  {
   "cell_type": "markdown",
   "id": "45de5570-b053-41ce-877a-0780bc8ea057",
   "metadata": {},
   "source": [
    "```POSITIONAL```"
   ]
  },
  {
   "cell_type": "code",
   "execution_count": 15,
   "id": "b620f851-b5ee-4dd2-9e24-b372796478ce",
   "metadata": {},
   "outputs": [
    {
     "data": {
      "text/plain": [
       "' 1| 2| 3'"
      ]
     },
     "execution_count": 15,
     "metadata": {},
     "output_type": "execute_result"
    }
   ],
   "source": [
    "#assign values 1,2,3 to a,b,c\n",
    "sbs(1,2,3)"
   ]
  },
  {
   "cell_type": "markdown",
   "id": "823eb2dd-5215-4f11-97d6-eb3294c99332",
   "metadata": {},
   "source": [
    "```KEYWORDS```"
   ]
  },
  {
   "cell_type": "code",
   "execution_count": 17,
   "id": "a1e23acf-bf7d-4577-ae30-db6f43fb8587",
   "metadata": {},
   "outputs": [
    {
     "data": {
      "text/plain": [
       "' 2| 1| 3'"
      ]
     },
     "execution_count": 17,
     "metadata": {},
     "output_type": "execute_result"
    }
   ],
   "source": [
    "sbs(c=3, b=1, a=2) #order doesnt matter"
   ]
  },
  {
   "cell_type": "markdown",
   "id": "a843a1fe-6b0f-4ff2-8d45-c9df46ccff90",
   "metadata": {},
   "source": [
    "```DEFAULT```"
   ]
  },
  {
   "cell_type": "code",
   "execution_count": 18,
   "id": "3be4e668-fe2b-4260-b398-4bc95bcb4f31",
   "metadata": {},
   "outputs": [
    {
     "data": {
      "text/plain": [
       "' 1| 2|42'"
      ]
     },
     "execution_count": 18,
     "metadata": {},
     "output_type": "execute_result"
    }
   ],
   "source": [
    "sbs(1, b=2)"
   ]
  },
  {
   "cell_type": "markdown",
   "id": "082d8da1-8a4e-44d7-a61d-c3f940290740",
   "metadata": {},
   "source": [
    "```MORE```"
   ]
  },
  {
   "cell_type": "code",
   "execution_count": 19,
   "id": "5f7c2241-bd87-4b3c-b779-bfa213af298f",
   "metadata": {},
   "outputs": [
    {
     "data": {
      "text/plain": [
       "' 1| 2|42'"
      ]
     },
     "execution_count": 19,
     "metadata": {},
     "output_type": "execute_result"
    }
   ],
   "source": [
    "sbs(1, 2)           # Two positional, 1 default"
   ]
  },
  {
   "cell_type": "code",
   "execution_count": 21,
   "id": "2040c497-1d76-4e2d-ada5-f2a0ed295a1b",
   "metadata": {},
   "outputs": [
    {
     "data": {
      "text/plain": [
       "' 1| 2| 3'"
      ]
     },
     "execution_count": 21,
     "metadata": {},
     "output_type": "execute_result"
    }
   ],
   "source": [
    "sbs(1, 2, 3)        # Three positional"
   ]
  },
  {
   "cell_type": "code",
   "execution_count": 22,
   "id": "6ee81ffe-f42f-416f-8daf-e2b72b06c6a9",
   "metadata": {},
   "outputs": [
    {
     "data": {
      "text/plain": [
       "' 1| 2|42'"
      ]
     },
     "execution_count": 22,
     "metadata": {},
     "output_type": "execute_result"
    }
   ],
   "source": [
    "sbs(a=1, b=2)       # Two keyword, 1 default"
   ]
  },
  {
   "cell_type": "code",
   "execution_count": 23,
   "id": "d2de24c1-a6b3-4dca-84d5-e9008735c408",
   "metadata": {},
   "outputs": [
    {
     "data": {
      "text/plain": [
       "' 2| 1| 3'"
      ]
     },
     "execution_count": 23,
     "metadata": {},
     "output_type": "execute_result"
    }
   ],
   "source": [
    "sbs(c=3, b=1, a=2)  # Three keyword"
   ]
  },
  {
   "cell_type": "code",
   "execution_count": 24,
   "id": "3bc6bf5e-a2b4-4bf3-8f88-5c93ae1d0a1d",
   "metadata": {},
   "outputs": [
    {
     "data": {
      "text/plain": [
       "' 1| 2| 3'"
      ]
     },
     "execution_count": 24,
     "metadata": {},
     "output_type": "execute_result"
    }
   ],
   "source": [
    "sbs(1, c=3, b=2)    # One positional, 2 keyword"
   ]
  },
  {
   "cell_type": "code",
   "execution_count": 25,
   "id": "b53fed0b-9422-4cf0-870a-2a87b0b5c4ea",
   "metadata": {},
   "outputs": [
    {
     "data": {
      "text/plain": [
       "' 1| 2|42'"
      ]
     },
     "execution_count": 25,
     "metadata": {},
     "output_type": "execute_result"
    }
   ],
   "source": [
    "sbs(1, b=2)         # One positional, 1 keyword, 1 default"
   ]
  },
  {
   "cell_type": "code",
   "execution_count": 28,
   "id": "cd093dfd-8a1a-4d21-9ad7-e8c174aaf1aa",
   "metadata": {},
   "outputs": [
    {
     "ename": "SyntaxError",
     "evalue": "positional argument follows keyword argument (2975829173.py, line 2)",
     "output_type": "error",
     "traceback": [
      "\u001b[0;36m  Cell \u001b[0;32mIn[28], line 2\u001b[0;36m\u001b[0m\n\u001b[0;31m    sbs(a=2, 1)      # Won't work.\u001b[0m\n\u001b[0m              ^\u001b[0m\n\u001b[0;31mSyntaxError\u001b[0m\u001b[0;31m:\u001b[0m positional argument follows keyword argument\n"
     ]
    }
   ],
   "source": [
    "# Keywords cannot be followed by positional arguments but other way can\n",
    "sbs(a=2, 1)      # Won't work.                          "
   ]
  },
  {
   "attachments": {},
   "cell_type": "markdown",
   "id": "2d4d7acb",
   "metadata": {},
   "source": [
    "## 2.2 Docstrings"
   ]
  },
  {
   "cell_type": "code",
   "execution_count": 35,
   "id": "fbc7c5a7-34f1-47da-a302-149f71a37709",
   "metadata": {},
   "outputs": [],
   "source": [
    "def sbs(a, b, c=42):\n",
    "    ''' \n",
    "    A test function to demonstrate how \n",
    "    positional, keyword and default arguments \n",
    "    work. This docstring can be multiple lines.\n",
    "    '''\n",
    "    return f'{a: 2d}|{b: 2d}|{c: 2d}'"
   ]
  },
  {
   "cell_type": "code",
   "execution_count": 33,
   "id": "a6f97e14-a715-478c-8a4f-5b44f16493da",
   "metadata": {},
   "outputs": [
    {
     "name": "stdout",
     "output_type": "stream",
     "text": [
      "Help on function sbs in module __main__:\n",
      "\n",
      "sbs(a, b, c=42)\n",
      "    A test function to demonstrate how \n",
      "    positional, keyword and default arguments \n",
      "    work.\n",
      "\n"
     ]
    }
   ],
   "source": [
    "help(sbs) #returns the docstring"
   ]
  },
  {
   "attachments": {},
   "cell_type": "markdown",
   "id": "373d6a45",
   "metadata": {},
   "source": [
    "## 2.3 Function are first-class citizens"
   ]
  },
  {
   "cell_type": "code",
   "execution_count": 38,
   "id": "bbdf6841-d773-4095-a28b-9711c5a2730b",
   "metadata": {},
   "outputs": [],
   "source": [
    "import numpy as np"
   ]
  },
  {
   "cell_type": "code",
   "execution_count": 41,
   "id": "4a0866da-46a8-433c-9540-f9c00825eda0",
   "metadata": {},
   "outputs": [
    {
     "data": {
      "text/plain": [
       "1.0"
      ]
     },
     "execution_count": 41,
     "metadata": {},
     "output_type": "execute_result"
    }
   ],
   "source": [
    "def func(angle, trig_func):\n",
    "        return trig_func(angle)\n",
    "\n",
    "# Let's use the function\n",
    "func(np.pi/2, np.sin)        "
   ]
  },
  {
   "cell_type": "code",
   "execution_count": 42,
   "id": "ee4d139d-a9d8-46ac-8b07-38866ed7e733",
   "metadata": {},
   "outputs": [
    {
     "data": {
      "text/plain": [
       "6.123233995736766e-17"
      ]
     },
     "execution_count": 42,
     "metadata": {},
     "output_type": "execute_result"
    }
   ],
   "source": [
    "func(np.pi/2, np.cos)        "
   ]
  },
  {
   "cell_type": "code",
   "execution_count": 43,
   "id": "bd6a9780-d75e-4c65-8155-d8e3fb3e0229",
   "metadata": {},
   "outputs": [
    {
     "data": {
      "text/plain": [
       "-1.0"
      ]
     },
     "execution_count": 43,
     "metadata": {},
     "output_type": "execute_result"
    }
   ],
   "source": [
    "func(np.pi/2, lambda x: np.cos(2*x))  "
   ]
  },
  {
   "attachments": {},
   "cell_type": "markdown",
   "id": "9c156b0b",
   "metadata": {},
   "source": [
    "## 2.4 More about unpacking"
   ]
  },
  {
   "cell_type": "markdown",
   "id": "c7f10a11-51cd-4ffa-b3bb-67f287633ffc",
   "metadata": {},
   "source": [
    "```Example 1```"
   ]
  },
  {
   "cell_type": "code",
   "execution_count": 49,
   "id": "252cdd46-bba7-47d9-8730-1db22ae9efb1",
   "metadata": {},
   "outputs": [
    {
     "data": {
      "text/plain": [
       "(1, 2, 3)"
      ]
     },
     "execution_count": 49,
     "metadata": {},
     "output_type": "execute_result"
    }
   ],
   "source": [
    "x,y,z=[1,2,3] #list\n",
    "x,y,z"
   ]
  },
  {
   "cell_type": "markdown",
   "id": "9077a572-c642-4c7a-be34-5f43d4976655",
   "metadata": {},
   "source": [
    "```Example 2```"
   ]
  },
  {
   "cell_type": "code",
   "execution_count": 50,
   "id": "1bfccae5-eb0a-4952-8cf7-8497025f01f1",
   "metadata": {},
   "outputs": [
    {
     "data": {
      "text/plain": [
       "(1, 2, 3)"
      ]
     },
     "execution_count": 50,
     "metadata": {},
     "output_type": "execute_result"
    }
   ],
   "source": [
    "x, y, z = np.array([1, 2, 3]) #array\n",
    "x, y, z"
   ]
  },
  {
   "cell_type": "markdown",
   "id": "23ed628c-e229-48cc-8cf3-eafee297404e",
   "metadata": {},
   "source": [
    "```Example 3```"
   ]
  },
  {
   "cell_type": "code",
   "execution_count": 52,
   "id": "5faf326e-458e-4413-8258-a3d5f43daea8",
   "metadata": {},
   "outputs": [
    {
     "data": {
      "text/plain": [
       "(1, [2, 3, 4], 5)"
      ]
     },
     "execution_count": 52,
     "metadata": {},
     "output_type": "execute_result"
    }
   ],
   "source": [
    "x, *y, z = np.array([1, 2, 3, 4, 5]) #*y make y a sub-array of the middle numbers\n",
    "x, y, z"
   ]
  },
  {
   "cell_type": "markdown",
   "id": "89e73247-3d2f-401e-96dd-5c7fdb2247b4",
   "metadata": {},
   "source": [
    "```Example 4```"
   ]
  },
  {
   "cell_type": "code",
   "execution_count": 54,
   "id": "9d6ccf8d-c062-4952-9c9b-e34dd8ecafb9",
   "metadata": {},
   "outputs": [
    {
     "data": {
      "text/plain": [
       "(1, 5)"
      ]
     },
     "execution_count": 54,
     "metadata": {},
     "output_type": "execute_result"
    }
   ],
   "source": [
    "x, *_, y = [1, 2, 3, 4, 5]  #tells python to ignore all the numbers\n",
    "x, y"
   ]
  }
 ],
 "metadata": {
  "kernelspec": {
   "display_name": "Python 3 (ipykernel)",
   "language": "python",
   "name": "python3"
  },
  "language_info": {
   "codemirror_mode": {
    "name": "ipython",
    "version": 3
   },
   "file_extension": ".py",
   "mimetype": "text/x-python",
   "name": "python",
   "nbconvert_exporter": "python",
   "pygments_lexer": "ipython3",
   "version": "3.11.7"
  },
  "toc": {
   "base_numbering": 1,
   "nav_menu": {},
   "number_sections": true,
   "sideBar": true,
   "skip_h1_title": false,
   "title_cell": "Table of Contents",
   "title_sidebar": "Contents",
   "toc_cell": false,
   "toc_position": {},
   "toc_section_display": true,
   "toc_window_display": false
  },
  "vscode": {
   "interpreter": {
    "hash": "31f2aee4e71d21fbe5cf8b01ff0e069b9275f58929596ceb00d14d90e3e16cd6"
   }
  }
 },
 "nbformat": 4,
 "nbformat_minor": 5
}

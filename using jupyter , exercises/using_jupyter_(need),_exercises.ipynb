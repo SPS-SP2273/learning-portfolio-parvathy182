{
 "cells": [
  {
   "attachments": {},
   "cell_type": "markdown",
   "id": "123456",
   "metadata": {},
   "source": [
    "<div style=\"text-align:left;font-size:2em\"><span style=\"font-weight:bolder;font-size:1.25em\">SP2273 | Learning Portfolio</span><br><br><span style=\"font-weight:bold;color:darkred\">Using Jupyter (Need), Exercises</span></div>"
   ]
  },
  {
   "attachments": {},
   "cell_type": "markdown",
   "id": "2a873507",
   "metadata": {},
   "source": [
    "## Quadratic Equations"
   ]
  },
  {
   "attachments": {},
   "cell_type": "markdown",
   "id": "c36aa05b",
   "metadata": {},
   "source": [
    "### Introduction"
   ]
  },
  {
   "cell_type": "markdown",
   "id": "42d7b176-ff5a-405b-a116-f122a7f63bb4",
   "metadata": {},
   "source": [
    "![](https://upload.wikimedia.org/wikipedia/commons/thumb/f/f8/Polynomialdeg2.svg/300px-Polynomialdeg2.svg.png)"
   ]
  },
  {
   "cell_type": "markdown",
   "id": "19879c86-aae3-4f55-9636-d0a4c8a6b6cb",
   "metadata": {},
   "source": [
    "*(Image from the [Wikipedia page on Quadratic equations](https://en.wikipedia.org/wiki/Quadratic_equation))*"
   ]
  },
  {
   "cell_type": "markdown",
   "id": "ab9698ba-03e5-4efe-a6cf-65690c564691",
   "metadata": {},
   "source": [
    "The general form of a quadratic equation is:"
   ]
  },
  {
   "cell_type": "markdown",
   "id": "d4042583-b2c7-4af7-9c5d-71d11b99dda8",
   "metadata": {},
   "source": [
    "$$\n",
    "ax^{2} + bx + c = 0\n",
    "$$"
   ]
  },
  {
   "attachments": {},
   "cell_type": "markdown",
   "id": "fe4cba51",
   "metadata": {},
   "source": [
    "### Solutions"
   ]
  },
  {
   "cell_type": "markdown",
   "id": "9efe598f-b497-4760-8f73-86475f5d8625",
   "metadata": {},
   "source": [
    "Provided $a\\ne0$, we can use an elementary algebraic method called [completing the square](https://en.wikipedia.org/wiki/Completing_the_square) to show that a quadratic equation has the following solution:"
   ]
  },
  {
   "cell_type": "markdown",
   "id": "d4727ff6-a894-4246-b1d9-ffd5afcc93ea",
   "metadata": {},
   "source": [
    "$$\n",
    "x = \\dfrac{-b \\pm \\sqrt{b^2-4ac}}{2a}\n",
    "$$"
   ]
  },
  {
   "attachments": {},
   "cell_type": "markdown",
   "id": "d39d321d",
   "metadata": {},
   "source": [
    "### Discriminant"
   ]
  },
  {
   "cell_type": "markdown",
   "id": "0bb63465-81cb-4730-8a8f-cb5a599b4558",
   "metadata": {},
   "source": [
    "The quantity $\\Delta=b^{2}-4ac$ is called the **discriminant** of the equation and decides the nature of its solutions. The table below shows the various possibilities."
   ]
  },
  {
   "cell_type": "markdown",
   "id": "692d3d9a-5eec-46ec-886f-10b0d72e0ccb",
   "metadata": {},
   "source": [
    "| Discriminant   |  Roots   |\n",
    "| :--- | --: | \n",
    "| $\\Delta=b^{2}-4ac=0$  |  A single solution of $-b/2ac$  |  \n",
    "| $\\Delta=b^{2}-4ac>0$   |  Two distinct solutions  |  \n",
    "| $\\Delta=b^{2}-4ac<0$   |  No real solution; both are complex  |   "
   ]
  },
  {
   "cell_type": "markdown",
   "id": "6d9a3a24-73c9-45d6-ba82-9ab873f1045e",
   "metadata": {},
   "source": [
    "# Exercise 2"
   ]
  },
  {
   "cell_type": "markdown",
   "id": "d3a69104-81ad-47dd-8889-bde53ef6c675",
   "metadata": {},
   "source": [
    "What is a Git repository?\n",
    "Git keeps tracks of ____BLANK____ in the files in our repository.\n",
    "What is a commit?\n",
    "What is a push?\n",
    "What is a pull?\n",
    "What is the difference between GitHub and GitHub Desktop?"
   ]
  },
  {
   "cell_type": "markdown",
   "id": "90e197ef-eee2-4047-9611-3be06babc075",
   "metadata": {},
   "source": [
    "1. What is a Git repository?\n",
    "   Ans: A central storage location for managing and tracking changes in files."
   ]
  },
  {
   "cell_type": "markdown",
   "id": "30b7031d-06a7-4b87-8671-7b79b14902c2",
   "metadata": {},
   "source": [
    "2. Git keeps tracks of **CHANGES** in the files in our repository."
   ]
  },
  {
   "cell_type": "markdown",
   "id": "a5e1cd63-5ef4-4d24-8902-700731054006",
   "metadata": {},
   "source": [
    "3. What is a commit?\n",
    "Ans: Commit is when you submit a change in your file you made locally into GitHUb for everyone to see. Share the changes you made locally in your file with everyone who can access the file"
   ]
  },
  {
   "cell_type": "markdown",
   "id": "2b12ce39-d134-4c03-b4c0-036910a08cad",
   "metadata": {},
   "source": [
    "4. What is a push? \n",
    "Ans: It allows the changes made in the file locally to be reflected in the repository."
   ]
  },
  {
   "cell_type": "markdown",
   "id": "01a00c22-419d-4c23-9130-ce97a6dc3baf",
   "metadata": {},
   "source": [
    "5. What is a pull? Ans: It gets latest commits made visible in the file locally."
   ]
  },
  {
   "cell_type": "markdown",
   "id": "3e096f22-486c-4d7b-a4c4-8fd88d00a781",
   "metadata": {},
   "source": [
    "6. What is the difference between GitHub and GitHub Desktop?\n",
    "Ans: GitHub is a online cloud that allows us to store and share files to collaborate. GitHub desktop is the application version of GitHub with a different GUI that makes using GitHub easier."
   ]
  }
 ],
 "metadata": {
  "kernelspec": {
   "display_name": "Python 3 (ipykernel)",
   "language": "python",
   "name": "python3"
  },
  "language_info": {
   "codemirror_mode": {
    "name": "ipython",
    "version": 3
   },
   "file_extension": ".py",
   "mimetype": "text/x-python",
   "name": "python",
   "nbconvert_exporter": "python",
   "pygments_lexer": "ipython3",
   "version": "3.11.7"
  },
  "toc": {
   "base_numbering": 1,
   "nav_menu": {},
   "number_sections": true,
   "sideBar": true,
   "skip_h1_title": false,
   "title_cell": "Table of Contents",
   "title_sidebar": "Contents",
   "toc_cell": false,
   "toc_position": {},
   "toc_section_display": true,
   "toc_window_display": false
  },
  "vscode": {
   "interpreter": {
    "hash": "31f2aee4e71d21fbe5cf8b01ff0e069b9275f58929596ceb00d14d90e3e16cd6"
   }
  }
 },
 "nbformat": 4,
 "nbformat_minor": 5
}

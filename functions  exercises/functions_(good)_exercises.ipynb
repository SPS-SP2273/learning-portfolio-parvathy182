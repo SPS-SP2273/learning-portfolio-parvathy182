{
 "cells": [
  {
   "attachments": {},
   "cell_type": "markdown",
   "id": "123456",
   "metadata": {},
   "source": [
    "<div style=\"text-align:left;font-size:2em\"><span style=\"font-weight:bolder;font-size:1.25em\">SP2273 | Learning Portfolio</span><br><br><span style=\"font-weight:bold;color:darkred\">Functions (Good) Exercises</span></div>"
   ]
  },
  {
   "cell_type": "code",
   "execution_count": 56,
   "id": "ff503785-0544-40e9-9afc-d9eed6401142",
   "metadata": {},
   "outputs": [],
   "source": [
    "#decided to limit all results to 2dp so it does not look that messy:)"
   ]
  },
  {
   "cell_type": "markdown",
   "id": "a13cbb6e-16e0-470c-8a35-3fab5a06881b",
   "metadata": {},
   "source": [
    "```EXAMPLE 1```"
   ]
  },
  {
   "cell_type": "code",
   "execution_count": 34,
   "id": "55bdb519-b263-4ac6-90aa-e128b186cef0",
   "metadata": {},
   "outputs": [],
   "source": [
    "def convert_celsius(temperature_celsius, target_scale='Farenheit'): \n",
    "    if target_scale == 'Kelvin':\n",
    "        kelvin = temperature_celsius+273.5\n",
    "        return f'{kelvin}K'\n",
    "    else:\n",
    "        faren = (temperature_celsius*(9/5))+32\n",
    "        return f'{faren:.2f} farenheit'"
   ]
  },
  {
   "cell_type": "code",
   "execution_count": 35,
   "id": "8583e951-5805-4f73-a38c-1a2f75c22396",
   "metadata": {},
   "outputs": [
    {
     "data": {
      "text/plain": [
       "'98.60 farenheit'"
      ]
     },
     "execution_count": 35,
     "metadata": {},
     "output_type": "execute_result"
    }
   ],
   "source": [
    "convert_celsius(37)"
   ]
  },
  {
   "cell_type": "code",
   "execution_count": 36,
   "id": "90c3487a-6cff-4197-b6e4-9e00b3a93957",
   "metadata": {},
   "outputs": [
    {
     "data": {
      "text/plain": [
       "'310.5K'"
      ]
     },
     "execution_count": 36,
     "metadata": {},
     "output_type": "execute_result"
    }
   ],
   "source": [
    "convert_celsius(37, 'Kelvin')"
   ]
  },
  {
   "cell_type": "markdown",
   "id": "098812b1-bc0f-4680-bb91-1c1ca7448223",
   "metadata": {},
   "source": [
    "```EXAMPLE 2```"
   ]
  },
  {
   "cell_type": "code",
   "execution_count": 38,
   "id": "792f2617-639f-4dbc-bc01-6b16a40d86c4",
   "metadata": {},
   "outputs": [],
   "source": [
    "def convert_farenheit(temperature_farenheit, target_scale='Celsius'):\n",
    "    if target_scale == 'Kelvin':\n",
    "        kelvin = (temperature_farenheit-32)*(5/9)+273.5\n",
    "        return f'{kelvin:.2f}K'\n",
    "    else:\n",
    "        celsius = (temperature_farenheit-32)*(5/9)\n",
    "        return f'{celsius:.2f} degree celsius'"
   ]
  },
  {
   "cell_type": "code",
   "execution_count": 42,
   "id": "c8bb06a5-58e8-46cd-b4a7-7aa2134eaaae",
   "metadata": {},
   "outputs": [
    {
     "data": {
      "text/plain": [
       "'37.00 degree celsius'"
      ]
     },
     "execution_count": 42,
     "metadata": {},
     "output_type": "execute_result"
    }
   ],
   "source": [
    "convert_farenheit(98.60)"
   ]
  },
  {
   "cell_type": "code",
   "execution_count": 41,
   "id": "dba2e893-7c1d-41f7-a39b-d72e5cac7fda",
   "metadata": {},
   "outputs": [
    {
     "data": {
      "text/plain": [
       "'428.22K'"
      ]
     },
     "execution_count": 41,
     "metadata": {},
     "output_type": "execute_result"
    }
   ],
   "source": [
    "convert_farenheit(310.5, 'Kelvin')"
   ]
  },
  {
   "cell_type": "markdown",
   "id": "8a7f9258-4e8d-4bf8-9685-84e5b5a06996",
   "metadata": {},
   "source": [
    "```EXAMPLE 3```"
   ]
  },
  {
   "cell_type": "code",
   "execution_count": 49,
   "id": "9ad8ad69-164f-49ac-b239-b378c07c818c",
   "metadata": {},
   "outputs": [],
   "source": [
    "def convert_kelvin(Ktemp, target_scale='Celsius'):\n",
    "    if target_scale == 'Farenheit':\n",
    "        faren = (Ktemp - 273.15)*(9/5) + 32\n",
    "        return f'{faren:.2f} Farenheit'\n",
    "    else:\n",
    "        celsius = Ktemp-273.15\n",
    "        return f'{celsius:.2f} degree celsius'\n",
    "\n",
    "def convert_temperature(temperature, source_scale, target_scale):\n",
    "    if source_scale == 'Celsius':\n",
    "        return convert_celsius(temperature,target_scale)\n",
    "    elif source_scale == 'Farenheit':\n",
    "        return convert_farenheit(temperature, target_scale)\n",
    "    else:\n",
    "        return convert_kelvin(temperature, target_scale)"
   ]
  },
  {
   "cell_type": "code",
   "execution_count": 50,
   "id": "e6cc6505-9a76-4431-8591-9fd141ff6024",
   "metadata": {},
   "outputs": [
    {
     "data": {
      "text/plain": [
       "'98.60 farenheit'"
      ]
     },
     "execution_count": 50,
     "metadata": {},
     "output_type": "execute_result"
    }
   ],
   "source": [
    "convert_temperature(37, 'Celsius', 'Farenheit')"
   ]
  },
  {
   "cell_type": "code",
   "execution_count": 51,
   "id": "c41c0754-b20a-4010-bca3-5d2cc996b61d",
   "metadata": {},
   "outputs": [
    {
     "data": {
      "text/plain": [
       "'310.5K'"
      ]
     },
     "execution_count": 51,
     "metadata": {},
     "output_type": "execute_result"
    }
   ],
   "source": [
    "convert_temperature(37, 'Celsius', 'Kelvin')"
   ]
  },
  {
   "cell_type": "code",
   "execution_count": 52,
   "id": "5e0d44cb-5231-43bb-9ddf-da6952a04f4a",
   "metadata": {},
   "outputs": [
    {
     "data": {
      "text/plain": [
       "'37.00 degree celsius'"
      ]
     },
     "execution_count": 52,
     "metadata": {},
     "output_type": "execute_result"
    }
   ],
   "source": [
    "convert_temperature(98.60, 'Farenheit', 'Celsius')"
   ]
  },
  {
   "cell_type": "code",
   "execution_count": 53,
   "id": "d8d1ec75-868e-4f4e-96fa-fcd7b46130a0",
   "metadata": {},
   "outputs": [
    {
     "data": {
      "text/plain": [
       "'428.22K'"
      ]
     },
     "execution_count": 53,
     "metadata": {},
     "output_type": "execute_result"
    }
   ],
   "source": [
    "convert_temperature(310.5, 'Farenheit','Kelvin')"
   ]
  },
  {
   "cell_type": "code",
   "execution_count": 54,
   "id": "d312858a-40d3-4629-bbec-8aa24e2c2215",
   "metadata": {},
   "outputs": [
    {
     "data": {
      "text/plain": [
       "'311.13 Farenheit'"
      ]
     },
     "execution_count": 54,
     "metadata": {},
     "output_type": "execute_result"
    }
   ],
   "source": [
    "convert_temperature(428.22, 'Kelvin','Farenheit')"
   ]
  },
  {
   "cell_type": "code",
   "execution_count": 55,
   "id": "ffaa9203-a402-4660-8e6e-0c9dc59c79b5",
   "metadata": {},
   "outputs": [
    {
     "data": {
      "text/plain": [
       "'37.35 degree celsius'"
      ]
     },
     "execution_count": 55,
     "metadata": {},
     "output_type": "execute_result"
    }
   ],
   "source": [
    "convert_temperature(310.5, 'Kelvin','Celsius')"
   ]
  }
 ],
 "metadata": {
  "kernelspec": {
   "display_name": "Python 3 (ipykernel)",
   "language": "python",
   "name": "python3"
  },
  "language_info": {
   "codemirror_mode": {
    "name": "ipython",
    "version": 3
   },
   "file_extension": ".py",
   "mimetype": "text/x-python",
   "name": "python",
   "nbconvert_exporter": "python",
   "pygments_lexer": "ipython3",
   "version": "3.11.7"
  },
  "toc": {
   "base_numbering": 1,
   "nav_menu": {},
   "number_sections": true,
   "sideBar": true,
   "skip_h1_title": false,
   "title_cell": "Table of Contents",
   "title_sidebar": "Contents",
   "toc_cell": false,
   "toc_position": {},
   "toc_section_display": true,
   "toc_window_display": false
  },
  "vscode": {
   "interpreter": {
    "hash": "31f2aee4e71d21fbe5cf8b01ff0e069b9275f58929596ceb00d14d90e3e16cd6"
   }
  }
 },
 "nbformat": 4,
 "nbformat_minor": 5
}

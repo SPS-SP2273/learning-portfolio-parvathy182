{
 "cells": [
  {
   "attachments": {},
   "cell_type": "markdown",
   "id": "123456",
   "metadata": {},
   "source": [
    "<div style=\"text-align:left;font-size:2em\"><span style=\"font-weight:bolder;font-size:1.25em\">SP2273 | Learning Portfolio</span><br><br><span style=\"font-weight:bold;color:darkred\">Functions (Need) Exercises</span></div>"
   ]
  },
  {
   "cell_type": "markdown",
   "id": "18cb3d67-9b8f-4704-99f5-e5c5ed126c85",
   "metadata": {},
   "source": [
    "```EXERCISE 1```"
   ]
  },
  {
   "cell_type": "code",
   "execution_count": 8,
   "id": "e0383603-abcf-4913-b9f2-3efa6507a0a5",
   "metadata": {},
   "outputs": [],
   "source": [
    "def greeting(name):\n",
    "    if name == 'Batman':\n",
    "        return 'Hello Batman! So, nice to meet you!'\n",
    "    return f'Hello {name}!'"
   ]
  },
  {
   "cell_type": "code",
   "execution_count": 9,
   "id": "ed027b51-7de0-4e62-86ee-cf0c1abbf6f0",
   "metadata": {},
   "outputs": [
    {
     "data": {
      "text/plain": [
       "'Hello Batman! So, nice to meet you!'"
      ]
     },
     "execution_count": 9,
     "metadata": {},
     "output_type": "execute_result"
    }
   ],
   "source": [
    "greeting('Batman')"
   ]
  },
  {
   "cell_type": "code",
   "execution_count": 10,
   "id": "c99a887f-7565-42d3-8b0a-23126f69d867",
   "metadata": {},
   "outputs": [
    {
     "data": {
      "text/plain": [
       "'Hello bat!'"
      ]
     },
     "execution_count": 10,
     "metadata": {},
     "output_type": "execute_result"
    }
   ],
   "source": [
    "greeting('bat')"
   ]
  },
  {
   "cell_type": "markdown",
   "id": "2381841c-fa00-4aaf-8915-61e0239d9d0b",
   "metadata": {},
   "source": [
    "The above code works withour an *else* statement because the second *return* line is out of the *if* loop. \n",
    "So as long as the name is 'Batman', Hello Batman! So, nice to meet you! will be returned.\n",
    "If it is not 'Batman', then it breaks out of the *if* loop and gives you Hello {name}!."
   ]
  },
  {
   "cell_type": "markdown",
   "id": "82d360aa-3c28-4ee1-b396-01bbbd8531f8",
   "metadata": {},
   "source": [
    "```EXERCISE 2```"
   ]
  },
  {
   "cell_type": "markdown",
   "id": "b5ef5ae5-5094-4a26-8b17-c588cfcf29c1",
   "metadata": {},
   "source": [
    "CHUBBY OR NOT?"
   ]
  },
  {
   "cell_type": "code",
   "execution_count": 29,
   "id": "2b6fcef4-66cf-47c6-b042-42cf0b307f7c",
   "metadata": {},
   "outputs": [
    {
     "name": "stdin",
     "output_type": "stream",
     "text": [
      "Height' in metres: 1.65\n",
      "Weight in kilograms: 49\n"
     ]
    }
   ],
   "source": [
    "calculate_bmi = h=input(\"Height' in metres:\"), w=input(\"Weight in kilograms:\")"
   ]
  },
  {
   "cell_type": "code",
   "execution_count": 51,
   "id": "1c9ab5d9-7490-489e-976c-7f469c141349",
   "metadata": {},
   "outputs": [],
   "source": [
    "def calculate_bmi(weight, height):\n",
    "    cats=['Underweight', 'Normal weight', 'Overweight', 'Obesity' ]\n",
    "    bmi = weight/(height**2)\n",
    "    if bmi<18.5:\n",
    "        return cats[0]\n",
    "    elif 18.5<bmi<24.9:\n",
    "        return cats[1]\n",
    "    elif 25<bmi<29.9:\n",
    "        return cats[2]\n",
    "    else:\n",
    "        return cats[3]"
   ]
  },
  {
   "cell_type": "code",
   "execution_count": 58,
   "id": "e0b86e03-fde0-45c6-ab1e-3599786d62de",
   "metadata": {},
   "outputs": [
    {
     "data": {
      "text/plain": [
       "'Underweight'"
      ]
     },
     "execution_count": 58,
     "metadata": {},
     "output_type": "execute_result"
    }
   ],
   "source": [
    "calculate_bmi(50,1.65)"
   ]
  },
  {
   "cell_type": "markdown",
   "id": "c3fcabdb-4196-41e0-8c15-0491a415a915",
   "metadata": {},
   "source": [
    "NOT CHUBBY in fact, too skinny"
   ]
  }
 ],
 "metadata": {
  "kernelspec": {
   "display_name": "Python 3 (ipykernel)",
   "language": "python",
   "name": "python3"
  },
  "language_info": {
   "codemirror_mode": {
    "name": "ipython",
    "version": 3
   },
   "file_extension": ".py",
   "mimetype": "text/x-python",
   "name": "python",
   "nbconvert_exporter": "python",
   "pygments_lexer": "ipython3",
   "version": "3.11.7"
  },
  "toc": {
   "base_numbering": 1,
   "nav_menu": {},
   "number_sections": true,
   "sideBar": true,
   "skip_h1_title": false,
   "title_cell": "Table of Contents",
   "title_sidebar": "Contents",
   "toc_cell": false,
   "toc_position": {},
   "toc_section_display": true,
   "toc_window_display": false
  },
  "vscode": {
   "interpreter": {
    "hash": "31f2aee4e71d21fbe5cf8b01ff0e069b9275f58929596ceb00d14d90e3e16cd6"
   }
  }
 },
 "nbformat": 4,
 "nbformat_minor": 5
}

{
 "cells": [
  {
   "cell_type": "markdown",
   "id": "132adeed-1b8c-4e0d-8af8-2fa07e632a6a",
   "metadata": {},
   "source": [
    "1. print(' ')\n",
    "2. if\n",
    "       print\n",
    "   else:\n",
    "       print\n",
    "3. #for comments\n",
    "4. variables age or text 'age'\n",
    "5. () function brackets, {} definition brackets, *[] data lists*\n",
    "*6. import packages*\n",
    "*7. = for assigning, == for asking/checking*\n",
    "       "
   ]
  },
  {
   "cell_type": "code",
   "execution_count": 3,
   "id": "94edfa94-99e1-41b2-9d59-656f74245439",
   "metadata": {},
   "outputs": [],
   "source": [
    "import math"
   ]
  },
  {
   "cell_type": "code",
   "execution_count": 4,
   "id": "2bea93da-d866-4bdd-acac-d7cacbd477df",
   "metadata": {},
   "outputs": [
    {
     "name": "stdout",
     "output_type": "stream",
     "text": [
      "3 4 5.0\n"
     ]
    }
   ],
   "source": [
    "x=3\n",
    "y=4\n",
    "z=math.sqrt(x**2 + y**2)\n",
    "print(x,y,z)"
   ]
  },
  {
   "cell_type": "markdown",
   "id": "3066a4f1-6c3c-49cb-bfc7-40da62db35c6",
   "metadata": {},
   "source": [
    "| #   |  Term   |  Description  |\n",
    "| :--- | :--: | ---: |\n",
    "| 1   |  Functions  |   A piece of code that excutes a specific task |\n",
    "| 2   |  Arguments  |   Something that is inserted into the function, and from which an output is produced. It is something a function works with |\n",
    "| 3   |  Comments  |   Something python does not read, can be used as notes |\n",
    "| 4   |  Indentations  |  python uses this to discriminate between true/Falses, and other functions etc  |\n",
    "| 5   |  Packages  | Brings in a set of non-built-in functions for use  |\n",
    "| 6   |  .  | Indicates the package to which the function belongs to package.function  |\n",
    "| 7   |  ..  |  Used in the (if,else) function if.....:  |\n",
    "| 8   |  []  | Used for a simple one-lined list |\n",
    "| 9   | [[[]]]  | For lists in lists |\n",
    "| 10   |  {}  | For deifining - as in a dictionary  |"
   ]
  },
  {
   "cell_type": "code",
   "execution_count": 5,
   "id": "6f7a57f2-5767-4f02-941a-31ff8aba4358",
   "metadata": {},
   "outputs": [
    {
     "data": {
      "text/plain": [
       "2.5"
      ]
     },
     "execution_count": 5,
     "metadata": {},
     "output_type": "execute_result"
    }
   ],
   "source": [
    "5/2 #Exact"
   ]
  },
  {
   "cell_type": "code",
   "execution_count": 6,
   "id": "6ce9e7ca-95fb-4aed-83f6-be3965c24334",
   "metadata": {},
   "outputs": [
    {
     "data": {
      "text/plain": [
       "2"
      ]
     },
     "execution_count": 6,
     "metadata": {},
     "output_type": "execute_result"
    }
   ],
   "source": [
    " 5//2 #round-down"
   ]
  },
  {
   "cell_type": "code",
   "execution_count": 7,
   "id": "e7e52159-20ec-44db-9ef2-e9afe7040c2a",
   "metadata": {
    "scrolled": true
   },
   "outputs": [
    {
     "data": {
      "text/plain": [
       "1"
      ]
     },
     "execution_count": 7,
     "metadata": {},
     "output_type": "execute_result"
    }
   ],
   "source": [
    "5%2 #remainder"
   ]
  }
 ],
 "metadata": {
  "kernelspec": {
   "display_name": "Python 3 (ipykernel)",
   "language": "python",
   "name": "python3"
  },
  "language_info": {
   "codemirror_mode": {
    "name": "ipython",
    "version": 3
   },
   "file_extension": ".py",
   "mimetype": "text/x-python",
   "name": "python",
   "nbconvert_exporter": "python",
   "pygments_lexer": "ipython3",
   "version": "3.11.7"
  }
 },
 "nbformat": 4,
 "nbformat_minor": 5
}
